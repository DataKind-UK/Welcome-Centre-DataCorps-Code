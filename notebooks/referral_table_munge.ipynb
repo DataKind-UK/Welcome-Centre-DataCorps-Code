{
 "cells": [
  {
   "cell_type": "code",
   "execution_count": 1,
   "metadata": {
    "collapsed": true
   },
   "outputs": [],
   "source": [
    "import pandas as pd\n",
    "import sqlite3\n",
    "\n",
    "path = '../../Welcome-Centre-DataCorps-Data/ClientDatabaseStructure.mdb.sqlite'\n",
    "con = sqlite3.connect(path)\n",
    "\n",
    "sql = \"\"\"select * from Referral limit 10;\"\"\"\n",
    "df = pd.read_sql(sql,con)"
   ]
  },
  {
   "cell_type": "code",
   "execution_count": 2,
   "metadata": {
    "collapsed": true
   },
   "outputs": [],
   "source": [
    "referrals = pd.read_sql(\"\"\"select * from Referral\n",
    "left join ReferralStatus on ReferralStatus.ReferralStatusId = Referral.StatusId\n",
    "left join (\n",
    "  select * from Client\n",
    "left join Ethnicity on Client.ClientEthnicityID = Ethnicity.EthnicityID\n",
    "left join Country on Client.ClientCountryID = Country.CountryId\n",
    "left join ResidencyStatus on Client.ClientResidencyId = ResidencyStatus.ResidencyId\n",
    "left join ClientAddressType on Client.ClientAddressTypeID = ClientAddressType.ClientAddressTypeID\n",
    "left join Locality on Client.AddressLocalityId = Locality.LocalityId\n",
    "  ) as client on client.ClientId = Referral.ClientId\n",
    "\n",
    "left join Ethnicity on Referral.EthnicityId = Ethnicity.EthnicityID\n",
    "left join Locality on Referral.AddressLocalityId = Locality.LocalityId\n",
    "left join ClientAddressType on Referral.AddressTypeId = ClientAddressType.ClientAddressTypeID\n",
    "left join ReferralAgency on Referral.ReferralAgencyId = ReferralAgency.ReferralAgencyId;\"\"\", con)\n",
    "referrals = referrals.set_index('ReferralInstanceId')"
   ]
  },
  {
   "cell_type": "code",
   "execution_count": 3,
   "metadata": {
    "collapsed": true
   },
   "outputs": [],
   "source": [
    "table_sql = \"\"\"select * from ReferralBenefit\n",
    "  inner join BenefitType on BenefitType.BenefitTypeId = ReferralBenefit.BenefitTypeId;\n",
    "select * from ReferralDietaryRequirements\n",
    "  inner join DietaryRequirements on ReferralDietaryRequirements.DietaryRequirementsID = DietaryRequirements.DietaryRequirementsID;\n",
    "select * from ReferralDocument\n",
    "  inner join DocumentEvidence on ReferralDocument.ReferralDocumentId = DocumentEvidence.DocumentEvidenceId;\n",
    "select * from ReferralDomesticCircumstances\n",
    "  inner join DomesticCircumstances on DomesticCircumstances.DomesticCircumstancesID = ReferralDomesticCircumstances.DomesticCircumstancesID;\n",
    "select * from ReferralIssue\n",
    "  inner join ClientIssueCodes on ClientIssueCodes.ClientIssueId = ReferralIssue.ClientIssueID;\n",
    "select * from ReferralReason\n",
    "  inner join ReferralReasonCodes on ReferralReasonCodes.ReferralReasonId = ReferralReason.ReferralReasonID;\"\"\"\n",
    "table_names = [t.split(' ')[3].strip() for t in table_sql.split(';')[:-1]]\n",
    "tables = {table_names[i]: pd.read_sql(t.strip(), con) for i, t in enumerate(table_sql.split(';')[:-1])}"
   ]
  },
  {
   "cell_type": "code",
   "execution_count": 4,
   "metadata": {
    "collapsed": true
   },
   "outputs": [],
   "source": [
    "column_mapping = {\n",
    "    'ReferralIssue': 'ClientIssueDescription',\n",
    "    'ReferralBenefit': 'BenefitTypeName',\n",
    "    'ReferralReason': 'ReferralReasonDescription',\n",
    "    'ReferralDietaryRequirements': 'DietaryRequirementsDescription',\n",
    "    'ReferralDomesticCircumstances': 'DomesticCircumstancesDescription',\n",
    "    'ReferralDocument': 'DocumentEvidenceDescription'\n",
    "}"
   ]
  },
  {
   "cell_type": "code",
   "execution_count": 5,
   "metadata": {
    "collapsed": true
   },
   "outputs": [],
   "source": [
    "flat_tables = {t: tables[t].groupby([tables[t].iloc[:,0], column_mapping[t]]).size().unstack() for t in tables}"
   ]
  },
  {
   "cell_type": "code",
   "execution_count": 6,
   "metadata": {
    "collapsed": true
   },
   "outputs": [],
   "source": [
    "for t in flat_tables:\n",
    "    referrals = referrals.merge(flat_tables[t], left_index=True, right_index=True, how='left')"
   ]
  },
  {
   "cell_type": "code",
   "execution_count": 11,
   "metadata": {
    "collapsed": true
   },
   "outputs": [],
   "source": [
    "# Add number of packs\n",
    "with open('../sql_queries/packs_per_referral.sql') as f:\n",
    "    sql = f.read()\n",
    "\n",
    "packs = pd.read_sql(sql, con).set_index('ReferralInstanceId')\n",
    "\n",
    "referrals = referrals.merge(packs, left_index=True, right_index=True, how='left')"
   ]
  },
  {
   "cell_type": "code",
   "execution_count": 14,
   "metadata": {
    "collapsed": true
   },
   "outputs": [],
   "source": [
    "referrals.to_csv('../../Welcome-Centre-DataCorps-Data/referrals.csv')"
   ]
  },
  {
   "cell_type": "code",
   "execution_count": null,
   "metadata": {
    "collapsed": true
   },
   "outputs": [],
   "source": []
  }
 ],
 "metadata": {
  "kernelspec": {
   "display_name": "Python 3",
   "language": "python",
   "name": "python3"
  },
  "language_info": {
   "codemirror_mode": {
    "name": "ipython",
    "version": 3
   },
   "file_extension": ".py",
   "mimetype": "text/x-python",
   "name": "python",
   "nbconvert_exporter": "python",
   "pygments_lexer": "ipython3",
   "version": "3.5.3"
  }
 },
 "nbformat": 4,
 "nbformat_minor": 2
}
