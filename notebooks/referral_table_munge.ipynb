{
 "cells": [
  {
   "cell_type": "code",
   "execution_count": 4,
   "metadata": {
    "collapsed": true
   },
   "outputs": [],
   "source": [
    "import pandas as pd\n",
    "import sqlite3\n",
    "\n",
    "path = '../../Welcome-Centre-DataCorps-Data/ClientDatabaseStructure.mdb.sqlite'\n",
    "con = sqlite3.connect(path)\n",
    "\n",
    "sql = \"\"\"select * from Referral limit 10;\"\"\"\n",
    "df = pd.read_sql(sql,con)"
   ]
  },
  {
   "cell_type": "code",
   "execution_count": 53,
   "metadata": {},
   "outputs": [],
   "source": [
    "referrals = pd.read_sql(\"\"\"select * from Referral\n",
    "left join ReferralStatus on ReferralStatus.ReferralStatusId = Referral.StatusId\n",
    "left join (\n",
    "  select * from Client\n",
    "left join Ethnicity on Client.ClientEthnicityID = Ethnicity.EthnicityID\n",
    "left join Country on Client.ClientCountryID = Country.CountryId\n",
    "left join ResidencyStatus on Client.ClientResidencyId = ResidencyStatus.ResidencyId\n",
    "left join ClientAddressType on Client.ClientAddressTypeID = ClientAddressType.ClientAddressTypeID\n",
    "left join Locality on Client.AddressLocalityId = Locality.LocalityId\n",
    "  ) as client on client.ClientId = Referral.ClientId\n",
    "\n",
    "left join Ethnicity on Referral.EthnicityId = Ethnicity.EthnicityID\n",
    "left join Locality on Referral.AddressLocalityId = Locality.LocalityId\n",
    "left join ClientAddressType on Referral.AddressTypeId = ClientAddressType.ClientAddressTypeID\n",
    "left join ReferralAgency on Referral.ReferralAgencyId = ReferralAgency.ReferralAgencyId;\"\"\", con)\n",
    "referrals = referrals.set_index('ReferralInstanceId')"
   ]
  },
  {
   "cell_type": "code",
   "execution_count": 20,
   "metadata": {},
   "outputs": [],
   "source": [
    "table_sql = \"\"\"select * from ReferralBenefit\n",
    "  inner join BenefitType on BenefitType.BenefitTypeId = ReferralBenefit.BenefitTypeId;\n",
    "select * from ReferralDietaryRequirements\n",
    "  inner join DietaryRequirements on ReferralDietaryRequirements.DietaryRequirementsID = DietaryRequirements.DietaryRequirementsID;\n",
    "select * from ReferralDocument\n",
    "  inner join DocumentEvidence on ReferralDocument.ReferralDocumentId = DocumentEvidence.DocumentEvidenceId;\n",
    "select * from ReferralDomesticCircumstances\n",
    "  inner join DomesticCircumstances on DomesticCircumstances.DomesticCircumstancesID = ReferralDomesticCircumstances.DomesticCircumstancesID;\n",
    "select * from ReferralIssue\n",
    "  inner join ClientIssueCodes on ClientIssueCodes.ClientIssueId = ReferralIssue.ClientIssueID;\n",
    "select * from ReferralReason\n",
    "  inner join ReferralReasonCodes on ReferralReasonCodes.ReferralReasonId = ReferralReason.ReferralReasonID;\"\"\"\n",
    "table_names = [t.split(' ')[3].strip() for t in table_sql.split(';')[:-1]]\n",
    "tables = {table_names[i]: pd.read_sql(t.strip(), con) for i, t in enumerate(table_sql.split(';')[:-1])}"
   ]
  },
  {
   "cell_type": "code",
   "execution_count": 44,
   "metadata": {},
   "outputs": [],
   "source": [
    "column_mapping = {\n",
    "    'ReferralIssue': 'ClientIssueDescription',\n",
    "    'ReferralBenefit': 'BenefitTypeName',\n",
    "    'ReferralReason': 'ReferralReasonDescription',\n",
    "    'ReferralDietaryRequirements': 'DietaryRequirementsDescription',\n",
    "    'ReferralDomesticCircumstances': 'DomesticCircumstancesDescription',\n",
    "    'ReferralDocument': 'DocumentEvidenceDescription'\n",
    "}"
   ]
  },
  {
   "cell_type": "code",
   "execution_count": 46,
   "metadata": {},
   "outputs": [],
   "source": [
    "flat_tables = {t: tables[t].groupby([tables[t].iloc[:,0], column_mapping[t]]).size().unstack() for t in tables}"
   ]
  },
  {
   "cell_type": "code",
   "execution_count": 54,
   "metadata": {},
   "outputs": [],
   "source": [
    "for t in flat_tables:\n",
    "    referrals = referrals.merge(flat_tables[t], left_index=True, right_index=True, how='left')"
   ]
  },
  {
   "cell_type": "code",
   "execution_count": 63,
   "metadata": {},
   "outputs": [
    {
     "data": {
      "text/plain": [
       "(17980, 204)"
      ]
     },
     "execution_count": 63,
     "metadata": {},
     "output_type": "execute_result"
    }
   ],
   "source": [
    "referrals.shape"
   ]
  },
  {
   "cell_type": "code",
   "execution_count": 60,
   "metadata": {},
   "outputs": [
    {
     "data": {
      "text/plain": [
       "DietaryNotes                             0.000000\n",
       "OrderNo                                  0.000000\n",
       "ReferralContactEmail                     0.000000\n",
       "PreviousAddressList                      0.000000\n",
       "AddressLine4                             0.000000\n",
       "AddressLine2                             0.000000\n",
       "AddressLine1                             0.000000\n",
       "ClientNickName                           0.000000\n",
       "OrderNo:3                                0.000000\n",
       "ReferralAgencyNotes                      0.005562\n",
       "AddressLine2                             0.011123\n",
       "fleeing domestic violence                0.011123\n",
       "Healthy Eating Vouchers                  0.011123\n",
       "AddressLine4                             0.016685\n",
       "AddressPostCode                          0.038932\n",
       "AddressLocalityId                        0.044494\n",
       "meltham food service delivery            0.050056\n",
       "Benefits - New/Changed Benefits Cap      0.061179\n",
       "Coeliac                                  0.061179\n",
       "Vegan                                    0.061179\n",
       "Gambling Issues                          0.066741\n",
       "Street worker                            0.072303\n",
       "Clothes - Job Interview/Other Event      0.072303\n",
       "Gambling                                 0.072303\n",
       "Hardship Payments                        0.088988\n",
       "Personal Identity                        0.100111\n",
       "Unknown                                  0.166852\n",
       "Crime Number                             0.166852\n",
       "Refugee                                  0.172414\n",
       "Benefits - Awaiting medical appt         0.177976\n",
       "                                          ...    \n",
       "EthnicityDescription                    95.978865\n",
       "EthnicityID                             95.978865\n",
       "ClientDateOfBirth                       99.104561\n",
       "ReferralReadyDate                       99.521691\n",
       "ClientTitle                             99.860957\n",
       "ClientId                               100.000000\n",
       "ReferralWorkerID                       100.000000\n",
       "ReferralOnHold                         100.000000\n",
       "ReferralTakenDate                      100.000000\n",
       "LastModifiedWorkerId                   100.000000\n",
       "DependantNumber                        100.000000\n",
       "UpdateTimestamp                        100.000000\n",
       "Enabled                                100.000000\n",
       "ReferralAgencyID                       100.000000\n",
       "ReferralAgencyName                     100.000000\n",
       "DependantNumber                        100.000000\n",
       "LivingWithPartner                      100.000000\n",
       "Enabled                                100.000000\n",
       "ClientIsMale                           100.000000\n",
       "ClientLastName                         100.000000\n",
       "ClientFirstName                        100.000000\n",
       "ClientId                               100.000000\n",
       "LastModifiedDate                       100.000000\n",
       "Enabled                                100.000000\n",
       "ReferralStatusDescription              100.000000\n",
       "ReferralStatusId                       100.000000\n",
       "UpdateTimeStamp                        100.000000\n",
       "ReferralAgencyId                       100.000000\n",
       "LivingWithPartner                      100.000000\n",
       "StatusId                               100.000000\n",
       "Length: 204, dtype: float64"
      ]
     },
     "execution_count": 60,
     "metadata": {},
     "output_type": "execute_result"
    }
   ],
   "source": [
    "(referrals.count() / len(referrals)).sort_values()*100"
   ]
  },
  {
   "cell_type": "code",
   "execution_count": null,
   "metadata": {
    "collapsed": true
   },
   "outputs": [],
   "source": []
  }
 ],
 "metadata": {
  "kernelspec": {
   "display_name": "Python 3",
   "language": "python",
   "name": "python3"
  },
  "language_info": {
   "codemirror_mode": {
    "name": "ipython",
    "version": 3
   },
   "file_extension": ".py",
   "mimetype": "text/x-python",
   "name": "python",
   "nbconvert_exporter": "python",
   "pygments_lexer": "ipython3",
   "version": "3.5.1"
  }
 },
 "nbformat": 4,
 "nbformat_minor": 2
}
