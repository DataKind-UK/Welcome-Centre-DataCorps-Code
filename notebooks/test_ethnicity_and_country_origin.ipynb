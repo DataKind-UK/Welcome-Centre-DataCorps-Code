{
 "cells": [
  {
   "cell_type": "code",
   "execution_count": 39,
   "metadata": {
    "collapsed": true
   },
   "outputs": [],
   "source": [
    "import sys\n",
    "import pandas as pd\n",
    "import pickle\n",
    "sys.path.append('../')"
   ]
  },
  {
   "cell_type": "code",
   "execution_count": 40,
   "metadata": {
    "collapsed": true
   },
   "outputs": [],
   "source": [
    "from api.utils.transformers import *"
   ]
  },
  {
   "cell_type": "code",
   "execution_count": 41,
   "metadata": {
    "collapsed": true
   },
   "outputs": [],
   "source": [
    "from scipy.stats import spearmanr"
   ]
  },
  {
   "cell_type": "markdown",
   "metadata": {},
   "source": [
    "### Generate Training Data"
   ]
  },
  {
   "cell_type": "code",
   "execution_count": 42,
   "metadata": {
    "collapsed": true
   },
   "outputs": [],
   "source": [
    "generator = TrainingDataGenerator('../../Welcome-Centre-DataCorps-Data/ClientDatabaseStructure.mdb.sqlite')\n",
    "training_data = generator.get_training_data(limit=100000)"
   ]
  },
  {
   "cell_type": "markdown",
   "metadata": {},
   "source": [
    "### Build your Transformer and Choose Features"
   ]
  },
  {
   "cell_type": "code",
   "execution_count": 43,
   "metadata": {},
   "outputs": [
    {
     "name": "stderr",
     "output_type": "stream",
     "text": [
      "100%|██████████| 107/107 [00:12<00:00,  8.62it/s]\n",
      "../api/utils/transformers.py:304: FutureWarning: pd.TimeGrouper is deprecated and will be removed; Please use pd.Grouper(freq=...)\n",
      "  lambda k: k.groupby(pd.TimeGrouper('1W', convention='e')).size())\n"
     ]
    }
   ],
   "source": [
    "features_to_split = []\n",
    "\n",
    "transformer = TransformerPipeline([\n",
    "            ConsolidateTablesTransformer(count_encode=True),\n",
    "            AddFutureReferralTargetFeatures(),\n",
    "            TimeFeatureTransformer(break_length=28),\n",
    "            TimeWindowFeatures(windows=[1,4,16,32,52]),\n",
    "            SplitCurrentAndEverTransformer(['ReferralIssue_', 'ReferralDomesticCircumstances_',\n",
    "                                            'ReferralReason_', 'ReferralBenefit_'])\n",
    "        ], aligner=AlignFeaturesToColumnSchemaTransformer())\n",
    "\n",
    "X, y, referral_table = transformer.fit_transform(training_data)\n",
    "\n",
    "X = X.fillna(0)"
   ]
  },
  {
   "cell_type": "code",
   "execution_count": 44,
   "metadata": {},
   "outputs": [
    {
     "name": "stderr",
     "output_type": "stream",
     "text": [
      "/Users/jamesgin/.virtualenvs/datasine/lib/python3.5/site-packages/ipykernel_launcher.py:8: UserWarning: Boolean Series key will be reindexed to match DataFrame index.\n",
      "  \n",
      "/Users/jamesgin/.virtualenvs/datasine/lib/python3.5/site-packages/ipykernel_launcher.py:9: UserWarning: Boolean Series key will be reindexed to match DataFrame index.\n",
      "  if __name__ == '__main__':\n"
     ]
    }
   ],
   "source": [
    "referral_table['Referral_ReferralTakenDate'].max()\n",
    "\n",
    "X = X[referral_table['Referral_ReferralTakenDate'] < pd.to_datetime('2016-04-11')]\n",
    "\n",
    "sorted_dates = referral_table.loc[X.index]['Referral_ReferralTakenDate'].sort_values()\n",
    "test_start_date = sorted_dates.iloc[int(len(sorted_dates) * 0.8)]\n",
    "\n",
    "X_train = X[referral_table['Referral_ReferralTakenDate'] < test_start_date]\n",
    "X_test = X[referral_table['Referral_ReferralTakenDate'] >= test_start_date]\n",
    "y_train = y.loc[X_train.index]\n",
    "y_test = y.loc[X_test.index]"
   ]
  },
  {
   "cell_type": "markdown",
   "metadata": {},
   "source": [
    "# Build a model"
   ]
  },
  {
   "cell_type": "code",
   "execution_count": 7,
   "metadata": {
    "collapsed": true
   },
   "outputs": [],
   "source": [
    "from sklearn.ensemble import ExtraTreesRegressor\n",
    "from sklearn.linear_model import RidgeCV"
   ]
  },
  {
   "cell_type": "code",
   "execution_count": 8,
   "metadata": {
    "collapsed": true
   },
   "outputs": [],
   "source": [
    "weight = 1/X_train['TimeFeature_IndexInBurst']"
   ]
  },
  {
   "cell_type": "code",
   "execution_count": null,
   "metadata": {
    "collapsed": true
   },
   "outputs": [],
   "source": [
    "eth_columns = X_train.filter(like='Eth').columns\n",
    "country_columns = X_train.filter(like='CountryID').columns"
   ]
  },
  {
   "cell_type": "code",
   "execution_count": 63,
   "metadata": {
    "collapsed": true,
    "scrolled": false
   },
   "outputs": [],
   "source": [
    "X_train_censored = X_train.drop(eth_columns, axis=1).drop(country_columns, axis=1)\n",
    "X_test_censored = X_test.drop(eth_columns, axis=1).drop(country_columns, axis=1)\n",
    "X_train_no_eth = X_train.drop(eth_columns, axis=1)\n",
    "X_test_no_eth = X_test.drop(eth_columns, axis=1)\n",
    "X_train_no_country = X_train.drop(country_columns, axis=1)\n",
    "X_test_no_country = X_test.drop(country_columns, axis=1)"
   ]
  },
  {
   "cell_type": "code",
   "execution_count": 22,
   "metadata": {
    "collapsed": true
   },
   "outputs": [],
   "source": []
  },
  {
   "cell_type": "code",
   "execution_count": 18,
   "metadata": {},
   "outputs": [
    {
     "data": {
      "text/plain": [
       "ExtraTreesRegressor(bootstrap=False, criterion='mse', max_depth=None,\n",
       "          max_features='auto', max_leaf_nodes=None,\n",
       "          min_impurity_decrease=0.0, min_impurity_split=None,\n",
       "          min_samples_leaf=1, min_samples_split=2,\n",
       "          min_weight_fraction_leaf=0.0, n_estimators=500, n_jobs=-1,\n",
       "          oob_score=False, random_state=None, verbose=0, warm_start=False)"
      ]
     },
     "execution_count": 18,
     "metadata": {},
     "output_type": "execute_result"
    }
   ],
   "source": [
    "et = ExtraTreesRegressor(n_jobs=-1, n_estimators=500)\n",
    "et.fit(X_train, y_train, sample_weight=weight.loc[X_train.index])"
   ]
  },
  {
   "cell_type": "code",
   "execution_count": 19,
   "metadata": {
    "scrolled": true
   },
   "outputs": [
    {
     "data": {
      "text/plain": [
       "ReferralDietaryRequirements_34              0.000000e+00\n",
       "ReferralReason_11_Ever                      0.000000e+00\n",
       "ReferralIssue_47_Current                    0.000000e+00\n",
       "ReferralDietaryRequirements_36              0.000000e+00\n",
       "ReferralReason_11_Current                   0.000000e+00\n",
       "ReferralIssue_47_Ever                       0.000000e+00\n",
       "ReferralBenefit_2_Current                   8.738555e-09\n",
       "ReferralBenefit_2_Ever                      1.036778e-08\n",
       "ClientIssue_17                              1.193749e-08\n",
       "ReferralIssue_9_Current                     1.273332e-08\n",
       "ReferralIssue_9_Ever                        4.934163e-08\n",
       "Client_AddressLocalityId_8                  3.918752e-07\n",
       "ReferralIssue_2_Ever                        7.835760e-07\n",
       "ReferralIssue_13_Current                    8.420719e-07\n",
       "ReferralReason_12_Current                   1.336026e-06\n",
       "ReferralIssue_31_Ever                       2.380954e-06\n",
       "ReferralReason_12_Ever                      4.171768e-06\n",
       "ClientIssue_15                              4.531548e-06\n",
       "ReferralIssue_39_Current                    5.700381e-06\n",
       "ReferralIssue_39_Ever                       5.841867e-06\n",
       "ReferralReason_13_Current                   5.896128e-06\n",
       "ReferralIssue_13_Ever                       6.904259e-06\n",
       "ClientIssue_6                               7.147812e-06\n",
       "Client_ClientResidencyId_22                 7.585208e-06\n",
       "Client_AddressPostCode_23                   8.088332e-06\n",
       "Client_AddressLocalityId_21                 8.571370e-06\n",
       "Client_AddressLocalityId_13                 9.353561e-06\n",
       "Client_AddressPostCode_8                    9.413562e-06\n",
       "Client_AddressLocalityId_5                  1.194132e-05\n",
       "Client_AddressPostCode_16                   1.277676e-05\n",
       "                                                ...     \n",
       "Client_AddressPostCode_337                  7.500466e-03\n",
       "ReferralReason_212_Ever                     7.671230e-03\n",
       "window_count_32                             7.807491e-03\n",
       "Client_AddressLocalityId_191                7.908619e-03\n",
       "ReferralReason_492_Ever                     8.302454e-03\n",
       "ClientIssue_11                              8.455584e-03\n",
       "TimeFeature_DaysSinceLastReferral           8.904231e-03\n",
       "Client_ClientAddressTypeID_159              9.162283e-03\n",
       "Client_ClientResidencyId_3029               9.733584e-03\n",
       "ReferralDomesticCircumstances_14389_Ever    9.977321e-03\n",
       "Client_AddressPostCode_339                  1.004557e-02\n",
       "ClientIssue_3                               1.084155e-02\n",
       "Client_ClientIsMale                         1.215302e-02\n",
       "ReferralReason_294_Ever                     1.233024e-02\n",
       "ReferralReason_487_Current                  1.381367e-02\n",
       "ReferralReason_349_Ever                     1.467186e-02\n",
       "Client_ClientResidencyId_18                 1.488185e-02\n",
       "ReferralReason_487_Ever                     1.601064e-02\n",
       "ReferralDomesticCircumstances_377_Ever      1.662941e-02\n",
       "TimeFeature_IndexInBurst                    1.670910e-02\n",
       "Client_ClientAddressTypeID_838              1.819867e-02\n",
       "ReferralReason_537_Ever                     2.068696e-02\n",
       "ClientIssue_1                               2.316137e-02\n",
       "Client_ClientResidencyId_295                3.163523e-02\n",
       "Client_AddressLocalityId_913                3.923448e-02\n",
       "Client_AddressLength                        4.403180e-02\n",
       "Client_Age                                  4.424861e-02\n",
       "ReferralDomesticCircumstances_709_Ever      4.615084e-02\n",
       "Client_AddressLocalityId_92                 5.028736e-02\n",
       "Client_AddressPostCode_53                   5.631127e-02\n",
       "Length: 323, dtype: float64"
      ]
     },
     "execution_count": 19,
     "metadata": {},
     "output_type": "execute_result"
    }
   ],
   "source": [
    "pd.Series(et.feature_importances_, X_train.columns).sort_values()"
   ]
  },
  {
   "cell_type": "markdown",
   "metadata": {},
   "source": [
    "# Evaluate model"
   ]
  },
  {
   "cell_type": "code",
   "execution_count": 23,
   "metadata": {
    "collapsed": true
   },
   "outputs": [],
   "source": [
    "y_pred = pd.Series(et.predict(X_test), X_test.index)"
   ]
  },
  {
   "cell_type": "code",
   "execution_count": 24,
   "metadata": {
    "collapsed": true
   },
   "outputs": [],
   "source": [
    "test_referral_table = referral_table.loc[X_test.index]"
   ]
  },
  {
   "cell_type": "code",
   "execution_count": 25,
   "metadata": {
    "collapsed": true
   },
   "outputs": [],
   "source": [
    "def get_scores_per_window(x, y, group, threshold=0.1):\n",
    "    corr = spearmanr(x, y)[0]\n",
    "    mu_a = x.groupby(group).mean()\n",
    "    mu_p = y.groupby(group).mean()\n",
    "    mu_a_top = mu_a[mu_a.rank(ascending=False) / len(mu_a) < threshold]\n",
    "    mu_p_top = mu_p[mu_p.rank(ascending=False) / len(mu_p) < threshold]\n",
    "    overlap = mu_p_top.index.isin(mu_a_top.index).mean()\n",
    "    return pd.Series([corr, overlap], index=['spearman', 'overlap'])"
   ]
  },
  {
   "cell_type": "code",
   "execution_count": 26,
   "metadata": {
    "collapsed": true
   },
   "outputs": [],
   "source": [
    "small_referral_table = test_referral_table[test_referral_table['TimeFeature_ReferralNumber']<6]"
   ]
  },
  {
   "cell_type": "code",
   "execution_count": 70,
   "metadata": {
    "collapsed": true
   },
   "outputs": [],
   "source": [
    "def get_weekly_scores(referral_table):\n",
    "    grouped_y = referral_table.assign(y=y_test, pred=y_pred).set_index('Referral_ReferralTakenDate')\\\n",
    "        .groupby([pd.TimeGrouper('1W'), 'Client_ClientId'])['y'].mean()\n",
    "    grouped_pred_y = referral_table.assign(y=y_test, pred=y_pred).set_index('Referral_ReferralTakenDate')\\\n",
    "            .groupby([pd.TimeGrouper('1W'), 'Client_ClientId'])['pred'].mean()\n",
    "    combined = pd.concat([grouped_y, grouped_pred_y], axis=1)\n",
    "\n",
    "    results = []\n",
    "\n",
    "    for i in combined.index.get_level_values(0).unique():\n",
    "        row = (i,)\n",
    "        row += (len(combined.loc[i]),)\n",
    "        row += (spearmanr(combined.loc[i]['y'], combined.loc[i]['pred'])[0],)\n",
    "        ranked = (combined.loc[i].rank(ascending=False) / len(combined.loc[i]))\n",
    "        for threshold in [0.1, 0.25, 0.5]:\n",
    "            severe = ranked < threshold\n",
    "            row += (severe[severe['pred']]['y'].mean(),)\n",
    "\n",
    "        results.append(row)\n",
    "    return pd.DataFrame(results, columns=['date', 'n', 'corr', 'prec10', 'prec25', 'prec50'])"
   ]
  },
  {
   "cell_type": "markdown",
   "metadata": {},
   "source": [
    "# Evaluate Different Models"
   ]
  },
  {
   "cell_type": "markdown",
   "metadata": {},
   "source": [
    "Base"
   ]
  },
  {
   "cell_type": "code",
   "execution_count": 75,
   "metadata": {},
   "outputs": [
    {
     "name": "stderr",
     "output_type": "stream",
     "text": [
      "/Users/jamesgin/.virtualenvs/datasine/lib/python3.5/site-packages/ipykernel_launcher.py:2: FutureWarning: pd.TimeGrouper is deprecated and will be removed; Please use pd.Grouper(freq=...)\n",
      "  \n",
      "/Users/jamesgin/.virtualenvs/datasine/lib/python3.5/site-packages/ipykernel_launcher.py:3: FutureWarning: pd.TimeGrouper is deprecated and will be removed; Please use pd.Grouper(freq=...)\n",
      "  This is separate from the ipykernel package so we can avoid doing imports until\n"
     ]
    },
    {
     "name": "stdout",
     "output_type": "stream",
     "text": [
      "n         67.217391\n",
      "corr       0.353627\n",
      "prec10     0.346273\n",
      "prec25     0.457589\n",
      "prec50     0.593056\n",
      "dtype: float64\n",
      "n         104.130435\n",
      "corr        0.542407\n",
      "prec10      0.606599\n",
      "prec25      0.621573\n",
      "prec50      0.715268\n",
      "dtype: float64\n"
     ]
    }
   ],
   "source": [
    "et = ExtraTreesRegressor(n_jobs=-1, n_estimators=500)\n",
    "et.fit(X_train, y_train, sample_weight=weight.loc[X_train.index])\n",
    "y_pred = pd.Series(et.predict(X_test), X_test.index)\n",
    "test_referral_table = referral_table.loc[X_test.index]\n",
    "small_referral_table = test_referral_table[test_referral_table['TimeFeature_ReferralNumber']<6]\n",
    "results_big = get_weekly_scores(test_referral_table)\n",
    "results_small = get_weekly_scores(small_referral_table)\n",
    "print(results_small.mean())\n",
    "print(results_big.mean())"
   ]
  },
  {
   "cell_type": "markdown",
   "metadata": {},
   "source": [
    "Remove both country and ethnicity"
   ]
  },
  {
   "cell_type": "code",
   "execution_count": 77,
   "metadata": {},
   "outputs": [
    {
     "name": "stderr",
     "output_type": "stream",
     "text": [
      "/Users/jamesgin/.virtualenvs/datasine/lib/python3.5/site-packages/ipykernel_launcher.py:2: FutureWarning: pd.TimeGrouper is deprecated and will be removed; Please use pd.Grouper(freq=...)\n",
      "  \n",
      "/Users/jamesgin/.virtualenvs/datasine/lib/python3.5/site-packages/ipykernel_launcher.py:3: FutureWarning: pd.TimeGrouper is deprecated and will be removed; Please use pd.Grouper(freq=...)\n",
      "  This is separate from the ipykernel package so we can avoid doing imports until\n"
     ]
    },
    {
     "name": "stdout",
     "output_type": "stream",
     "text": [
      "n         67.217391\n",
      "corr       0.321240\n",
      "prec10     0.280176\n",
      "prec25     0.451590\n",
      "prec50     0.586696\n",
      "dtype: float64\n",
      "n         104.130435\n",
      "corr        0.514443\n",
      "prec10      0.587945\n",
      "prec25      0.603878\n",
      "prec50      0.702585\n",
      "dtype: float64\n"
     ]
    }
   ],
   "source": [
    "et = ExtraTreesRegressor(n_jobs=-1, n_estimators=500)\n",
    "et.fit(X_train_censored, y_train, sample_weight=weight.loc[X_train.index])\n",
    "y_pred = pd.Series(et.predict(X_test_censored), X_test.index)\n",
    "test_referral_table = referral_table.loc[X_test.index]\n",
    "small_referral_table = test_referral_table[test_referral_table['TimeFeature_ReferralNumber']<6]\n",
    "results_big = get_weekly_scores(test_referral_table)\n",
    "results_small = get_weekly_scores(small_referral_table)\n",
    "print(results_small.mean())\n",
    "print(results_big.mean())"
   ]
  },
  {
   "cell_type": "markdown",
   "metadata": {},
   "source": [
    "Remove just ethnicity"
   ]
  },
  {
   "cell_type": "code",
   "execution_count": 78,
   "metadata": {},
   "outputs": [
    {
     "name": "stderr",
     "output_type": "stream",
     "text": [
      "/Users/jamesgin/.virtualenvs/datasine/lib/python3.5/site-packages/ipykernel_launcher.py:2: FutureWarning: pd.TimeGrouper is deprecated and will be removed; Please use pd.Grouper(freq=...)\n",
      "  \n",
      "/Users/jamesgin/.virtualenvs/datasine/lib/python3.5/site-packages/ipykernel_launcher.py:3: FutureWarning: pd.TimeGrouper is deprecated and will be removed; Please use pd.Grouper(freq=...)\n",
      "  This is separate from the ipykernel package so we can avoid doing imports until\n"
     ]
    },
    {
     "name": "stdout",
     "output_type": "stream",
     "text": [
      "n         104.130435\n",
      "corr        0.541455\n",
      "prec10      0.574901\n",
      "prec25      0.629613\n",
      "prec50      0.712592\n",
      "dtype: float64\n",
      "n         67.217391\n",
      "corr       0.365617\n",
      "prec10     0.347101\n",
      "prec25     0.486795\n",
      "prec50     0.603661\n",
      "dtype: float64\n"
     ]
    }
   ],
   "source": [
    "et = ExtraTreesRegressor(n_jobs=-1, n_estimators=500)\n",
    "et.fit(X_train_no_eth, y_train, sample_weight=weight.loc[X_train.index])\n",
    "y_pred = pd.Series(et.predict(X_test_no_eth), X_test.index)\n",
    "test_referral_table = referral_table.loc[X_test.index]\n",
    "small_referral_table = test_referral_table[test_referral_table['TimeFeature_ReferralNumber']<6]\n",
    "results_big = get_weekly_scores(test_referral_table)\n",
    "results_small = get_weekly_scores(small_referral_table)\n",
    "print(results_big.mean())\n",
    "print(results_small.mean())"
   ]
  },
  {
   "cell_type": "markdown",
   "metadata": {},
   "source": [
    "Remove just country"
   ]
  },
  {
   "cell_type": "code",
   "execution_count": 79,
   "metadata": {},
   "outputs": [
    {
     "name": "stderr",
     "output_type": "stream",
     "text": [
      "/Users/jamesgin/.virtualenvs/datasine/lib/python3.5/site-packages/ipykernel_launcher.py:2: FutureWarning: pd.TimeGrouper is deprecated and will be removed; Please use pd.Grouper(freq=...)\n",
      "  \n",
      "/Users/jamesgin/.virtualenvs/datasine/lib/python3.5/site-packages/ipykernel_launcher.py:3: FutureWarning: pd.TimeGrouper is deprecated and will be removed; Please use pd.Grouper(freq=...)\n",
      "  This is separate from the ipykernel package so we can avoid doing imports until\n"
     ]
    },
    {
     "name": "stdout",
     "output_type": "stream",
     "text": [
      "n         104.130435\n",
      "corr        0.531337\n",
      "prec10      0.605786\n",
      "prec25      0.616999\n",
      "prec50      0.712088\n",
      "dtype: float64\n",
      "n         67.217391\n",
      "corr       0.342183\n",
      "prec10     0.314700\n",
      "prec25     0.447631\n",
      "prec50     0.596016\n",
      "dtype: float64\n"
     ]
    }
   ],
   "source": [
    "et = ExtraTreesRegressor(n_jobs=-1, n_estimators=500)\n",
    "et.fit(X_train_no_country, y_train, sample_weight=weight.loc[X_train.index])\n",
    "y_pred = pd.Series(et.predict(X_test_no_country), X_test.index)\n",
    "test_referral_table = referral_table.loc[X_test.index]\n",
    "small_referral_table = test_referral_table[test_referral_table['TimeFeature_ReferralNumber']<6]\n",
    "results_big = get_weekly_scores(test_referral_table)\n",
    "results_small = get_weekly_scores(small_referral_table)\n",
    "print(results_big.mean())\n",
    "print(results_small.mean())"
   ]
  }
 ],
 "metadata": {
  "kernelspec": {
   "display_name": "Python 3",
   "language": "python",
   "name": "python3"
  },
  "language_info": {
   "codemirror_mode": {
    "name": "ipython",
    "version": 3
   },
   "file_extension": ".py",
   "mimetype": "text/x-python",
   "name": "python",
   "nbconvert_exporter": "python",
   "pygments_lexer": "ipython3",
   "version": "3.5.1"
  }
 },
 "nbformat": 4,
 "nbformat_minor": 2
}
