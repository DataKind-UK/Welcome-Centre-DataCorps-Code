{
 "cells": [
  {
   "cell_type": "code",
   "execution_count": 1,
   "metadata": {},
   "outputs": [],
   "source": [
    "import sys\n",
    "import pandas as pd\n",
    "import pickle\n",
    "sys.path.append('../')\n",
    "\n",
    "%load_ext autoreload\n",
    "%autoreload"
   ]
  },
  {
   "cell_type": "code",
   "execution_count": 2,
   "metadata": {},
   "outputs": [],
   "source": [
    "from api.utils.transformers import *"
   ]
  },
  {
   "cell_type": "code",
   "execution_count": 3,
   "metadata": {},
   "outputs": [],
   "source": [
    "from scipy.stats import spearmanr"
   ]
  },
  {
   "cell_type": "markdown",
   "metadata": {},
   "source": [
    "### Generate Training Data"
   ]
  },
  {
   "cell_type": "code",
   "execution_count": 4,
   "metadata": {},
   "outputs": [],
   "source": [
    "generator = TrainingDataGenerator('../../Welcome-Centre-DataCorps-Data/ClientDatabaseStructure.mdb.sqlite')\n",
    "training_data = generator.get_training_data(limit=100000)"
   ]
  },
  {
   "cell_type": "code",
   "execution_count": 5,
   "metadata": {},
   "outputs": [
    {
     "data": {
      "text/plain": [
       "dict_keys(['referraldocument', 'referralissue', 'client', 'referraldietaryrequirements', 'referraldomesticcircumstances', 'referralbenefit', 'clientissue', 'referral', 'referralreason'])"
      ]
     },
     "execution_count": 5,
     "metadata": {},
     "output_type": "execute_result"
    }
   ],
   "source": [
    "training_data.keys()"
   ]
  },
  {
   "cell_type": "markdown",
   "metadata": {},
   "source": [
    "### Build your Transformer and Choose Features"
   ]
  },
  {
   "cell_type": "code",
   "execution_count": 6,
   "metadata": {},
   "outputs": [
    {
     "name": "stderr",
     "output_type": "stream",
     "text": [
      "100%|██████████| 107/107 [00:15<00:00,  6.97it/s]\n"
     ]
    }
   ],
   "source": [
    "features_to_split = []\n",
    "\n",
    "transformer = TransformerPipeline([\n",
    "                        ConsolidateTablesTransformer(count_encode=False),\n",
    "                        AddFutureReferralTargetFeatures(),\n",
    "                        TimeFeatureTransformer(break_length=28),\n",
    "                        SplitCurrentAndEverTransformer(['referralissue_', \n",
    "                                                       'referraldomesticcircumstances_',\n",
    "                                                        'referralreason_', 'referralbenefit_'])\n",
    "                                    ], aligner=AlignFeaturesToColumnSchemaTransformer())\n",
    "\n",
    "X, y, referral_table = transformer.fit_transform(training_data)\n",
    "\n",
    "X = X.fillna(0)"
   ]
  },
  {
   "cell_type": "code",
   "execution_count": 7,
   "metadata": {},
   "outputs": [],
   "source": [
    "X_train = X[X.index < 13500]\n",
    "X_test = X[X.index >= 13500]\n",
    "y_train = y.loc[X_train.index]\n",
    "y_test = y.loc[X_test.index]"
   ]
  },
  {
   "cell_type": "markdown",
   "metadata": {},
   "source": [
    "# Build a model"
   ]
  },
  {
   "cell_type": "code",
   "execution_count": 8,
   "metadata": {},
   "outputs": [],
   "source": [
    "from sklearn.ensemble import ExtraTreesRegressor"
   ]
  },
  {
   "cell_type": "code",
   "execution_count": 9,
   "metadata": {},
   "outputs": [
    {
     "data": {
      "text/plain": [
       "ExtraTreesRegressor(bootstrap=False, criterion='mse', max_depth=None,\n",
       "          max_features='auto', max_leaf_nodes=None,\n",
       "          min_impurity_decrease=0.0, min_impurity_split=None,\n",
       "          min_samples_leaf=1, min_samples_split=2,\n",
       "          min_weight_fraction_leaf=0.0, n_estimators=500, n_jobs=-1,\n",
       "          oob_score=False, random_state=None, verbose=0, warm_start=False)"
      ]
     },
     "execution_count": 9,
     "metadata": {},
     "output_type": "execute_result"
    }
   ],
   "source": [
    "et = ExtraTreesRegressor(n_jobs=-1, n_estimators=500)\n",
    "et.fit(X_train, y_train)"
   ]
  },
  {
   "cell_type": "markdown",
   "metadata": {},
   "source": [
    "# Evaluate model"
   ]
  },
  {
   "cell_type": "code",
   "execution_count": 10,
   "metadata": {},
   "outputs": [],
   "source": [
    "y_pred = pd.Series(et.predict(X_test), X_test.index)"
   ]
  },
  {
   "cell_type": "code",
   "execution_count": 11,
   "metadata": {},
   "outputs": [],
   "source": [
    "test_referral_table = referral_table.loc[X_test.index]"
   ]
  },
  {
   "cell_type": "code",
   "execution_count": 12,
   "metadata": {},
   "outputs": [],
   "source": [
    "def get_scores_per_window(x, y, group, threshold=0.50):\n",
    "    corr = spearmanr(x, y)[0]\n",
    "    mu_a = x.groupby(group).mean()\n",
    "    mu_p = y.groupby(group).mean()\n",
    "    mu_a_top = mu_a[mu_a.rank(ascending=False) / len(mu_a) < threshold]\n",
    "    mu_p_top = mu_p[mu_p.rank(ascending=False) / len(mu_p) < threshold]\n",
    "    overlap = mu_p_top.index.isin(mu_a_top.index).mean()\n",
    "    return pd.Series([corr, overlap], index=['spearman', 'overlap'])"
   ]
  },
  {
   "cell_type": "code",
   "execution_count": 15,
   "metadata": {},
   "outputs": [],
   "source": [
    "def evaluate_average_weekly_rank_correlation(test_referral_table, y_test, y_pred):\n",
    "    grouped_y = test_referral_table.assign(y=y_test, pred=y_pred).set_index('referral_referraltakendate')\\\n",
    "        .groupby([pd.TimeGrouper('1W'), 'client_clientid'])['y'].mean()\n",
    "    grouped_pred_y = test_referral_table.assign(y=y_test, pred=y_pred).set_index('referral_referraltakendate')\\\n",
    "        .groupby([pd.TimeGrouper('1W'), 'client_clientid'])['pred'].mean()\n",
    "    time_grouped = pd.concat([grouped_y, grouped_pred_y], axis=1)\n",
    "    return time_grouped.reset_index().groupby(['referral_referraltakendate']).\\\n",
    "        apply(lambda k: get_scores_per_window(k['y'], k['pred'], k['client_clientid'])).dropna().mean()"
   ]
  },
  {
   "cell_type": "code",
   "execution_count": 16,
   "metadata": {},
   "outputs": [
    {
     "name": "stderr",
     "output_type": "stream",
     "text": [
      "/Users/davidsykes/.virtualenvs/twc/lib/python3.5/site-packages/ipykernel_launcher.py:2: FutureWarning: pd.TimeGrouper is deprecated and will be removed; Please use pd.Grouper(freq=...)\n",
      "  \n",
      "/Users/davidsykes/.virtualenvs/twc/lib/python3.5/site-packages/ipykernel_launcher.py:3: FutureWarning: pd.TimeGrouper is deprecated and will be removed; Please use pd.Grouper(freq=...)\n",
      "  This is separate from the ipykernel package so we can avoid doing imports until\n",
      "/Users/davidsykes/.virtualenvs/twc/lib/python3.5/site-packages/numpy/lib/function_base.py:3183: RuntimeWarning: invalid value encountered in true_divide\n",
      "  c /= stddev[:, None]\n",
      "/Users/davidsykes/.virtualenvs/twc/lib/python3.5/site-packages/numpy/lib/function_base.py:3184: RuntimeWarning: invalid value encountered in true_divide\n",
      "  c /= stddev[None, :]\n",
      "/Users/davidsykes/.virtualenvs/twc/lib/python3.5/site-packages/scipy/stats/_distn_infrastructure.py:879: RuntimeWarning: invalid value encountered in greater\n",
      "  return (self.a < x) & (x < self.b)\n",
      "/Users/davidsykes/.virtualenvs/twc/lib/python3.5/site-packages/scipy/stats/_distn_infrastructure.py:879: RuntimeWarning: invalid value encountered in less\n",
      "  return (self.a < x) & (x < self.b)\n",
      "/Users/davidsykes/.virtualenvs/twc/lib/python3.5/site-packages/scipy/stats/_distn_infrastructure.py:1821: RuntimeWarning: invalid value encountered in less_equal\n",
      "  cond2 = cond0 & (x <= self.a)\n"
     ]
    },
    {
     "data": {
      "text/plain": [
       "spearman    0.498007\n",
       "overlap     0.657884\n",
       "dtype: float64"
      ]
     },
     "execution_count": 16,
     "metadata": {},
     "output_type": "execute_result"
    }
   ],
   "source": [
    "evaluate_average_weekly_rank_correlation(test_referral_table, y_test, y_pred)"
   ]
  },
  {
   "cell_type": "code",
   "execution_count": 23,
   "metadata": {},
   "outputs": [
    {
     "data": {
      "text/html": [
       "<div>\n",
       "<style scoped>\n",
       "    .dataframe tbody tr th:only-of-type {\n",
       "        vertical-align: middle;\n",
       "    }\n",
       "\n",
       "    .dataframe tbody tr th {\n",
       "        vertical-align: top;\n",
       "    }\n",
       "\n",
       "    .dataframe thead th {\n",
       "        text-align: right;\n",
       "    }\n",
       "</style>\n",
       "<table border=\"1\" class=\"dataframe\">\n",
       "  <thead>\n",
       "    <tr style=\"text-align: right;\">\n",
       "      <th></th>\n",
       "      <th>referral_statusid</th>\n",
       "      <th>referral_referralonhold</th>\n",
       "      <th>referral_referraltakendate</th>\n",
       "      <th>referral_referralreadydate</th>\n",
       "      <th>referral_referralcollecteddate</th>\n",
       "      <th>referral_referralworkerid</th>\n",
       "      <th>referral_referralhandedworkerid</th>\n",
       "      <th>referral_clientid</th>\n",
       "      <th>referral_partnername</th>\n",
       "      <th>referral_partnerid</th>\n",
       "      <th>...</th>\n",
       "      <th>referral_referralnotes</th>\n",
       "      <th>referral_updatetimestamp</th>\n",
       "      <th>client_clientid</th>\n",
       "      <th>reference_date</th>\n",
       "      <th>futurereferraltargetfeature_futurereferralcount</th>\n",
       "      <th>futurereferraltargetfeature_futurereferralscore</th>\n",
       "      <th>futurereferraltargetfeature_futurereferralgaps</th>\n",
       "      <th>timefeature_referralnumber</th>\n",
       "      <th>timefeature_burstnumber</th>\n",
       "      <th>timefeature_totalreferralsforclient</th>\n",
       "    </tr>\n",
       "  </thead>\n",
       "  <tbody>\n",
       "    <tr>\n",
       "      <th>3238</th>\n",
       "      <td>6</td>\n",
       "      <td>0</td>\n",
       "      <td>2014-08-26 10:58:00</td>\n",
       "      <td>None</td>\n",
       "      <td>None</td>\n",
       "      <td>4</td>\n",
       "      <td>NaN</td>\n",
       "      <td>1872</td>\n",
       "      <td>None</td>\n",
       "      <td>0.0</td>\n",
       "      <td>...</td>\n",
       "      <td>This was a test</td>\n",
       "      <td>12/03/14 09:48:55</td>\n",
       "      <td>1872.0</td>\n",
       "      <td>NaT</td>\n",
       "      <td>0.0</td>\n",
       "      <td>0.0</td>\n",
       "      <td>0.0</td>\n",
       "      <td>1.0</td>\n",
       "      <td>1.0</td>\n",
       "      <td>2</td>\n",
       "    </tr>\n",
       "    <tr>\n",
       "      <th>16763</th>\n",
       "      <td>6</td>\n",
       "      <td>0</td>\n",
       "      <td>2017-02-03 15:23:00</td>\n",
       "      <td>None</td>\n",
       "      <td>None</td>\n",
       "      <td>4</td>\n",
       "      <td>NaN</td>\n",
       "      <td>1872</td>\n",
       "      <td>None</td>\n",
       "      <td>NaN</td>\n",
       "      <td>...</td>\n",
       "      <td>Test data only</td>\n",
       "      <td>02/03/17 15:28:52</td>\n",
       "      <td>1872.0</td>\n",
       "      <td>NaT</td>\n",
       "      <td>0.0</td>\n",
       "      <td>0.0</td>\n",
       "      <td>0.0</td>\n",
       "      <td>2.0</td>\n",
       "      <td>2.0</td>\n",
       "      <td>2</td>\n",
       "    </tr>\n",
       "  </tbody>\n",
       "</table>\n",
       "<p>2 rows × 28 columns</p>\n",
       "</div>"
      ],
      "text/plain": [
       "       referral_statusid referral_referralonhold referral_referraltakendate  \\\n",
       "3238                   6                       0        2014-08-26 10:58:00   \n",
       "16763                  6                       0        2017-02-03 15:23:00   \n",
       "\n",
       "      referral_referralreadydate referral_referralcollecteddate  \\\n",
       "3238                        None                           None   \n",
       "16763                       None                           None   \n",
       "\n",
       "       referral_referralworkerid  referral_referralhandedworkerid  \\\n",
       "3238                           4                              NaN   \n",
       "16763                          4                              NaN   \n",
       "\n",
       "       referral_clientid referral_partnername  referral_partnerid  \\\n",
       "3238                1872                 None                 0.0   \n",
       "16763               1872                 None                 NaN   \n",
       "\n",
       "                      ...                 referral_referralnotes  \\\n",
       "3238                  ...                        This was a test   \n",
       "16763                 ...                         Test data only   \n",
       "\n",
       "       referral_updatetimestamp  client_clientid  reference_date  \\\n",
       "3238          12/03/14 09:48:55           1872.0             NaT   \n",
       "16763         02/03/17 15:28:52           1872.0             NaT   \n",
       "\n",
       "       futurereferraltargetfeature_futurereferralcount  \\\n",
       "3238                                               0.0   \n",
       "16763                                              0.0   \n",
       "\n",
       "      futurereferraltargetfeature_futurereferralscore  \\\n",
       "3238                                              0.0   \n",
       "16763                                             0.0   \n",
       "\n",
       "      futurereferraltargetfeature_futurereferralgaps  \\\n",
       "3238                                             0.0   \n",
       "16763                                            0.0   \n",
       "\n",
       "      timefeature_referralnumber timefeature_burstnumber  \\\n",
       "3238                         1.0                     1.0   \n",
       "16763                        2.0                     2.0   \n",
       "\n",
       "      timefeature_totalreferralsforclient  \n",
       "3238                                    2  \n",
       "16763                                   2  \n",
       "\n",
       "[2 rows x 28 columns]"
      ]
     },
     "execution_count": 23,
     "metadata": {},
     "output_type": "execute_result"
    }
   ],
   "source": [
    "referral_table[referral_table['client_clientid']==1872]"
   ]
  },
  {
   "cell_type": "markdown",
   "metadata": {},
   "source": [
    "# Save your model"
   ]
  },
  {
   "cell_type": "code",
   "execution_count": 17,
   "metadata": {},
   "outputs": [],
   "source": [
    "from api.utils.models import TWCModel"
   ]
  },
  {
   "cell_type": "code",
   "execution_count": 18,
   "metadata": {},
   "outputs": [
    {
     "data": {
      "text/plain": [
       "'/Users/davidsykes/Git-repos/welcome-centre/Welcome-Centre-DataCorps-Code/notebooks'"
      ]
     },
     "execution_count": 18,
     "metadata": {},
     "output_type": "execute_result"
    }
   ],
   "source": [
    "%pwd"
   ]
  },
  {
   "cell_type": "code",
   "execution_count": 19,
   "metadata": {},
   "outputs": [],
   "source": [
    "model = TWCModel()\n",
    "model.transformer = transformer\n",
    "model.model = et\n",
    "model.save('../api/etmodel.p')"
   ]
  },
  {
   "cell_type": "code",
   "execution_count": null,
   "metadata": {
    "collapsed": true
   },
   "outputs": [],
   "source": [
    "model2 = TWCModel()"
   ]
  },
  {
   "cell_type": "code",
   "execution_count": null,
   "metadata": {
    "collapsed": true
   },
   "outputs": [],
   "source": [
    "model2.load('etmodel.p')"
   ]
  },
  {
   "cell_type": "markdown",
   "metadata": {},
   "source": [
    "### Test your model works on json test file"
   ]
  },
  {
   "cell_type": "code",
   "execution_count": null,
   "metadata": {
    "collapsed": true
   },
   "outputs": [],
   "source": [
    "with open('../api/twc_sample_request.json') as f:\n",
    "    json_string = f.read()"
   ]
  },
  {
   "cell_type": "code",
   "execution_count": null,
   "metadata": {
    "collapsed": true
   },
   "outputs": [],
   "source": [
    "p = ParseJSONToTablesTransformer()\n",
    "example_tables = p.fit_transform(json_string)"
   ]
  },
  {
   "cell_type": "code",
   "execution_count": null,
   "metadata": {},
   "outputs": [],
   "source": [
    "model2.transformer.fit_transform(example_tables)"
   ]
  }
 ],
 "metadata": {
  "kernelspec": {
   "display_name": "Python 3",
   "language": "python",
   "name": "python3"
  },
  "language_info": {
   "codemirror_mode": {
    "name": "ipython",
    "version": 3
   },
   "file_extension": ".py",
   "mimetype": "text/x-python",
   "name": "python",
   "nbconvert_exporter": "python",
   "pygments_lexer": "ipython3",
   "version": "3.5.2"
  }
 },
 "nbformat": 4,
 "nbformat_minor": 2
}
