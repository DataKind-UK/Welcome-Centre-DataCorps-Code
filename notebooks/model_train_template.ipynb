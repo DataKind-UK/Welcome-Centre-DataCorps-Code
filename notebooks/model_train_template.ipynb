{
 "cells": [
  {
   "cell_type": "code",
   "execution_count": null,
   "metadata": {
    "collapsed": true
   },
   "outputs": [],
   "source": [
    "import sys\n",
    "import pandas as pd\n",
    "import pickle\n",
    "sys.path.append('../')"
   ]
  },
  {
   "cell_type": "code",
   "execution_count": null,
   "metadata": {
    "collapsed": true
   },
   "outputs": [],
   "source": [
    "from api.utils.transformers import *"
   ]
  },
  {
   "cell_type": "code",
   "execution_count": null,
   "metadata": {
    "collapsed": true
   },
   "outputs": [],
   "source": [
    "from scipy.stats import spearmanr"
   ]
  },
  {
   "cell_type": "markdown",
   "metadata": {},
   "source": [
    "### Generate Training Data"
   ]
  },
  {
   "cell_type": "code",
   "execution_count": null,
   "metadata": {
    "collapsed": true
   },
   "outputs": [],
   "source": [
    "generator = TrainingDataGenerator('../../Welcome-Centre-DataCorps-Data/ClientDatabaseStructure.mdb.sqlite')\n",
    "training_data = generator.get_training_data(limit=100000)"
   ]
  },
  {
   "cell_type": "markdown",
   "metadata": {},
   "source": [
    "### Build your Transformer and Choose Features"
   ]
  },
  {
   "cell_type": "code",
   "execution_count": null,
   "metadata": {},
   "outputs": [],
   "source": [
    "features_to_split = []\n",
    "\n",
    "transformer = TransformerPipeline([\n",
    "            ConsolidateTablesTransformer(),\n",
    "            AddTimeFeaturesTransformer(),\n",
    "            SplitCurrentAndEverTransformer(['ReferralIssue_', 'ReferralDomesticCircumstances_',\n",
    "                                            'ReferralReason_', 'ReferralBenefit_'])\n",
    "        ], aligner=AlignFeaturesToColumnSchemaTransformer())\n",
    "\n",
    "X, y, referral_table = transformer.fit_transform(training_data)\n",
    "\n",
    "X = X.fillna(0)"
   ]
  },
  {
   "cell_type": "code",
   "execution_count": null,
   "metadata": {
    "collapsed": true
   },
   "outputs": [],
   "source": [
    "X_train = X[X.index < 13500]\n",
    "X_test = X[X.index >= 13500]\n",
    "y_train = y.loc[X_train.index]\n",
    "y_test = y.loc[X_test.index]"
   ]
  },
  {
   "cell_type": "markdown",
   "metadata": {},
   "source": [
    "# Build a model"
   ]
  },
  {
   "cell_type": "code",
   "execution_count": null,
   "metadata": {
    "collapsed": true
   },
   "outputs": [],
   "source": [
    "from sklearn.ensemble import ExtraTreesRegressor"
   ]
  },
  {
   "cell_type": "code",
   "execution_count": null,
   "metadata": {},
   "outputs": [],
   "source": [
    "et = ExtraTreesRegressor(n_jobs=-1, n_estimators=500)\n",
    "et.fit(X_train, y_train)"
   ]
  },
  {
   "cell_type": "markdown",
   "metadata": {},
   "source": [
    "# Evaluate model"
   ]
  },
  {
   "cell_type": "code",
   "execution_count": null,
   "metadata": {
    "collapsed": true
   },
   "outputs": [],
   "source": [
    "y_pred = pd.Series(et.predict(X_test), X_test.index)"
   ]
  },
  {
   "cell_type": "code",
   "execution_count": null,
   "metadata": {},
   "outputs": [],
   "source": [
    "test_referral_table = referral_table.loc[X_test.index]"
   ]
  },
  {
   "cell_type": "code",
   "execution_count": null,
   "metadata": {
    "collapsed": true
   },
   "outputs": [],
   "source": [
    "def get_scores_per_window(x, y, group, threshold=0.50):\n",
    "    corr = spearmanr(x, y)[0]\n",
    "    mu_a = x.groupby(group).mean()\n",
    "    mu_p = y.groupby(group).mean()\n",
    "    mu_a_top = mu_a[mu_a.rank(ascending=False) / len(mu_a) < threshold]\n",
    "    mu_p_top = mu_p[mu_p.rank(ascending=False) / len(mu_p) < threshold]\n",
    "    overlap = mu_p_top.index.isin(mu_a_top.index).mean()\n",
    "    return pd.Series([corr, overlap], index=['spearman', 'overlap'])"
   ]
  },
  {
   "cell_type": "code",
   "execution_count": null,
   "metadata": {},
   "outputs": [],
   "source": [
    "def evaluate_average_weekly_rank_correlation(test_referral_table, y_test, y_pred):\n",
    "    grouped_y = test_referral_table.assign(y=y_test, pred=y_pred).set_index('Referral_ReferralTakenDate')\\\n",
    "        .groupby([pd.TimeGrouper('1W'), 'Client_ClientId'])['y'].mean()\n",
    "    grouped_pred_y = test_referral_table.assign(y=y_test, pred=y_pred).set_index('Referral_ReferralTakenDate')\\\n",
    "        .groupby([pd.TimeGrouper('1W'), 'Client_ClientId'])['pred'].mean()\n",
    "    time_grouped = pd.concat([grouped_y, grouped_pred_y], axis=1)\n",
    "    return time_grouped.reset_index().groupby(['Referral_ReferralTakenDate']).\\\n",
    "        apply(lambda k: get_scores_per_window(k['y'], k['pred'], k['Client_ClientId'])).dropna().mean()"
   ]
  },
  {
   "cell_type": "code",
   "execution_count": null,
   "metadata": {},
   "outputs": [],
   "source": [
    "evaluate_average_weekly_rank_correlation(test_referral_table, y_test, y_pred)"
   ]
  },
  {
   "cell_type": "markdown",
   "metadata": {},
   "source": [
    "# Save your model"
   ]
  },
  {
   "cell_type": "code",
   "execution_count": null,
   "metadata": {
    "collapsed": true
   },
   "outputs": [],
   "source": [
    "from api.utils.models import TWCModel"
   ]
  },
  {
   "cell_type": "code",
   "execution_count": null,
   "metadata": {
    "collapsed": true
   },
   "outputs": [],
   "source": [
    "model = TWCModel()\n",
    "model.transformer = transformer\n",
    "model.model = et\n",
    "model.save('etmodel.p')"
   ]
  },
  {
   "cell_type": "code",
   "execution_count": null,
   "metadata": {
    "collapsed": true
   },
   "outputs": [],
   "source": [
    "model2 = TWCModel()"
   ]
  },
  {
   "cell_type": "code",
   "execution_count": null,
   "metadata": {
    "collapsed": true
   },
   "outputs": [],
   "source": [
    "model2.load('etmodel.p')"
   ]
  },
  {
   "cell_type": "markdown",
   "metadata": {},
   "source": [
    "### Test your model works on json test file"
   ]
  },
  {
   "cell_type": "code",
   "execution_count": null,
   "metadata": {
    "collapsed": true
   },
   "outputs": [],
   "source": [
    "with open('../api/twc_sample_request.json') as f:\n",
    "    json_string = f.read()"
   ]
  },
  {
   "cell_type": "code",
   "execution_count": null,
   "metadata": {
    "collapsed": true
   },
   "outputs": [],
   "source": [
    "p = ParseJSONToTablesTransformer()\n",
    "example_tables = p.fit_transform(json_string)"
   ]
  },
  {
   "cell_type": "code",
   "execution_count": null,
   "metadata": {},
   "outputs": [],
   "source": [
    "model2.transformer.fit_transform(example_tables)"
   ]
  }
 ],
 "metadata": {
  "kernelspec": {
   "display_name": "Python 3",
   "language": "python",
   "name": "python3"
  },
  "language_info": {
   "codemirror_mode": {
    "name": "ipython",
    "version": 3
   },
   "file_extension": ".py",
   "mimetype": "text/x-python",
   "name": "python",
   "nbconvert_exporter": "python",
   "pygments_lexer": "ipython3",
   "version": "3.5.1"
  }
 },
 "nbformat": 4,
 "nbformat_minor": 2
}
