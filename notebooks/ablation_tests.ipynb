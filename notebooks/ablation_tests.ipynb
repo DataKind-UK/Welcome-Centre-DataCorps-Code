{
 "cells": [
  {
   "cell_type": "code",
   "execution_count": 36,
   "metadata": {
    "collapsed": true
   },
   "outputs": [],
   "source": [
    "import pandas as pd\n",
    "import numpy as np\n",
    "\n",
    "from sklearn.linear_model import LogisticRegression, Ridge\n",
    "from sklearn.ensemble import ExtraTreesRegressor\n",
    "from sklearn.model_selection import GridSearchCV, cross_val_predict, train_test_split\n",
    "from sklearn.preprocessing import StandardScaler, Imputer\n",
    "from sklearn.pipeline import Pipeline\n",
    "from sklearn.metrics import roc_auc_score, make_scorer\n",
    "\n",
    "%matplotlib inline\n",
    "import seaborn as sns\n",
    "from tqdm import tqdm_notebook\n",
    "\n",
    "from scipy.stats import beta, spearmanr\n",
    "from datetime import datetime"
   ]
  },
  {
   "cell_type": "code",
   "execution_count": 2,
   "metadata": {},
   "outputs": [
    {
     "name": "stderr",
     "output_type": "stream",
     "text": [
      "/Users/jamesgin/.virtualenvs/hardys/lib/python3.6/site-packages/IPython/core/interactiveshell.py:2728: DtypeWarning: Columns (44,46,47,51) have mixed types. Specify dtype option on import or set low_memory=False.\n",
      "  interactivity=interactivity, compiler=compiler, result=result)\n"
     ]
    }
   ],
   "source": [
    "referrals = pd.read_csv('../../Welcome-Centre-DataCorps-Data/referrals.csv')\n",
    "\n",
    "clients = pd.read_csv('../../Welcome-Centre-DataCorps-Data/clients.csv', index_col=0)\n",
    "\n",
    "referrals['ReferralTakenDate'] = pd.to_datetime(referrals['ReferralTakenDate'])\n",
    "    \n",
    "referrals = referrals.sort_values('ReferralTakenDate')"
   ]
  },
  {
   "cell_type": "code",
   "execution_count": 3,
   "metadata": {
    "collapsed": true
   },
   "outputs": [],
   "source": [
    "def get_feature_matrix(referrals, clients):\n",
    "    general = referrals[['DependantNumber', 'LivingWithPartner']]\n",
    "    current_issues = get_current_referral_issues(referrals)\n",
    "    any_issue = current_issues.groupby(referrals['ClientId'], as_index=False, sort=False).expanding().sum() > 0\n",
    "    any_issue.index = any_issue.index.droplevel(0)\n",
    "    any_issue = any_issue.loc[referrals.index]\n",
    "    referral_issues = pd.concat([general, current_issues.add_prefix('current_'), \n",
    "                      any_issue.add_prefix('ever_')], axis=1)\n",
    "    client_issues = get_client_features(clients).loc[referrals['ClientId']]\n",
    "    client_issues.index = referrals.index\n",
    "    return pd.concat([referral_issues, client_issues], axis=1)"
   ]
  },
  {
   "cell_type": "code",
   "execution_count": 4,
   "metadata": {
    "collapsed": true
   },
   "outputs": [],
   "source": [
    "def get_current_referral_issues(referrals):\n",
    "    referral_reasons = referrals.filter(like='ReferralDomestic').add_prefix('reasons_')\n",
    "    referral_document = referrals.filter(like='ReferralDocument').add_prefix('documents_')\n",
    "    referral_benefit = referrals.filter(like='ReferralBenefit').add_prefix('benefit_')\n",
    "    referral_issue = referrals.filter(like='ReferralIssue').add_prefix('r_issue_')\n",
    "    referral_reason = referrals.filter(like='ReferralReason').add_prefix('reason_')\n",
    "    client_issue = referrals.filter(like='ClientIssue').add_prefix('c_issue_')\n",
    "    referral_agency = pd.get_dummies(referrals['ReferralAgencyId']).add_prefix('agency_')\n",
    "\n",
    "    X = pd.concat([\n",
    "        referral_reasons,\n",
    "        referral_document,\n",
    "        referral_benefit,\n",
    "        referral_issue,\n",
    "        referral_reason,\n",
    "        referral_agency,\n",
    "        client_issue\n",
    "    ], axis=1).fillna(False).astype(bool)\n",
    "    \n",
    "    return X"
   ]
  },
  {
   "cell_type": "code",
   "execution_count": 5,
   "metadata": {
    "collapsed": true
   },
   "outputs": [],
   "source": [
    "def get_client_features(clients):\n",
    "    clients['ClientDateOfBirth'] = pd.to_datetime(clients['ClientDateOfBirth'])\n",
    "    clients['AddressSinceDate'] = pd.to_datetime(clients['AddressSinceDate'])\n",
    "    clients['Age'] = datetime.now() - clients['ClientDateOfBirth']\n",
    "    clients['Age'] = clients['Age'].dt.days / 365\n",
    "    clients.loc[clients['Age'] < 0, 'Age'] += 100\n",
    "    clients['AddressLength'] = (datetime.now() - clients['AddressSinceDate']).dt.days / 365\n",
    "    categories = pd.get_dummies(clients[['EthnicityDescription', 'ClientCountryID', 'ClientAddressTypeDescription', 'AddressPostCode', \n",
    "        'LocalityDescription', 'ResidencyDescription']].astype(str))\n",
    "    clients['known_partner'] = clients['PartnerId'].notnull()\n",
    "\n",
    "    client_features = pd.concat([clients[['Age', 'AddressLength', 'ClientIsMale', 'known_partner']], \n",
    "              categories], axis=1)\n",
    "    client_features = client_features.fillna(client_features.median())\n",
    "    return client_features"
   ]
  },
  {
   "cell_type": "code",
   "execution_count": 6,
   "metadata": {
    "collapsed": true
   },
   "outputs": [],
   "source": [
    "def get_ewm_features(referrals, halflife=10):\n",
    "    unrolled = referrals.set_index('ReferralTakenDate').groupby('ClientId').apply(lambda k: k.groupby(pd.TimeGrouper('1W', convention='e')).size())\n",
    "\n",
    "    referrals['weeks'] = referrals['ReferralTakenDate'] - pd.to_timedelta(referrals['ReferralTakenDate'].dt.dayofweek, unit='d') + pd.to_timedelta(6, unit='d')\n",
    "    referrals['weeks'] = pd.to_datetime(referrals['weeks'].dt.date)\n",
    "\n",
    "    weighted = unrolled.groupby('ClientId').apply(lambda k: k.rolling(window=halflife).sum().shift(1)).reset_index()\n",
    "\n",
    "    return referrals.merge(weighted, right_on=['ClientId', 'ReferralTakenDate'], left_on=['ClientId', 'weeks'])\\\n",
    "        .set_index('ReferralInstanceId')[0].fillna(0)"
   ]
  },
  {
   "cell_type": "code",
   "execution_count": 7,
   "metadata": {
    "collapsed": true
   },
   "outputs": [],
   "source": [
    "def get_all_ewm_features(windows, referrals):\n",
    "    df = pd.DataFrame(index=referrals.index)\n",
    "    for i in windows:\n",
    "        ewm = get_ewm_features(referrals, i)\n",
    "        df['ewm_{}'.format(i)] = ewm.loc[referrals['ReferralInstanceId']].values\n",
    "    return df"
   ]
  },
  {
   "cell_type": "code",
   "execution_count": 8,
   "metadata": {
    "collapsed": true
   },
   "outputs": [],
   "source": [
    "import sys\n",
    "sys.path.append('../')\n",
    "from scripts.model_utils import (calc_look_ahead_stats, calculate_burst_number, get_client_features,\n",
    "                                get_feature_matrix, get_current_referral_issues)"
   ]
  },
  {
   "cell_type": "code",
   "execution_count": 17,
   "metadata": {},
   "outputs": [
    {
     "data": {
      "text/plain": [
       "Index(['ReferralDietaryRequirements_Vegan',\n",
       "       'ReferralDietaryRequirements_Vegetarian',\n",
       "       'ReferralDietaryRequirements_lactose intolerent',\n",
       "       'ReferralDietaryRequirements_pregnancy', 'referral_no',\n",
       "       'reference_date', 'counts', 'future_referral_score', 'gaps', 'day_diff',\n",
       "       'start_of_burst', 'burst_number', 'burst_length', 'index_in_burst',\n",
       "       'has_had_previous_burst'],\n",
       "      dtype='object')"
      ]
     },
     "execution_count": 17,
     "metadata": {},
     "output_type": "execute_result"
    }
   ],
   "source": [
    "referrals.columns[-15:]"
   ]
  },
  {
   "cell_type": "code",
   "execution_count": 22,
   "metadata": {},
   "outputs": [
    {
     "data": {
      "application/vnd.jupyter.widget-view+json": {
       "model_id": "f4116df0a94b4d0daf55e629a0c22240",
       "version_major": 2,
       "version_minor": 0
      },
      "text/html": [
       "<p>Failed to display Jupyter Widget of type <code>HBox</code>.</p>\n",
       "<p>\n",
       "  If you're reading this message in the Jupyter Notebook or JupyterLab Notebook, it may mean\n",
       "  that the widgets JavaScript is still loading. If this message persists, it\n",
       "  likely means that the widgets JavaScript library is either not installed or\n",
       "  not enabled. See the <a href=\"https://ipywidgets.readthedocs.io/en/stable/user_install.html\">Jupyter\n",
       "  Widgets Documentation</a> for setup instructions.\n",
       "</p>\n",
       "<p>\n",
       "  If you're reading this message in another frontend (for example, a static\n",
       "  rendering on GitHub or <a href=\"https://nbviewer.jupyter.org/\">NBViewer</a>),\n",
       "  it may mean that your frontend doesn't currently support widgets.\n",
       "</p>\n"
      ],
      "text/plain": [
       "HBox(children=(IntProgress(value=0, max=107), HTML(value='')))"
      ]
     },
     "metadata": {},
     "output_type": "display_data"
    },
    {
     "name": "stderr",
     "output_type": "stream",
     "text": [
      "../scripts/model_utils.py:31: FutureWarning: \n",
      "Passing list-likes to .loc or [] with any missing label will raise\n",
      "KeyError in the future, you can use .reindex() as an alternative.\n",
      "\n",
      "See the documentation here:\n",
      "http://pandas.pydata.org/pandas-docs/stable/indexing.html#deprecate-loc-reindex-listlike\n",
      "  referrals = referrals.assign(reference_date=reference_date.loc[referrals.ClientId].values)\n"
     ]
    },
    {
     "name": "stdout",
     "output_type": "stream",
     "text": [
      "\n"
     ]
    },
    {
     "name": "stderr",
     "output_type": "stream",
     "text": [
      "../scripts/model_utils.py:46: FutureWarning: \n",
      "Passing list-likes to .loc or [] with any missing label will raise\n",
      "KeyError in the future, you can use .reindex() as an alternative.\n",
      "\n",
      "See the documentation here:\n",
      "http://pandas.pydata.org/pandas-docs/stable/indexing.html#deprecate-loc-reindex-listlike\n",
      "  all_ratios_df = pd.concat(all_ratios).loc[referrals.index]\n"
     ]
    }
   ],
   "source": [
    "referrals = referrals.pipe(calc_look_ahead_stats).pipe(calculate_burst_number)\n",
    "referrals = referrals[referrals['ReferralTakenDate'] < (referrals['ReferralTakenDate'].max() - pd.Timedelta(365, 'd'))]\n",
    "referrals = referrals.sort_values('ReferralTakenDate')"
   ]
  },
  {
   "cell_type": "code",
   "execution_count": 23,
   "metadata": {
    "collapsed": true
   },
   "outputs": [],
   "source": [
    "client_and_referral_features = get_feature_matrix(referrals, clients)"
   ]
  },
  {
   "cell_type": "code",
   "execution_count": 24,
   "metadata": {},
   "outputs": [
    {
     "name": "stderr",
     "output_type": "stream",
     "text": [
      "/Users/jamesgin/.virtualenvs/hardys/lib/python3.6/site-packages/ipykernel_launcher.py:2: FutureWarning: pd.TimeGrouper is deprecated and will be removed; Please use pd.Grouper(freq=...)\n",
      "  \n"
     ]
    }
   ],
   "source": [
    "ewm_features = get_all_ewm_features([1, 5, 10, 20, 40], referrals)"
   ]
  },
  {
   "cell_type": "code",
   "execution_count": 25,
   "metadata": {
    "collapsed": true
   },
   "outputs": [],
   "source": [
    "referral_no = referrals.assign(count=1).groupby('ClientId').expanding()['count'].sum()\n",
    "referral_no = referral_no.reset_index().set_index('level_1')['count'].to_frame()"
   ]
  },
  {
   "cell_type": "code",
   "execution_count": 26,
   "metadata": {
    "collapsed": true
   },
   "outputs": [],
   "source": [
    "y = referrals.sort_values('ReferralTakenDate')['future_referral_score']"
   ]
  },
  {
   "cell_type": "code",
   "execution_count": 28,
   "metadata": {
    "collapsed": true
   },
   "outputs": [],
   "source": [
    "y_train = y.iloc[:8000]\n",
    "y_test = y.iloc[8000:]"
   ]
  },
  {
   "cell_type": "code",
   "execution_count": 29,
   "metadata": {
    "collapsed": true
   },
   "outputs": [],
   "source": [
    "# Create Model Pipeline\n"
   ]
  },
  {
   "cell_type": "code",
   "execution_count": 76,
   "metadata": {},
   "outputs": [
    {
     "data": {
      "text/plain": [
       "Index(['ReferralDietaryRequirements_Vegetarian',\n",
       "       'ReferralDietaryRequirements_lactose intolerent',\n",
       "       'ReferralDietaryRequirements_pregnancy', 'referral_no',\n",
       "       'reference_date', 'counts', 'future_referral_score', 'gaps', 'day_diff',\n",
       "       'start_of_burst', 'burst_number', 'burst_length', 'index_in_burst',\n",
       "       'has_had_previous_burst', 'weeks'],\n",
       "      dtype='object')"
      ]
     },
     "execution_count": 76,
     "metadata": {},
     "output_type": "execute_result"
    }
   ],
   "source": [
    "referrals.columns[-15:]"
   ]
  },
  {
   "cell_type": "code",
   "execution_count": 77,
   "metadata": {
    "collapsed": true
   },
   "outputs": [],
   "source": [
    "ref_stats = referrals[['referral_no', 'start_of_burst', 'burst_number', 'index_in_burst', 'has_had_previous_burst']]"
   ]
  },
  {
   "cell_type": "code",
   "execution_count": 93,
   "metadata": {
    "collapsed": true
   },
   "outputs": [],
   "source": [
    "ds1 = ref_stats\n",
    "ds2 = pd.concat([ref_stats, client_and_referral_features], axis=1)\n",
    "ds3 = pd.concat([ref_stats, client_and_referral_features, ewm_features], axis=1)\n",
    "def get_train_test(df):\n",
    "    return (df.loc[y_train.index], y_train), (df.loc[y_test.index], y_test)\n",
    "datasets = {\n",
    "    'baseline': get_train_test(ref_stats),\n",
    "    'categorical': get_train_test(client_and_referral_features),\n",
    "    'time_series': get_train_test(ewm_features),\n",
    "    'baseline+categorical': get_train_test(ds2),\n",
    "    'baseline+categorical+time_series': get_train_test(ds3),\n",
    "}"
   ]
  },
  {
   "cell_type": "code",
   "execution_count": 164,
   "metadata": {
    "collapsed": true
   },
   "outputs": [],
   "source": [
    "train_ref = referrals.loc[y_train.index]\n",
    "test_ref = referrals.loc[y_test.index]\n",
    "sample_weight = 1 / train_ref['referral_no']\n",
    "sample_weight.index = train_ref.index"
   ]
  },
  {
   "cell_type": "code",
   "execution_count": 165,
   "metadata": {
    "collapsed": true
   },
   "outputs": [],
   "source": [
    "from collections import namedtuple\n",
    "Model = namedtuple('Model', ['name', 'model', 'fit_params'])"
   ]
  },
  {
   "cell_type": "code",
   "execution_count": 166,
   "metadata": {
    "collapsed": true
   },
   "outputs": [],
   "source": [
    "def get_model_1():\n",
    "    pipe = Pipeline([\n",
    "        ('imp', Imputer()),\n",
    "        ('scale', StandardScaler()),\n",
    "        ('reg', Ridge())\n",
    "    ])\n",
    "    param_grid = {\n",
    "        'reg__alpha': np.logspace(-5,5,11)\n",
    "    }\n",
    "    gs = GridSearchCV(pipe, param_grid, cv=3, scoring='neg_mean_absolute_error', verbose=0)\n",
    "    return Model('linear', gs, {'reg__sample_weight': sample_weight})"
   ]
  },
  {
   "cell_type": "code",
   "execution_count": 167,
   "metadata": {
    "collapsed": true
   },
   "outputs": [],
   "source": [
    "def get_model_2():\n",
    "    return Model('ExtraTrees', ExtraTreesRegressor(n_jobs=-1, n_estimators=500), {'sample_weight': sample_weight})"
   ]
  },
  {
   "cell_type": "code",
   "execution_count": 168,
   "metadata": {
    "collapsed": true
   },
   "outputs": [],
   "source": [
    "def get_scores(x, y, group, threshold=0.50):\n",
    "    corr = spearmanr(x, y)[0]\n",
    "    mu_a = x.groupby(group).mean()\n",
    "    mu_p = y.groupby(group).mean()\n",
    "    mu_a_top = mu_a[mu_a.rank(ascending=False) / len(mu_a) < threshold]\n",
    "    mu_p_top = mu_p[mu_p.rank(ascending=False) / len(mu_p) < threshold]\n",
    "    overlap = mu_p_top.index.isin(mu_a_top.index).mean()\n",
    "    return pd.Series([corr, overlap])"
   ]
  },
  {
   "cell_type": "code",
   "execution_count": 169,
   "metadata": {
    "collapsed": true
   },
   "outputs": [],
   "source": [
    "models = [get_model_1(), get_model_2()]"
   ]
  },
  {
   "cell_type": "code",
   "execution_count": 170,
   "metadata": {},
   "outputs": [
    {
     "name": "stderr",
     "output_type": "stream",
     "text": [
      "/Users/jamesgin/.virtualenvs/hardys/lib/python3.6/site-packages/ipykernel_launcher.py:7: FutureWarning: pd.TimeGrouper is deprecated and will be removed; Please use pd.Grouper(freq=...)\n",
      "  import sys\n"
     ]
    },
    {
     "name": "stdout",
     "output_type": "stream",
     "text": [
      "('baseline', 'linear', 0.4216894307106861, 0.6557748033760396)\n"
     ]
    },
    {
     "name": "stderr",
     "output_type": "stream",
     "text": [
      "/Users/jamesgin/.virtualenvs/hardys/lib/python3.6/site-packages/ipykernel_launcher.py:7: FutureWarning: pd.TimeGrouper is deprecated and will be removed; Please use pd.Grouper(freq=...)\n",
      "  import sys\n"
     ]
    },
    {
     "name": "stdout",
     "output_type": "stream",
     "text": [
      "('baseline', 'ExtraTrees', 0.3909562272302863, 0.6524711709511021)\n"
     ]
    },
    {
     "name": "stderr",
     "output_type": "stream",
     "text": [
      "/Users/jamesgin/.virtualenvs/hardys/lib/python3.6/site-packages/ipykernel_launcher.py:7: FutureWarning: pd.TimeGrouper is deprecated and will be removed; Please use pd.Grouper(freq=...)\n",
      "  import sys\n"
     ]
    },
    {
     "name": "stdout",
     "output_type": "stream",
     "text": [
      "('categorical', 'linear', 0.27102969448499786, 0.5972929244642673)\n"
     ]
    },
    {
     "name": "stderr",
     "output_type": "stream",
     "text": [
      "/Users/jamesgin/.virtualenvs/hardys/lib/python3.6/site-packages/ipykernel_launcher.py:7: FutureWarning: pd.TimeGrouper is deprecated and will be removed; Please use pd.Grouper(freq=...)\n",
      "  import sys\n"
     ]
    },
    {
     "name": "stdout",
     "output_type": "stream",
     "text": [
      "('categorical', 'ExtraTrees', 0.4533690259170525, 0.6666797411721737)\n"
     ]
    },
    {
     "name": "stderr",
     "output_type": "stream",
     "text": [
      "/Users/jamesgin/.virtualenvs/hardys/lib/python3.6/site-packages/ipykernel_launcher.py:7: FutureWarning: pd.TimeGrouper is deprecated and will be removed; Please use pd.Grouper(freq=...)\n",
      "  import sys\n"
     ]
    },
    {
     "name": "stdout",
     "output_type": "stream",
     "text": [
      "('time_series', 'linear', 0.422143689203655, 0.660798020099724)\n"
     ]
    },
    {
     "name": "stderr",
     "output_type": "stream",
     "text": [
      "/Users/jamesgin/.virtualenvs/hardys/lib/python3.6/site-packages/ipykernel_launcher.py:7: FutureWarning: pd.TimeGrouper is deprecated and will be removed; Please use pd.Grouper(freq=...)\n",
      "  import sys\n"
     ]
    },
    {
     "name": "stdout",
     "output_type": "stream",
     "text": [
      "('time_series', 'ExtraTrees', 0.3504453126804915, 0.6455967357376207)\n"
     ]
    },
    {
     "name": "stderr",
     "output_type": "stream",
     "text": [
      "/Users/jamesgin/.virtualenvs/hardys/lib/python3.6/site-packages/ipykernel_launcher.py:7: FutureWarning: pd.TimeGrouper is deprecated and will be removed; Please use pd.Grouper(freq=...)\n",
      "  import sys\n"
     ]
    },
    {
     "name": "stdout",
     "output_type": "stream",
     "text": [
      "('baseline+categorical', 'linear', 0.3403061234049056, 0.6107610080434293)\n"
     ]
    },
    {
     "name": "stderr",
     "output_type": "stream",
     "text": [
      "/Users/jamesgin/.virtualenvs/hardys/lib/python3.6/site-packages/ipykernel_launcher.py:7: FutureWarning: pd.TimeGrouper is deprecated and will be removed; Please use pd.Grouper(freq=...)\n",
      "  import sys\n"
     ]
    },
    {
     "name": "stdout",
     "output_type": "stream",
     "text": [
      "('baseline+categorical', 'ExtraTrees', 0.4958433532290211, 0.6779920151854285)\n"
     ]
    },
    {
     "name": "stderr",
     "output_type": "stream",
     "text": [
      "/Users/jamesgin/.virtualenvs/hardys/lib/python3.6/site-packages/ipykernel_launcher.py:7: FutureWarning: pd.TimeGrouper is deprecated and will be removed; Please use pd.Grouper(freq=...)\n",
      "  import sys\n"
     ]
    },
    {
     "name": "stdout",
     "output_type": "stream",
     "text": [
      "('baseline+categorical+time_series', 'linear', 0.3640103643904091, 0.6242826668096705)\n"
     ]
    },
    {
     "name": "stderr",
     "output_type": "stream",
     "text": [
      "/Users/jamesgin/.virtualenvs/hardys/lib/python3.6/site-packages/ipykernel_launcher.py:7: FutureWarning: pd.TimeGrouper is deprecated and will be removed; Please use pd.Grouper(freq=...)\n",
      "  import sys\n"
     ]
    },
    {
     "name": "stdout",
     "output_type": "stream",
     "text": [
      "('baseline+categorical+time_series', 'ExtraTrees', 0.4999377057309589, 0.6818930647460575)\n"
     ]
    }
   ],
   "source": [
    "results = []\n",
    "for ds_name in datasets:\n",
    "    train, test = datasets[ds_name]\n",
    "    for m in models:\n",
    "        m.model.fit(train[0], train[1], **m.fit_params)\n",
    "        pred = pd.Series(m.model.predict(test[0]), index=test[0].index)\n",
    "        time_grouped = test_ref.assign(y=y_test).assign(pred=pred).set_index('ReferralTakenDate').groupby([pd.TimeGrouper('1W'), 'ClientId'])[['y', 'pred']].mean()\n",
    "        res = time_grouped.reset_index().groupby(['ReferralTakenDate']).apply(lambda k: get_scores(k['y'], k['pred'], k['ClientId'])).dropna().mean()\n",
    "        results.append((ds_name, m.name, res[0], res[1]))\n",
    "        print(results[-1])"
   ]
  },
  {
   "cell_type": "code",
   "execution_count": 118,
   "metadata": {
    "collapsed": true
   },
   "outputs": [],
   "source": [
    "import seaborn as sns\n",
    "from matplotlib import pyplot as plt"
   ]
  },
  {
   "cell_type": "code",
   "execution_count": 162,
   "metadata": {
    "collapsed": true
   },
   "outputs": [],
   "source": [
    "results_df = pd.DataFrame(results, columns=['dataset', 'model', 'correlation', 'top10'])"
   ]
  },
  {
   "cell_type": "code",
   "execution_count": 135,
   "metadata": {},
   "outputs": [
    {
     "data": {
      "text/plain": [
       "(0.25, 0.55)"
      ]
     },
     "execution_count": 135,
     "metadata": {},
     "output_type": "execute_result"
    },
    {
     "data": {
      "image/png": "[encoded data removed]",
      "text/plain": [
       "<matplotlib.figure.Figure at 0x14c374ef0>"
      ]
     },
     "metadata": {},
     "output_type": "display_data"
    },
    {
     "data": {
      "image/png": "[encoded data removed]",
      "text/plain": [
       "<matplotlib.figure.Figure at 0x14c5ae908>"
      ]
     },
     "metadata": {},
     "output_type": "display_data"
    }
   ],
   "source": [
    "fig, ax = plt.subplots(figsize=(9,7))\n",
    "plt.xticks(rotation=90)\n",
    "sns.factorplot(x='dataset', y='correlation', hue='model', \n",
    "               data=pd.DataFrame(results, columns=['dataset', 'model', 'correlation', 'top10']), kind='bar',\n",
    "              ax=ax)\n",
    "ax.set_ylim(0.25,0.55)\n"
   ]
  },
  {
   "cell_type": "code",
   "execution_count": 139,
   "metadata": {
    "collapsed": true
   },
   "outputs": [],
   "source": [
    "from datetime import date"
   ]
  },
  {
   "cell_type": "code",
   "execution_count": 160,
   "metadata": {},
   "outputs": [
    {
     "data": {
      "image/png": "[encoded data removed]",
      "text/plain": [
       "<matplotlib.figure.Figure at 0x1178f4240>"
      ]
     },
     "metadata": {},
     "output_type": "display_data"
    }
   ],
   "source": [
    "def plot_time_series_with_scores(referrals, client_ids_to_plot):\n",
    "    for_plot = referrals[(referrals['ClientId'].isin(client_ids_to_plot))]\n",
    "    fig = plt.figure(figsize=(10, 5))\n",
    "    gs = plt.GridSpec(2, 1, height_ratios=[1, 2]) \n",
    "    ax0 = plt.subplot(gs[0])\n",
    "    ax1 = plt.subplot(gs[1])\n",
    "    i = 1\n",
    "    for k,g in for_plot.groupby('ClientId'):\n",
    "        g = g.sort_values('ReferralTakenDate')\n",
    "        ax0.plot_date(x=g['ReferralTakenDate'], y=[i for j in range(len(g))])\n",
    "        ax1.plot_date(x=g['ReferralTakenDate'], y=g['future_referral_score'],\n",
    "                     linestyle='solid', marker='None')\n",
    "        i += 1\n",
    "    ax0.set_xlim(date(2014,1,1), date(2017,4,1))\n",
    "    ax1.set_xlim(date(2014,1,1), date(2017,4,1))\n",
    "    ax0.set_ylabel('Client')\n",
    "    ax0.set_ylim(0, len(client_ids_to_plot) + 1)\n",
    "    ax1.set_ylabel('Future Referral Score')\n",
    "    \n",
    "plot_time_series_with_scores(referrals, referrals.groupby('ClientId').size().sample(100).index)"
   ]
  },
  {
   "cell_type": "markdown",
   "metadata": {
    "collapsed": true
   },
   "source": [
    "# Baseline"
   ]
  },
  {
   "cell_type": "code",
   "execution_count": null,
   "metadata": {
    "collapsed": true
   },
   "outputs": [],
   "source": [
    "X_train = referrals[['referral_no']].loc[y_train.index]\n",
    "X_test = referrals[['referral_no']].loc[y_test.index]"
   ]
  },
  {
   "cell_type": "code",
   "execution_count": null,
   "metadata": {
    "collapsed": true
   },
   "outputs": [],
   "source": [
    "# Fit Logistic Regression\n",
    "param_grid = {\n",
    "    'reg__alpha': np.logspace(-5,5,11)\n",
    "}\n",
    "gs = GridSearchCV(pipe, param_grid, cv=10, scoring='neg_mean_absolute_error', verbose=3)\n",
    "gs.fit(X_train, y_train)"
   ]
  },
  {
   "cell_type": "code",
   "execution_count": null,
   "metadata": {
    "collapsed": true
   },
   "outputs": [],
   "source": [
    "np.corrcoef(gs.predict(X_test), y_test)\n"
   ]
  },
  {
   "cell_type": "markdown",
   "metadata": {},
   "source": [
    "# Referral/Client Features"
   ]
  },
  {
   "cell_type": "code",
   "execution_count": null,
   "metadata": {
    "collapsed": true
   },
   "outputs": [],
   "source": [
    "X_train = client_and_referral_features.loc[y_train.index]\n",
    "X_test = client_and_referral_features.loc[y_test.index]"
   ]
  },
  {
   "cell_type": "code",
   "execution_count": null,
   "metadata": {
    "collapsed": true
   },
   "outputs": [],
   "source": [
    "from scipy.sparse import csr_matrix"
   ]
  },
  {
   "cell_type": "code",
   "execution_count": null,
   "metadata": {
    "collapsed": true
   },
   "outputs": [],
   "source": [
    "csr_matrix((X_train*1).astype(int))"
   ]
  },
  {
   "cell_type": "code",
   "execution_count": null,
   "metadata": {
    "collapsed": true
   },
   "outputs": [],
   "source": [
    "# Fit Logistic Regression\n",
    "param_grid = {\n",
    "    'reg__alpha': np.logspace(-5,5,11)\n",
    "}\n",
    "gs = GridSearchCV(pipe, param_grid, cv=10, scoring='neg_mean_absolute_error', verbose=3)\n",
    "gs.fit(X_train, y_train)"
   ]
  },
  {
   "cell_type": "code",
   "execution_count": null,
   "metadata": {
    "collapsed": true
   },
   "outputs": [],
   "source": [
    "np.corrcoef(gs.predict(X_test), y_test)\n"
   ]
  },
  {
   "cell_type": "markdown",
   "metadata": {},
   "source": [
    "# Window Features"
   ]
  },
  {
   "cell_type": "code",
   "execution_count": null,
   "metadata": {
    "collapsed": true
   },
   "outputs": [],
   "source": [
    "X_train = ewm_features.loc[y_train.index]\n",
    "X_test = ewm_features.loc[y_test.index]"
   ]
  },
  {
   "cell_type": "code",
   "execution_count": null,
   "metadata": {
    "collapsed": true
   },
   "outputs": [],
   "source": [
    "# Create Model Pipeline\n",
    "from sklearn.preprocessing import PolynomialFeatures\n",
    "pipe = Pipeline([\n",
    "    ('imp', Imputer()),\n",
    "    ('scale', StandardScaler()),\n",
    "#     ('poly', PolynomialFeatures(2)),\n",
    "    ('reg', Ridge())\n",
    "])"
   ]
  },
  {
   "cell_type": "code",
   "execution_count": null,
   "metadata": {
    "collapsed": true
   },
   "outputs": [],
   "source": [
    "# Fit Logistic Regression\n",
    "param_grid = {\n",
    "    'reg__alpha': np.logspace(-5,5,11)\n",
    "}\n",
    "gs = GridSearchCV(pipe, param_grid, cv=10, scoring='neg_mean_squared_error', verbose=3)\n",
    "gs.fit(X_train, y_train)"
   ]
  },
  {
   "cell_type": "code",
   "execution_count": null,
   "metadata": {
    "collapsed": true
   },
   "outputs": [],
   "source": [
    "np.corrcoef(gs.predict(X_test), y_test)\n"
   ]
  },
  {
   "cell_type": "markdown",
   "metadata": {},
   "source": [
    "# All Features"
   ]
  },
  {
   "cell_type": "code",
   "execution_count": null,
   "metadata": {
    "collapsed": true
   },
   "outputs": [],
   "source": [
    "X = pd.concat([ewm_features, client_and_referral_features, referrals[['referral_no']]], axis=1)\n",
    "X_train = X.loc[y_train.index]\n",
    "X_test = X.loc[y_test.index]"
   ]
  },
  {
   "cell_type": "code",
   "execution_count": null,
   "metadata": {
    "collapsed": true
   },
   "outputs": [],
   "source": [
    "# Fit Logistic Regression\n",
    "param_grid = {\n",
    "    'reg__alpha': np.logspace(-5,5,11)\n",
    "}\n",
    "gs = GridSearchCV(pipe, param_grid, cv=10, scoring='neg_mean_absolute_error', verbose=3)\n",
    "gs.fit(X_train, y_train)"
   ]
  },
  {
   "cell_type": "code",
   "execution_count": null,
   "metadata": {
    "collapsed": true
   },
   "outputs": [],
   "source": [
    "np.corrcoef(gs.predict(X_test), y_test)"
   ]
  },
  {
   "cell_type": "code",
   "execution_count": null,
   "metadata": {
    "collapsed": true
   },
   "outputs": [],
   "source": [
    "spearmanr(gs.predict(X_test), y_test)\n"
   ]
  },
  {
   "cell_type": "code",
   "execution_count": null,
   "metadata": {
    "collapsed": true
   },
   "outputs": [],
   "source": [
    "from matplotlib import pyplot as plt\n",
    "%matplotlib inline\n",
    "plt.scatter(y_test, gs.predict(X_test))"
   ]
  },
  {
   "cell_type": "markdown",
   "metadata": {
    "collapsed": true
   },
   "source": [
    "# Metric Adjustment\n",
    "\n",
    "Add sample weighting and do time slice evaluation"
   ]
  },
  {
   "cell_type": "code",
   "execution_count": null,
   "metadata": {
    "collapsed": true
   },
   "outputs": [],
   "source": [
    "from sklearn.base import BaseEstimator, RegressorMixin\n",
    "\n",
    "class SegmentedRegressor(BaseEstimator, RegressorMixin):\n",
    "    def __init__(self, base_cls, splitters, split_on):\n",
    "        self.base_cls = base_cls\n",
    "        self.splitters = [-np.inf] + splitters + [np.inf]\n",
    "        self.split_on = split_on\n",
    "        self.models = {}\n",
    "\n",
    "    def fit(self, X, y, **fit_params):\n",
    "        sample_weight = fit_params['sample_weight']\n",
    "        split_categories = pd.cut(X[self.split_on], self.splitters)\n",
    "        groups = X.groupby(split_categories).groups\n",
    "        for ind in groups:\n",
    "            self.models[ind] = self.base_cls()\n",
    "            self.models[ind].fit(X.loc[groups[ind]], y.loc[groups[ind]], \n",
    "                                 sample_weight=sample_weight.loc[groups[ind]])\n",
    "    \n",
    "    def predict(self, X):\n",
    "        split_categories = pd.cut(X[self.split_on], self.splitters)\n",
    "        y_pred = pd.Series(index=X.index)\n",
    "        groups = X.groupby(split_categories).groups\n",
    "        for ind in groups:\n",
    "            pred = self.models[ind].predict(X.loc[groups[ind]])            \n",
    "            y_pred.loc[groups[ind]] = pred\n",
    "            \n",
    "        return y_pred"
   ]
  },
  {
   "cell_type": "code",
   "execution_count": null,
   "metadata": {
    "collapsed": true
   },
   "outputs": [],
   "source": [
    "X = pd.concat([ewm_features, client_and_referral_features, referrals['referral_no']], axis=1)\n",
    "X_train = X.loc[y_train.index]\n",
    "X_test = X.loc[y_test.index]"
   ]
  },
  {
   "cell_type": "code",
   "execution_count": null,
   "metadata": {
    "collapsed": true
   },
   "outputs": [],
   "source": [
    "from sklearn.ensemble import ExtraTreesRegressor\n",
    "et = ExtraTreesRegressor(1000, n_jobs=-1)\n",
    "et.fit(X_train, y_train, sample_weight=sample_weight)"
   ]
  },
  {
   "cell_type": "code",
   "execution_count": null,
   "metadata": {
    "collapsed": true
   },
   "outputs": [],
   "source": [
    "pred = pd.Series(et.predict(X_test), y_test.index)"
   ]
  },
  {
   "cell_type": "code",
   "execution_count": null,
   "metadata": {
    "collapsed": true
   },
   "outputs": [],
   "source": [
    "from sklearn.linear_model import RidgeCV\n",
    "seg = SegmentedRegressor(RidgeCV, list(range(1,32)), 'referral_no')\n",
    "seg.fit(X_train, y_train, sample_weight=sample_weight)\n"
   ]
  },
  {
   "cell_type": "code",
   "execution_count": null,
   "metadata": {
    "collapsed": true
   },
   "outputs": [],
   "source": [
    "pred = seg.predict(X_test)"
   ]
  },
  {
   "cell_type": "code",
   "execution_count": null,
   "metadata": {
    "collapsed": true
   },
   "outputs": [],
   "source": [
    "train_ref = referrals.loc[X_train.index]\n",
    "sample_weight = 1 / train_ref.groupby('ClientId').size().loc[train_ref['ClientId']]\n",
    "sample_weight.index = train_ref.index"
   ]
  },
  {
   "cell_type": "code",
   "execution_count": null,
   "metadata": {
    "collapsed": true,
    "scrolled": true
   },
   "outputs": [],
   "source": [
    "# Fit Logistic Regression\n",
    "param_grid = {\n",
    "    'reg__alpha': np.logspace(-5,5,11)\n",
    "}\n",
    "gs = GridSearchCV(pipe, param_grid, cv=3, scoring='neg_mean_absolute_error', verbose=3)\n",
    "gs.fit(X_train, y_train, reg__sample_weight=sample_weight)"
   ]
  },
  {
   "cell_type": "code",
   "execution_count": null,
   "metadata": {
    "collapsed": true
   },
   "outputs": [],
   "source": [
    "pred = pd.Series(gs.predict(X_test), index=X_test.index)\n",
    "test_ref = referrals.loc[X_test.index]"
   ]
  },
  {
   "cell_type": "code",
   "execution_count": null,
   "metadata": {
    "collapsed": true
   },
   "outputs": [],
   "source": [
    "t_counts = test_ref.groupby('ClientId')['referral_no'].max()"
   ]
  },
  {
   "cell_type": "code",
   "execution_count": null,
   "metadata": {
    "collapsed": true
   },
   "outputs": [],
   "source": [
    "def get_scores(x, y, threshold=0.10):\n",
    "    corr = spearmanr(x, y)[0]\n",
    "    mu_a_top = mu_a[mu_a.rank(ascending=False) / len(mu_a) < threshold]\n",
    "    mu_p_top = mu_p[mu_p.rank(ascending=False) / len(mu_p) < threshold]\n",
    "    overlap = mu_p_top.index.isin(mu_a_top.index).mean()\n",
    "    return pd.Series([corr, overlap])"
   ]
  },
  {
   "cell_type": "code",
   "execution_count": null,
   "metadata": {
    "collapsed": true
   },
   "outputs": [],
   "source": [
    "time_grouped = test_ref.assign(y=y_test).assign(pred=pred).set_index('ReferralTakenDate').groupby([pd.TimeGrouper('1W'), 'ClientId'])[['y', 'pred']].mean()\n",
    "time_grouped.reset_index().groupby(['ReferralTakenDate']).apply(lambda k: get_scores(k['y'], k['pred'])).dropna().mean()"
   ]
  },
  {
   "cell_type": "code",
   "execution_count": null,
   "metadata": {
    "collapsed": true
   },
   "outputs": [],
   "source": [
    "time_grouped = test_ref.assign(y=y_test).assign(pred=pred).set_index('ReferralTakenDate').groupby([pd.TimeGrouper('1W'), 'ClientId'])[['y', 'pred']].mean()\n",
    "time_grouped.reset_index().groupby(['ReferralTakenDate']).apply(lambda k: get_scores(k['y'], k['pred'])).dropna().mean()"
   ]
  },
  {
   "cell_type": "code",
   "execution_count": null,
   "metadata": {
    "collapsed": true
   },
   "outputs": [],
   "source": [
    "time_grouped = test_ref.assign(y=y_test).assign(pred=pred).set_index('ReferralTakenDate').groupby([pd.TimeGrouper('1W'), 'ClientId'])[['y', 'pred']].mean()\n",
    "time_grouped.reset_index().groupby(['ReferralTakenDate']).apply(lambda k: get_scores(k['y'], k['pred'])).dropna().mean()"
   ]
  },
  {
   "cell_type": "code",
   "execution_count": null,
   "metadata": {
    "collapsed": true
   },
   "outputs": [],
   "source": [
    "time_grouped = test_ref.assign(y=y_test).assign(pred=pred).set_index('ReferralTakenDate').groupby([pd.TimeGrouper('1W'), 'ClientId'])[['y', 'pred']].mean()\n",
    "time_grouped.reset_index().groupby(['ReferralTakenDate']).apply(lambda k: get_scores(k['y'], k['pred'])).dropna().mean()"
   ]
  },
  {
   "cell_type": "code",
   "execution_count": null,
   "metadata": {
    "collapsed": true
   },
   "outputs": [],
   "source": [
    "time_grouped = test_ref.assign(y=y_test).assign(pred=pred).set_index('ReferralTakenDate').groupby([pd.TimeGrouper('1W'), 'ClientId'])[['y', 'pred']].mean()\n",
    "time_grouped.reset_index().groupby(['ReferralTakenDate']).apply(lambda k: get_scores(k['y'], k['pred'])).dropna().mean()"
   ]
  },
  {
   "cell_type": "code",
   "execution_count": null,
   "metadata": {
    "collapsed": true
   },
   "outputs": [],
   "source": [
    "time_grouped = test_ref.assign(y=y_test).assign(pred=pred).set_index('ReferralTakenDate').groupby([pd.TimeGrouper('1W'), 'ClientId'])[['y', 'pred']].mean()\n",
    "time_grouped.reset_index().groupby(['ReferralTakenDate']).apply(lambda k: get_scores(k['y'], k['pred'])).dropna().mean()"
   ]
  },
  {
   "cell_type": "code",
   "execution_count": null,
   "metadata": {
    "collapsed": true
   },
   "outputs": [],
   "source": [
    "mu_a = y_test.groupby(test_ref['ClientId']).mean()\n",
    "mu_p = pred.groupby(test_ref['ClientId']).mean()"
   ]
  },
  {
   "cell_type": "code",
   "execution_count": null,
   "metadata": {
    "collapsed": true
   },
   "outputs": [],
   "source": [
    "spearmanr(mu_a, mu_p)"
   ]
  },
  {
   "cell_type": "code",
   "execution_count": null,
   "metadata": {
    "collapsed": true
   },
   "outputs": [],
   "source": [
    "spearmanr(mu_a, mu_p)"
   ]
  },
  {
   "cell_type": "code",
   "execution_count": null,
   "metadata": {
    "collapsed": true
   },
   "outputs": [],
   "source": [
    "res = {}\n",
    "for i in range(2,15):\n",
    "    res[i] = spearmanr(mu_a[t_counts<i], mu_p[t_counts<i])[0]\n",
    "\n",
    "pd.Series(res).plot()\n",
    "    "
   ]
  },
  {
   "cell_type": "code",
   "execution_count": null,
   "metadata": {
    "collapsed": true
   },
   "outputs": [],
   "source": [
    "res = {}\n",
    "for i in range(2,15):\n",
    "    res[i] = spearmanr(mu_a[t_counts<i], mu_p[t_counts<i])[0]\n",
    "\n",
    "pd.Series(res).plot()\n",
    "    "
   ]
  },
  {
   "cell_type": "code",
   "execution_count": null,
   "metadata": {
    "collapsed": true
   },
   "outputs": [],
   "source": [
    "res = {}\n",
    "for i in range(1,12):\n",
    "    mu_a_top = mu_a[mu_a.rank(ascending=False) / len(mu_a) < i / 20]\n",
    "    mu_p_top = mu_p[mu_p.rank(ascending=False) / len(mu_p) < i / 20]\n",
    "    res[i/10] = mu_p_top.index.isin(mu_a_top.index).mean()"
   ]
  },
  {
   "cell_type": "code",
   "execution_count": null,
   "metadata": {
    "collapsed": true
   },
   "outputs": [],
   "source": [
    "plt.scatter(mu_a, mu_p, alpha=0.1)"
   ]
  },
  {
   "cell_type": "code",
   "execution_count": null,
   "metadata": {
    "collapsed": true
   },
   "outputs": [],
   "source": [
    "pd.Series(res).plot()"
   ]
  },
  {
   "cell_type": "code",
   "execution_count": null,
   "metadata": {
    "collapsed": true
   },
   "outputs": [],
   "source": [
    "mu_p_top.index.isin(mu_a_top.index).mean()"
   ]
  },
  {
   "cell_type": "code",
   "execution_count": null,
   "metadata": {
    "collapsed": true
   },
   "outputs": [],
   "source": []
  },
  {
   "cell_type": "code",
   "execution_count": null,
   "metadata": {
    "collapsed": true
   },
   "outputs": [],
   "source": []
  },
  {
   "cell_type": "code",
   "execution_count": null,
   "metadata": {
    "collapsed": true
   },
   "outputs": [],
   "source": [
    "spearmanr(mu_a.values, mu_p.values)"
   ]
  },
  {
   "cell_type": "code",
   "execution_count": null,
   "metadata": {
    "collapsed": true
   },
   "outputs": [],
   "source": [
    "# loop over each referral and check 'valid predictions' within the last 12 months. \n",
    "# What is the rank correlation within that set?\n",
    "tup_list = []\n",
    "for index, row in tqdm_notebook(test_ref.iterrows()):\n",
    "    referrals_in_period = test_ref[(test_ref['ReferralTakenDate'] > (row['ReferralTakenDate'] - pd.Timedelta(365, 'd')))\n",
    "                                & (test_ref['ReferralTakenDate'] <= row['ReferralTakenDate'])]\n",
    "    latest = referrals_in_period.reset_index().groupby('ClientId').last()\n",
    "    client_pred, client_score = pred.loc[latest['index']], y_test.loc[latest['index']]\n",
    "    actual_top = client_score[client_score.rank(ascending=False) / len(client_score) < 0.1]\n",
    "    pred_top = client_pred[client_pred.rank(ascending=False) / len(client_pred) < 0.1]\n",
    "    top_10 = pred_top.index.isin(actual_top.index).mean()\n",
    "    \n",
    "    corr = spearmanr(pred.loc[latest['index']], y_test.loc[latest['index']])\n",
    "    tup_list.append([index, len(latest), corr[0], corr[1], top_10])\n",
    "    \n"
   ]
  },
  {
   "cell_type": "code",
   "execution_count": null,
   "metadata": {
    "collapsed": true
   },
   "outputs": [],
   "source": [
    "pd.DataFrame(tup_list, columns=['index', 'n_clients', 'corr', 'p_value', 'overlap']).iloc[:1000]"
   ]
  },
  {
   "cell_type": "code",
   "execution_count": null,
   "metadata": {
    "collapsed": true
   },
   "outputs": [],
   "source": [
    "pd.DataFrame(tup_list, columns=['index', 'n_clients', 'corr', 'p_value', 'overlap']).dropna()[['corr', 'overlap']].plot()"
   ]
  },
  {
   "cell_type": "code",
   "execution_count": null,
   "metadata": {
    "collapsed": true,
    "scrolled": true
   },
   "outputs": [],
   "source": [
    "pd.DataFrame(tup_list, columns=['index', 'n_clients', 'corr', 'p_value', 'overlap']).dropna()[['corr', 'overlap']].plot()"
   ]
  },
  {
   "cell_type": "code",
   "execution_count": null,
   "metadata": {
    "collapsed": true
   },
   "outputs": [],
   "source": []
  }
 ],
 "metadata": {
  "kernelspec": {
   "display_name": "Python 3",
   "language": "python",
   "name": "python3"
  },
  "language_info": {
   "codemirror_mode": {
    "name": "ipython",
    "version": 3
   },
   "file_extension": ".py",
   "mimetype": "text/x-python",
   "name": "python",
   "nbconvert_exporter": "python",
   "pygments_lexer": "ipython3",
   "version": "3.5.1"
  }
 },
 "nbformat": 4,
 "nbformat_minor": 2
}
