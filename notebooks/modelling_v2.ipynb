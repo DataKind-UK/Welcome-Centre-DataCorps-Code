{
 "cells": [
  {
   "cell_type": "code",
   "execution_count": 1,
   "metadata": {},
   "outputs": [],
   "source": [
    "import pandas as pd\n",
    "import numpy as np\n",
    "from matplotlib import pyplot as plt\n",
    "import sys\n",
    "sys.path.append('../')\n",
    "from scripts.model_utils import (get_bayes_ratio_by_client, add_time_since_last_referral,\n",
    "                                 add_referral_order_index, add_a_first_referral_dummy_variable)\n",
    "import seaborn as sns\n",
    "%matplotlib inline\n",
    "from sklearn.linear_model import Ridge, Lasso, SGDRegressor\n",
    "from sklearn.pipeline import Pipeline\n",
    "from sklearn.preprocessing import Imputer, StandardScaler\n",
    "from sklearn.metrics import make_scorer\n",
    "from scipy.stats import spearmanr\n",
    "from sklearn.model_selection import GridSearchCV"
   ]
  },
  {
   "cell_type": "code",
   "execution_count": 2,
   "metadata": {},
   "outputs": [
    {
     "name": "stderr",
     "output_type": "stream",
     "text": [
      "/Users/davidsykes/anaconda/envs/data-analysis/lib/python3.5/site-packages/scipy/stats/_continuous_distns.py:404: RuntimeWarning: invalid value encountered in sqrt\n",
      "  sk = 2*(b-a)*sqrt(a + b + 1) / (a + b + 2) / sqrt(a*b)\n",
      "/Users/davidsykes/anaconda/envs/data-analysis/lib/python3.5/site-packages/scipy/optimize/minpack.py:161: RuntimeWarning: The iteration is not making good progress, as measured by the \n",
      "  improvement from the last ten iterations.\n",
      "  warnings.warn(msg, RuntimeWarning)\n"
     ]
    }
   ],
   "source": [
    "# Load up referrals dataframe\n",
    "referrals = pd.read_csv('../../Welcome-Centre-DataCorps-Data/referrals.csv', low_memory=False)\n",
    "clients = pd.read_csv('../../Welcome-Centre-DataCorps-Data/clients.csv', index_col=0)\n",
    "referrals['ReferralTakenDate'] = pd.to_datetime(referrals['ReferralTakenDate'])\n",
    "\n",
    "# Remove any double referrals in one day\n",
    "referrals = referrals.reset_index().groupby(['ClientId', 'ReferralTakenDate']).first().reset_index()\\\n",
    "    .set_index('ReferralInstanceId')\n",
    "\n",
    "# Calculate Empirical Bayes and append it to referrals\n",
    "scores = get_bayes_ratio_by_client(referrals)\n",
    "referrals = referrals.merge(scores, left_on='ClientId', right_index=True)\n",
    "\n",
    "# Add extra features\n",
    "referrals = (referrals.pipe(add_referral_order_index)\n",
    "                        .pipe(add_time_since_last_referral)\n",
    "                         .pipe(add_a_first_referral_dummy_variable)\n",
    "            )\n"
   ]
  },
  {
   "cell_type": "code",
   "execution_count": 3,
   "metadata": {},
   "outputs": [],
   "source": [
    "# Prepare X and y\n",
    "y = referrals['Empirical Bayes Ratio'].apply(np.log)\n",
    "\n",
    "# Include referral metadata as features\n",
    "referral_reasons = referrals.filter(like='ReferralDomestic')\n",
    "referral_document = referrals.filter(like='ReferralDocument')\n",
    "referral_benefit = referrals.filter(like='ReferralBenefit')\n",
    "referral_issue = referrals.filter(like='ReferralIssue')\n",
    "referral_reason = referrals.filter(like='ReferralReason')\n",
    "referral_agency = pd.get_dummies(referrals['ReferralAgencyId'])\n",
    "general = referrals[['DependantNumber', 'LivingWithPartner']]\n",
    "\n",
    "X = pd.concat([\n",
    "    referral_reasons,\n",
    "    referral_document,\n",
    "    referral_benefit,\n",
    "    referral_issue,\n",
    "    referral_reason,\n",
    "    referral_agency,\n",
    "    general\n",
    "], axis=1).fillna(0)\n",
    "\n",
    "X = pd.concat([referrals[['time_since', 'first', 'referral_no']],\n",
    "                  X], axis=1)"
   ]
  },
  {
   "cell_type": "code",
   "execution_count": 6,
   "metadata": {
    "collapsed": true
   },
   "outputs": [],
   "source": [
    "# Define scoring function\n",
    "scoring_function = make_scorer(lambda a,b: spearmanr(a,b)[0])"
   ]
  },
  {
   "cell_type": "code",
   "execution_count": 7,
   "metadata": {},
   "outputs": [],
   "source": [
    "# Create Model Pipeline\n",
    "pipe = Pipeline([\n",
    "    ('imp', Imputer()),\n",
    "    ('scale', StandardScaler()),\n",
    "    ('cls', SGDRegressor(penalty='l1', n_iter=20))\n",
    "])"
   ]
  },
  {
   "cell_type": "code",
   "execution_count": 8,
   "metadata": {},
   "outputs": [
    {
     "name": "stdout",
     "output_type": "stream",
     "text": [
      "Fitting 10 folds for each of 5 candidates, totalling 50 fits\n",
      "[CV] cls__alpha=1e-05 ................................................\n",
      "[CV] ....................... cls__alpha=1e-05, score=0.098400 -   0.0s\n",
      "[CV] cls__alpha=1e-05 ................................................\n"
     ]
    },
    {
     "name": "stderr",
     "output_type": "stream",
     "text": [
      "[Parallel(n_jobs=1)]: Done   1 out of   1 | elapsed:    0.9s remaining:    0.0s\n"
     ]
    },
    {
     "name": "stdout",
     "output_type": "stream",
     "text": [
      "[CV] ....................... cls__alpha=1e-05, score=0.119676 -   0.0s\n",
      "[CV] cls__alpha=1e-05 ................................................\n"
     ]
    },
    {
     "name": "stderr",
     "output_type": "stream",
     "text": [
      "[Parallel(n_jobs=1)]: Done   2 out of   2 | elapsed:    1.8s remaining:    0.0s\n"
     ]
    },
    {
     "name": "stdout",
     "output_type": "stream",
     "text": [
      "[CV] ....................... cls__alpha=1e-05, score=0.114833 -   0.0s\n",
      "[CV] cls__alpha=1e-05 ................................................\n",
      "[CV] ...................... cls__alpha=1e-05, score=-0.111229 -   0.0s\n",
      "[CV] cls__alpha=1e-05 ................................................\n",
      "[CV] ...................... cls__alpha=1e-05, score=-0.053813 -   0.0s\n",
      "[CV] cls__alpha=1e-05 ................................................\n",
      "[CV] ....................... cls__alpha=1e-05, score=0.031471 -   0.0s\n",
      "[CV] cls__alpha=1e-05 ................................................\n",
      "[CV] ...................... cls__alpha=1e-05, score=-0.048589 -   0.0s\n",
      "[CV] cls__alpha=1e-05 ................................................\n",
      "[CV] ....................... cls__alpha=1e-05, score=0.109419 -   0.0s\n",
      "[CV] cls__alpha=1e-05 ................................................\n",
      "[CV] ...................... cls__alpha=1e-05, score=-0.043524 -   0.0s\n",
      "[CV] cls__alpha=1e-05 ................................................\n",
      "[CV] ....................... cls__alpha=1e-05, score=0.122561 -   0.0s\n",
      "[CV] cls__alpha=0.00316227766017 .....................................\n",
      "[CV] ........... cls__alpha=0.00316227766017, score=-0.021497 -   0.0s\n",
      "[CV] cls__alpha=0.00316227766017 .....................................\n",
      "[CV] ........... cls__alpha=0.00316227766017, score=-0.121154 -   0.0s\n",
      "[CV] cls__alpha=0.00316227766017 .....................................\n",
      "[CV] ............ cls__alpha=0.00316227766017, score=0.179921 -   0.0s\n",
      "[CV] cls__alpha=0.00316227766017 .....................................\n",
      "[CV] ............ cls__alpha=0.00316227766017, score=0.223759 -   0.0s\n",
      "[CV] cls__alpha=0.00316227766017 .....................................\n",
      "[CV] ........... cls__alpha=0.00316227766017, score=-0.075935 -   0.0s\n",
      "[CV] cls__alpha=0.00316227766017 .....................................\n",
      "[CV] ............ cls__alpha=0.00316227766017, score=0.207483 -   0.0s\n",
      "[CV] cls__alpha=0.00316227766017 .....................................\n",
      "[CV] ............ cls__alpha=0.00316227766017, score=0.024337 -   0.0s\n",
      "[CV] cls__alpha=0.00316227766017 .....................................\n",
      "[CV] ........... cls__alpha=0.00316227766017, score=-0.082674 -   0.0s\n",
      "[CV] cls__alpha=0.00316227766017 .....................................\n",
      "[CV] ........... cls__alpha=0.00316227766017, score=-0.071661 -   0.0s\n",
      "[CV] cls__alpha=0.00316227766017 .....................................\n",
      "[CV] ............ cls__alpha=0.00316227766017, score=0.116967 -   0.0s\n",
      "[CV] cls__alpha=1.0 ..................................................\n"
     ]
    },
    {
     "name": "stderr",
     "output_type": "stream",
     "text": [
      "/Users/davidsykes/anaconda/envs/data-analysis/lib/python3.5/site-packages/numpy/lib/function_base.py:2558: RuntimeWarning: invalid value encountered in true_divide\n",
      "  c /= stddev[:, None]\n",
      "/Users/davidsykes/anaconda/envs/data-analysis/lib/python3.5/site-packages/numpy/lib/function_base.py:2559: RuntimeWarning: invalid value encountered in true_divide\n",
      "  c /= stddev[None, :]\n",
      "/Users/davidsykes/anaconda/envs/data-analysis/lib/python3.5/site-packages/scipy/stats/_distn_infrastructure.py:1748: RuntimeWarning: invalid value encountered in greater\n",
      "  cond1 = (scale > 0) & (x > self.a) & (x < self.b)\n",
      "/Users/davidsykes/anaconda/envs/data-analysis/lib/python3.5/site-packages/scipy/stats/_distn_infrastructure.py:1748: RuntimeWarning: invalid value encountered in less\n",
      "  cond1 = (scale > 0) & (x > self.a) & (x < self.b)\n",
      "/Users/davidsykes/anaconda/envs/data-analysis/lib/python3.5/site-packages/scipy/stats/_distn_infrastructure.py:1749: RuntimeWarning: invalid value encountered in less_equal\n",
      "  cond2 = cond0 & (x <= self.a)\n"
     ]
    },
    {
     "name": "stdout",
     "output_type": "stream",
     "text": [
      "[CV] .............................. cls__alpha=1.0, score=nan -   0.0s\n",
      "[CV] cls__alpha=1.0 ..................................................\n"
     ]
    },
    {
     "name": "stderr",
     "output_type": "stream",
     "text": [
      "/Users/davidsykes/anaconda/envs/data-analysis/lib/python3.5/site-packages/numpy/lib/function_base.py:2558: RuntimeWarning: invalid value encountered in true_divide\n",
      "  c /= stddev[:, None]\n",
      "/Users/davidsykes/anaconda/envs/data-analysis/lib/python3.5/site-packages/numpy/lib/function_base.py:2559: RuntimeWarning: invalid value encountered in true_divide\n",
      "  c /= stddev[None, :]\n",
      "/Users/davidsykes/anaconda/envs/data-analysis/lib/python3.5/site-packages/scipy/stats/_distn_infrastructure.py:1748: RuntimeWarning: invalid value encountered in greater\n",
      "  cond1 = (scale > 0) & (x > self.a) & (x < self.b)\n",
      "/Users/davidsykes/anaconda/envs/data-analysis/lib/python3.5/site-packages/scipy/stats/_distn_infrastructure.py:1748: RuntimeWarning: invalid value encountered in less\n",
      "  cond1 = (scale > 0) & (x > self.a) & (x < self.b)\n",
      "/Users/davidsykes/anaconda/envs/data-analysis/lib/python3.5/site-packages/scipy/stats/_distn_infrastructure.py:1749: RuntimeWarning: invalid value encountered in less_equal\n",
      "  cond2 = cond0 & (x <= self.a)\n"
     ]
    },
    {
     "name": "stdout",
     "output_type": "stream",
     "text": [
      "[CV] .............................. cls__alpha=1.0, score=nan -   0.0s\n",
      "[CV] cls__alpha=1.0 ..................................................\n"
     ]
    },
    {
     "name": "stderr",
     "output_type": "stream",
     "text": [
      "/Users/davidsykes/anaconda/envs/data-analysis/lib/python3.5/site-packages/numpy/lib/function_base.py:2558: RuntimeWarning: invalid value encountered in true_divide\n",
      "  c /= stddev[:, None]\n",
      "/Users/davidsykes/anaconda/envs/data-analysis/lib/python3.5/site-packages/numpy/lib/function_base.py:2559: RuntimeWarning: invalid value encountered in true_divide\n",
      "  c /= stddev[None, :]\n",
      "/Users/davidsykes/anaconda/envs/data-analysis/lib/python3.5/site-packages/scipy/stats/_distn_infrastructure.py:1748: RuntimeWarning: invalid value encountered in greater\n",
      "  cond1 = (scale > 0) & (x > self.a) & (x < self.b)\n",
      "/Users/davidsykes/anaconda/envs/data-analysis/lib/python3.5/site-packages/scipy/stats/_distn_infrastructure.py:1748: RuntimeWarning: invalid value encountered in less\n",
      "  cond1 = (scale > 0) & (x > self.a) & (x < self.b)\n",
      "/Users/davidsykes/anaconda/envs/data-analysis/lib/python3.5/site-packages/scipy/stats/_distn_infrastructure.py:1749: RuntimeWarning: invalid value encountered in less_equal\n",
      "  cond2 = cond0 & (x <= self.a)\n"
     ]
    },
    {
     "name": "stdout",
     "output_type": "stream",
     "text": [
      "[CV] .............................. cls__alpha=1.0, score=nan -   0.0s\n",
      "[CV] cls__alpha=1.0 ..................................................\n"
     ]
    },
    {
     "name": "stderr",
     "output_type": "stream",
     "text": [
      "/Users/davidsykes/anaconda/envs/data-analysis/lib/python3.5/site-packages/numpy/lib/function_base.py:2558: RuntimeWarning: invalid value encountered in true_divide\n",
      "  c /= stddev[:, None]\n",
      "/Users/davidsykes/anaconda/envs/data-analysis/lib/python3.5/site-packages/numpy/lib/function_base.py:2559: RuntimeWarning: invalid value encountered in true_divide\n",
      "  c /= stddev[None, :]\n",
      "/Users/davidsykes/anaconda/envs/data-analysis/lib/python3.5/site-packages/scipy/stats/_distn_infrastructure.py:1748: RuntimeWarning: invalid value encountered in greater\n",
      "  cond1 = (scale > 0) & (x > self.a) & (x < self.b)\n",
      "/Users/davidsykes/anaconda/envs/data-analysis/lib/python3.5/site-packages/scipy/stats/_distn_infrastructure.py:1748: RuntimeWarning: invalid value encountered in less\n",
      "  cond1 = (scale > 0) & (x > self.a) & (x < self.b)\n",
      "/Users/davidsykes/anaconda/envs/data-analysis/lib/python3.5/site-packages/scipy/stats/_distn_infrastructure.py:1749: RuntimeWarning: invalid value encountered in less_equal\n",
      "  cond2 = cond0 & (x <= self.a)\n"
     ]
    },
    {
     "name": "stdout",
     "output_type": "stream",
     "text": [
      "[CV] .............................. cls__alpha=1.0, score=nan -   0.0s\n",
      "[CV] cls__alpha=1.0 ..................................................\n"
     ]
    },
    {
     "name": "stderr",
     "output_type": "stream",
     "text": [
      "/Users/davidsykes/anaconda/envs/data-analysis/lib/python3.5/site-packages/numpy/lib/function_base.py:2558: RuntimeWarning: invalid value encountered in true_divide\n",
      "  c /= stddev[:, None]\n",
      "/Users/davidsykes/anaconda/envs/data-analysis/lib/python3.5/site-packages/numpy/lib/function_base.py:2559: RuntimeWarning: invalid value encountered in true_divide\n",
      "  c /= stddev[None, :]\n",
      "/Users/davidsykes/anaconda/envs/data-analysis/lib/python3.5/site-packages/scipy/stats/_distn_infrastructure.py:1748: RuntimeWarning: invalid value encountered in greater\n",
      "  cond1 = (scale > 0) & (x > self.a) & (x < self.b)\n",
      "/Users/davidsykes/anaconda/envs/data-analysis/lib/python3.5/site-packages/scipy/stats/_distn_infrastructure.py:1748: RuntimeWarning: invalid value encountered in less\n",
      "  cond1 = (scale > 0) & (x > self.a) & (x < self.b)\n",
      "/Users/davidsykes/anaconda/envs/data-analysis/lib/python3.5/site-packages/scipy/stats/_distn_infrastructure.py:1749: RuntimeWarning: invalid value encountered in less_equal\n",
      "  cond2 = cond0 & (x <= self.a)\n"
     ]
    },
    {
     "name": "stdout",
     "output_type": "stream",
     "text": [
      "[CV] .............................. cls__alpha=1.0, score=nan -   0.0s\n",
      "[CV] cls__alpha=1.0 ..................................................\n"
     ]
    },
    {
     "name": "stderr",
     "output_type": "stream",
     "text": [
      "/Users/davidsykes/anaconda/envs/data-analysis/lib/python3.5/site-packages/numpy/lib/function_base.py:2558: RuntimeWarning: invalid value encountered in true_divide\n",
      "  c /= stddev[:, None]\n",
      "/Users/davidsykes/anaconda/envs/data-analysis/lib/python3.5/site-packages/numpy/lib/function_base.py:2559: RuntimeWarning: invalid value encountered in true_divide\n",
      "  c /= stddev[None, :]\n",
      "/Users/davidsykes/anaconda/envs/data-analysis/lib/python3.5/site-packages/scipy/stats/_distn_infrastructure.py:1748: RuntimeWarning: invalid value encountered in greater\n",
      "  cond1 = (scale > 0) & (x > self.a) & (x < self.b)\n",
      "/Users/davidsykes/anaconda/envs/data-analysis/lib/python3.5/site-packages/scipy/stats/_distn_infrastructure.py:1748: RuntimeWarning: invalid value encountered in less\n",
      "  cond1 = (scale > 0) & (x > self.a) & (x < self.b)\n",
      "/Users/davidsykes/anaconda/envs/data-analysis/lib/python3.5/site-packages/scipy/stats/_distn_infrastructure.py:1749: RuntimeWarning: invalid value encountered in less_equal\n",
      "  cond2 = cond0 & (x <= self.a)\n"
     ]
    },
    {
     "name": "stdout",
     "output_type": "stream",
     "text": [
      "[CV] .............................. cls__alpha=1.0, score=nan -   0.0s\n",
      "[CV] cls__alpha=1.0 ..................................................\n"
     ]
    },
    {
     "name": "stderr",
     "output_type": "stream",
     "text": [
      "/Users/davidsykes/anaconda/envs/data-analysis/lib/python3.5/site-packages/numpy/lib/function_base.py:2558: RuntimeWarning: invalid value encountered in true_divide\n",
      "  c /= stddev[:, None]\n",
      "/Users/davidsykes/anaconda/envs/data-analysis/lib/python3.5/site-packages/numpy/lib/function_base.py:2559: RuntimeWarning: invalid value encountered in true_divide\n",
      "  c /= stddev[None, :]\n",
      "/Users/davidsykes/anaconda/envs/data-analysis/lib/python3.5/site-packages/scipy/stats/_distn_infrastructure.py:1748: RuntimeWarning: invalid value encountered in greater\n",
      "  cond1 = (scale > 0) & (x > self.a) & (x < self.b)\n",
      "/Users/davidsykes/anaconda/envs/data-analysis/lib/python3.5/site-packages/scipy/stats/_distn_infrastructure.py:1748: RuntimeWarning: invalid value encountered in less\n",
      "  cond1 = (scale > 0) & (x > self.a) & (x < self.b)\n",
      "/Users/davidsykes/anaconda/envs/data-analysis/lib/python3.5/site-packages/scipy/stats/_distn_infrastructure.py:1749: RuntimeWarning: invalid value encountered in less_equal\n",
      "  cond2 = cond0 & (x <= self.a)\n"
     ]
    },
    {
     "name": "stdout",
     "output_type": "stream",
     "text": [
      "[CV] .............................. cls__alpha=1.0, score=nan -   0.0s\n",
      "[CV] cls__alpha=1.0 ..................................................\n"
     ]
    },
    {
     "name": "stderr",
     "output_type": "stream",
     "text": [
      "/Users/davidsykes/anaconda/envs/data-analysis/lib/python3.5/site-packages/numpy/lib/function_base.py:2558: RuntimeWarning: invalid value encountered in true_divide\n",
      "  c /= stddev[:, None]\n",
      "/Users/davidsykes/anaconda/envs/data-analysis/lib/python3.5/site-packages/numpy/lib/function_base.py:2559: RuntimeWarning: invalid value encountered in true_divide\n",
      "  c /= stddev[None, :]\n",
      "/Users/davidsykes/anaconda/envs/data-analysis/lib/python3.5/site-packages/scipy/stats/_distn_infrastructure.py:1748: RuntimeWarning: invalid value encountered in greater\n",
      "  cond1 = (scale > 0) & (x > self.a) & (x < self.b)\n",
      "/Users/davidsykes/anaconda/envs/data-analysis/lib/python3.5/site-packages/scipy/stats/_distn_infrastructure.py:1748: RuntimeWarning: invalid value encountered in less\n",
      "  cond1 = (scale > 0) & (x > self.a) & (x < self.b)\n",
      "/Users/davidsykes/anaconda/envs/data-analysis/lib/python3.5/site-packages/scipy/stats/_distn_infrastructure.py:1749: RuntimeWarning: invalid value encountered in less_equal\n",
      "  cond2 = cond0 & (x <= self.a)\n"
     ]
    },
    {
     "name": "stdout",
     "output_type": "stream",
     "text": [
      "[CV] .............................. cls__alpha=1.0, score=nan -   0.0s\n",
      "[CV] cls__alpha=1.0 ..................................................\n"
     ]
    },
    {
     "name": "stderr",
     "output_type": "stream",
     "text": [
      "/Users/davidsykes/anaconda/envs/data-analysis/lib/python3.5/site-packages/numpy/lib/function_base.py:2558: RuntimeWarning: invalid value encountered in true_divide\n",
      "  c /= stddev[:, None]\n",
      "/Users/davidsykes/anaconda/envs/data-analysis/lib/python3.5/site-packages/numpy/lib/function_base.py:2559: RuntimeWarning: invalid value encountered in true_divide\n",
      "  c /= stddev[None, :]\n",
      "/Users/davidsykes/anaconda/envs/data-analysis/lib/python3.5/site-packages/scipy/stats/_distn_infrastructure.py:1748: RuntimeWarning: invalid value encountered in greater\n",
      "  cond1 = (scale > 0) & (x > self.a) & (x < self.b)\n",
      "/Users/davidsykes/anaconda/envs/data-analysis/lib/python3.5/site-packages/scipy/stats/_distn_infrastructure.py:1748: RuntimeWarning: invalid value encountered in less\n",
      "  cond1 = (scale > 0) & (x > self.a) & (x < self.b)\n",
      "/Users/davidsykes/anaconda/envs/data-analysis/lib/python3.5/site-packages/scipy/stats/_distn_infrastructure.py:1749: RuntimeWarning: invalid value encountered in less_equal\n",
      "  cond2 = cond0 & (x <= self.a)\n"
     ]
    },
    {
     "name": "stdout",
     "output_type": "stream",
     "text": [
      "[CV] .............................. cls__alpha=1.0, score=nan -   0.0s\n",
      "[CV] cls__alpha=1.0 ..................................................\n"
     ]
    },
    {
     "name": "stderr",
     "output_type": "stream",
     "text": [
      "/Users/davidsykes/anaconda/envs/data-analysis/lib/python3.5/site-packages/numpy/lib/function_base.py:2558: RuntimeWarning: invalid value encountered in true_divide\n",
      "  c /= stddev[:, None]\n",
      "/Users/davidsykes/anaconda/envs/data-analysis/lib/python3.5/site-packages/numpy/lib/function_base.py:2559: RuntimeWarning: invalid value encountered in true_divide\n",
      "  c /= stddev[None, :]\n",
      "/Users/davidsykes/anaconda/envs/data-analysis/lib/python3.5/site-packages/scipy/stats/_distn_infrastructure.py:1748: RuntimeWarning: invalid value encountered in greater\n",
      "  cond1 = (scale > 0) & (x > self.a) & (x < self.b)\n",
      "/Users/davidsykes/anaconda/envs/data-analysis/lib/python3.5/site-packages/scipy/stats/_distn_infrastructure.py:1748: RuntimeWarning: invalid value encountered in less\n",
      "  cond1 = (scale > 0) & (x > self.a) & (x < self.b)\n",
      "/Users/davidsykes/anaconda/envs/data-analysis/lib/python3.5/site-packages/scipy/stats/_distn_infrastructure.py:1749: RuntimeWarning: invalid value encountered in less_equal\n",
      "  cond2 = cond0 & (x <= self.a)\n"
     ]
    },
    {
     "name": "stdout",
     "output_type": "stream",
     "text": [
      "[CV] .............................. cls__alpha=1.0, score=nan -   0.0s\n",
      "[CV] cls__alpha=316.227766017 ........................................\n"
     ]
    },
    {
     "name": "stderr",
     "output_type": "stream",
     "text": [
      "/Users/davidsykes/anaconda/envs/data-analysis/lib/python3.5/site-packages/numpy/lib/function_base.py:2558: RuntimeWarning: invalid value encountered in true_divide\n",
      "  c /= stddev[:, None]\n",
      "/Users/davidsykes/anaconda/envs/data-analysis/lib/python3.5/site-packages/numpy/lib/function_base.py:2559: RuntimeWarning: invalid value encountered in true_divide\n",
      "  c /= stddev[None, :]\n",
      "/Users/davidsykes/anaconda/envs/data-analysis/lib/python3.5/site-packages/scipy/stats/_distn_infrastructure.py:1748: RuntimeWarning: invalid value encountered in greater\n",
      "  cond1 = (scale > 0) & (x > self.a) & (x < self.b)\n",
      "/Users/davidsykes/anaconda/envs/data-analysis/lib/python3.5/site-packages/scipy/stats/_distn_infrastructure.py:1748: RuntimeWarning: invalid value encountered in less\n",
      "  cond1 = (scale > 0) & (x > self.a) & (x < self.b)\n",
      "/Users/davidsykes/anaconda/envs/data-analysis/lib/python3.5/site-packages/scipy/stats/_distn_infrastructure.py:1749: RuntimeWarning: invalid value encountered in less_equal\n",
      "  cond2 = cond0 & (x <= self.a)\n"
     ]
    },
    {
     "name": "stdout",
     "output_type": "stream",
     "text": [
      "[CV] .................... cls__alpha=316.227766017, score=nan -   0.0s\n",
      "[CV] cls__alpha=316.227766017 ........................................\n"
     ]
    },
    {
     "name": "stderr",
     "output_type": "stream",
     "text": [
      "/Users/davidsykes/anaconda/envs/data-analysis/lib/python3.5/site-packages/numpy/lib/function_base.py:2558: RuntimeWarning: invalid value encountered in true_divide\n",
      "  c /= stddev[:, None]\n",
      "/Users/davidsykes/anaconda/envs/data-analysis/lib/python3.5/site-packages/numpy/lib/function_base.py:2559: RuntimeWarning: invalid value encountered in true_divide\n",
      "  c /= stddev[None, :]\n",
      "/Users/davidsykes/anaconda/envs/data-analysis/lib/python3.5/site-packages/scipy/stats/_distn_infrastructure.py:1748: RuntimeWarning: invalid value encountered in greater\n",
      "  cond1 = (scale > 0) & (x > self.a) & (x < self.b)\n",
      "/Users/davidsykes/anaconda/envs/data-analysis/lib/python3.5/site-packages/scipy/stats/_distn_infrastructure.py:1748: RuntimeWarning: invalid value encountered in less\n",
      "  cond1 = (scale > 0) & (x > self.a) & (x < self.b)\n",
      "/Users/davidsykes/anaconda/envs/data-analysis/lib/python3.5/site-packages/scipy/stats/_distn_infrastructure.py:1749: RuntimeWarning: invalid value encountered in less_equal\n",
      "  cond2 = cond0 & (x <= self.a)\n"
     ]
    },
    {
     "name": "stdout",
     "output_type": "stream",
     "text": [
      "[CV] .................... cls__alpha=316.227766017, score=nan -   0.0s\n",
      "[CV] cls__alpha=316.227766017 ........................................\n"
     ]
    },
    {
     "name": "stderr",
     "output_type": "stream",
     "text": [
      "/Users/davidsykes/anaconda/envs/data-analysis/lib/python3.5/site-packages/numpy/lib/function_base.py:2558: RuntimeWarning: invalid value encountered in true_divide\n",
      "  c /= stddev[:, None]\n",
      "/Users/davidsykes/anaconda/envs/data-analysis/lib/python3.5/site-packages/numpy/lib/function_base.py:2559: RuntimeWarning: invalid value encountered in true_divide\n",
      "  c /= stddev[None, :]\n",
      "/Users/davidsykes/anaconda/envs/data-analysis/lib/python3.5/site-packages/scipy/stats/_distn_infrastructure.py:1748: RuntimeWarning: invalid value encountered in greater\n",
      "  cond1 = (scale > 0) & (x > self.a) & (x < self.b)\n",
      "/Users/davidsykes/anaconda/envs/data-analysis/lib/python3.5/site-packages/scipy/stats/_distn_infrastructure.py:1748: RuntimeWarning: invalid value encountered in less\n",
      "  cond1 = (scale > 0) & (x > self.a) & (x < self.b)\n",
      "/Users/davidsykes/anaconda/envs/data-analysis/lib/python3.5/site-packages/scipy/stats/_distn_infrastructure.py:1749: RuntimeWarning: invalid value encountered in less_equal\n",
      "  cond2 = cond0 & (x <= self.a)\n"
     ]
    },
    {
     "name": "stdout",
     "output_type": "stream",
     "text": [
      "[CV] .................... cls__alpha=316.227766017, score=nan -   0.0s\n",
      "[CV] cls__alpha=316.227766017 ........................................\n"
     ]
    },
    {
     "name": "stderr",
     "output_type": "stream",
     "text": [
      "/Users/davidsykes/anaconda/envs/data-analysis/lib/python3.5/site-packages/numpy/lib/function_base.py:2558: RuntimeWarning: invalid value encountered in true_divide\n",
      "  c /= stddev[:, None]\n",
      "/Users/davidsykes/anaconda/envs/data-analysis/lib/python3.5/site-packages/numpy/lib/function_base.py:2559: RuntimeWarning: invalid value encountered in true_divide\n",
      "  c /= stddev[None, :]\n",
      "/Users/davidsykes/anaconda/envs/data-analysis/lib/python3.5/site-packages/scipy/stats/_distn_infrastructure.py:1748: RuntimeWarning: invalid value encountered in greater\n",
      "  cond1 = (scale > 0) & (x > self.a) & (x < self.b)\n",
      "/Users/davidsykes/anaconda/envs/data-analysis/lib/python3.5/site-packages/scipy/stats/_distn_infrastructure.py:1748: RuntimeWarning: invalid value encountered in less\n",
      "  cond1 = (scale > 0) & (x > self.a) & (x < self.b)\n",
      "/Users/davidsykes/anaconda/envs/data-analysis/lib/python3.5/site-packages/scipy/stats/_distn_infrastructure.py:1749: RuntimeWarning: invalid value encountered in less_equal\n",
      "  cond2 = cond0 & (x <= self.a)\n"
     ]
    },
    {
     "name": "stdout",
     "output_type": "stream",
     "text": [
      "[CV] .................... cls__alpha=316.227766017, score=nan -   0.0s\n",
      "[CV] cls__alpha=316.227766017 ........................................\n"
     ]
    },
    {
     "name": "stderr",
     "output_type": "stream",
     "text": [
      "/Users/davidsykes/anaconda/envs/data-analysis/lib/python3.5/site-packages/numpy/lib/function_base.py:2558: RuntimeWarning: invalid value encountered in true_divide\n",
      "  c /= stddev[:, None]\n",
      "/Users/davidsykes/anaconda/envs/data-analysis/lib/python3.5/site-packages/numpy/lib/function_base.py:2559: RuntimeWarning: invalid value encountered in true_divide\n",
      "  c /= stddev[None, :]\n",
      "/Users/davidsykes/anaconda/envs/data-analysis/lib/python3.5/site-packages/scipy/stats/_distn_infrastructure.py:1748: RuntimeWarning: invalid value encountered in greater\n",
      "  cond1 = (scale > 0) & (x > self.a) & (x < self.b)\n",
      "/Users/davidsykes/anaconda/envs/data-analysis/lib/python3.5/site-packages/scipy/stats/_distn_infrastructure.py:1748: RuntimeWarning: invalid value encountered in less\n",
      "  cond1 = (scale > 0) & (x > self.a) & (x < self.b)\n",
      "/Users/davidsykes/anaconda/envs/data-analysis/lib/python3.5/site-packages/scipy/stats/_distn_infrastructure.py:1749: RuntimeWarning: invalid value encountered in less_equal\n",
      "  cond2 = cond0 & (x <= self.a)\n"
     ]
    },
    {
     "name": "stdout",
     "output_type": "stream",
     "text": [
      "[CV] .................... cls__alpha=316.227766017, score=nan -   0.0s\n",
      "[CV] cls__alpha=316.227766017 ........................................\n"
     ]
    },
    {
     "name": "stderr",
     "output_type": "stream",
     "text": [
      "/Users/davidsykes/anaconda/envs/data-analysis/lib/python3.5/site-packages/numpy/lib/function_base.py:2558: RuntimeWarning: invalid value encountered in true_divide\n",
      "  c /= stddev[:, None]\n",
      "/Users/davidsykes/anaconda/envs/data-analysis/lib/python3.5/site-packages/numpy/lib/function_base.py:2559: RuntimeWarning: invalid value encountered in true_divide\n",
      "  c /= stddev[None, :]\n",
      "/Users/davidsykes/anaconda/envs/data-analysis/lib/python3.5/site-packages/scipy/stats/_distn_infrastructure.py:1748: RuntimeWarning: invalid value encountered in greater\n",
      "  cond1 = (scale > 0) & (x > self.a) & (x < self.b)\n",
      "/Users/davidsykes/anaconda/envs/data-analysis/lib/python3.5/site-packages/scipy/stats/_distn_infrastructure.py:1748: RuntimeWarning: invalid value encountered in less\n",
      "  cond1 = (scale > 0) & (x > self.a) & (x < self.b)\n",
      "/Users/davidsykes/anaconda/envs/data-analysis/lib/python3.5/site-packages/scipy/stats/_distn_infrastructure.py:1749: RuntimeWarning: invalid value encountered in less_equal\n",
      "  cond2 = cond0 & (x <= self.a)\n"
     ]
    },
    {
     "name": "stdout",
     "output_type": "stream",
     "text": [
      "[CV] .................... cls__alpha=316.227766017, score=nan -   0.0s\n",
      "[CV] cls__alpha=316.227766017 ........................................\n"
     ]
    },
    {
     "name": "stderr",
     "output_type": "stream",
     "text": [
      "/Users/davidsykes/anaconda/envs/data-analysis/lib/python3.5/site-packages/numpy/lib/function_base.py:2558: RuntimeWarning: invalid value encountered in true_divide\n",
      "  c /= stddev[:, None]\n",
      "/Users/davidsykes/anaconda/envs/data-analysis/lib/python3.5/site-packages/numpy/lib/function_base.py:2559: RuntimeWarning: invalid value encountered in true_divide\n",
      "  c /= stddev[None, :]\n",
      "/Users/davidsykes/anaconda/envs/data-analysis/lib/python3.5/site-packages/scipy/stats/_distn_infrastructure.py:1748: RuntimeWarning: invalid value encountered in greater\n",
      "  cond1 = (scale > 0) & (x > self.a) & (x < self.b)\n",
      "/Users/davidsykes/anaconda/envs/data-analysis/lib/python3.5/site-packages/scipy/stats/_distn_infrastructure.py:1748: RuntimeWarning: invalid value encountered in less\n",
      "  cond1 = (scale > 0) & (x > self.a) & (x < self.b)\n",
      "/Users/davidsykes/anaconda/envs/data-analysis/lib/python3.5/site-packages/scipy/stats/_distn_infrastructure.py:1749: RuntimeWarning: invalid value encountered in less_equal\n",
      "  cond2 = cond0 & (x <= self.a)\n"
     ]
    },
    {
     "name": "stdout",
     "output_type": "stream",
     "text": [
      "[CV] .................... cls__alpha=316.227766017, score=nan -   0.0s\n",
      "[CV] cls__alpha=316.227766017 ........................................\n"
     ]
    },
    {
     "name": "stderr",
     "output_type": "stream",
     "text": [
      "/Users/davidsykes/anaconda/envs/data-analysis/lib/python3.5/site-packages/numpy/lib/function_base.py:2558: RuntimeWarning: invalid value encountered in true_divide\n",
      "  c /= stddev[:, None]\n",
      "/Users/davidsykes/anaconda/envs/data-analysis/lib/python3.5/site-packages/numpy/lib/function_base.py:2559: RuntimeWarning: invalid value encountered in true_divide\n",
      "  c /= stddev[None, :]\n",
      "/Users/davidsykes/anaconda/envs/data-analysis/lib/python3.5/site-packages/scipy/stats/_distn_infrastructure.py:1748: RuntimeWarning: invalid value encountered in greater\n",
      "  cond1 = (scale > 0) & (x > self.a) & (x < self.b)\n",
      "/Users/davidsykes/anaconda/envs/data-analysis/lib/python3.5/site-packages/scipy/stats/_distn_infrastructure.py:1748: RuntimeWarning: invalid value encountered in less\n",
      "  cond1 = (scale > 0) & (x > self.a) & (x < self.b)\n",
      "/Users/davidsykes/anaconda/envs/data-analysis/lib/python3.5/site-packages/scipy/stats/_distn_infrastructure.py:1749: RuntimeWarning: invalid value encountered in less_equal\n",
      "  cond2 = cond0 & (x <= self.a)\n"
     ]
    },
    {
     "name": "stdout",
     "output_type": "stream",
     "text": [
      "[CV] .................... cls__alpha=316.227766017, score=nan -   0.0s\n",
      "[CV] cls__alpha=316.227766017 ........................................\n"
     ]
    },
    {
     "name": "stderr",
     "output_type": "stream",
     "text": [
      "/Users/davidsykes/anaconda/envs/data-analysis/lib/python3.5/site-packages/numpy/lib/function_base.py:2558: RuntimeWarning: invalid value encountered in true_divide\n",
      "  c /= stddev[:, None]\n",
      "/Users/davidsykes/anaconda/envs/data-analysis/lib/python3.5/site-packages/numpy/lib/function_base.py:2559: RuntimeWarning: invalid value encountered in true_divide\n",
      "  c /= stddev[None, :]\n",
      "/Users/davidsykes/anaconda/envs/data-analysis/lib/python3.5/site-packages/scipy/stats/_distn_infrastructure.py:1748: RuntimeWarning: invalid value encountered in greater\n",
      "  cond1 = (scale > 0) & (x > self.a) & (x < self.b)\n",
      "/Users/davidsykes/anaconda/envs/data-analysis/lib/python3.5/site-packages/scipy/stats/_distn_infrastructure.py:1748: RuntimeWarning: invalid value encountered in less\n",
      "  cond1 = (scale > 0) & (x > self.a) & (x < self.b)\n",
      "/Users/davidsykes/anaconda/envs/data-analysis/lib/python3.5/site-packages/scipy/stats/_distn_infrastructure.py:1749: RuntimeWarning: invalid value encountered in less_equal\n",
      "  cond2 = cond0 & (x <= self.a)\n"
     ]
    },
    {
     "name": "stdout",
     "output_type": "stream",
     "text": [
      "[CV] .................... cls__alpha=316.227766017, score=nan -   0.0s\n",
      "[CV] cls__alpha=316.227766017 ........................................\n"
     ]
    },
    {
     "name": "stderr",
     "output_type": "stream",
     "text": [
      "/Users/davidsykes/anaconda/envs/data-analysis/lib/python3.5/site-packages/numpy/lib/function_base.py:2558: RuntimeWarning: invalid value encountered in true_divide\n",
      "  c /= stddev[:, None]\n",
      "/Users/davidsykes/anaconda/envs/data-analysis/lib/python3.5/site-packages/numpy/lib/function_base.py:2559: RuntimeWarning: invalid value encountered in true_divide\n",
      "  c /= stddev[None, :]\n",
      "/Users/davidsykes/anaconda/envs/data-analysis/lib/python3.5/site-packages/scipy/stats/_distn_infrastructure.py:1748: RuntimeWarning: invalid value encountered in greater\n",
      "  cond1 = (scale > 0) & (x > self.a) & (x < self.b)\n",
      "/Users/davidsykes/anaconda/envs/data-analysis/lib/python3.5/site-packages/scipy/stats/_distn_infrastructure.py:1748: RuntimeWarning: invalid value encountered in less\n",
      "  cond1 = (scale > 0) & (x > self.a) & (x < self.b)\n",
      "/Users/davidsykes/anaconda/envs/data-analysis/lib/python3.5/site-packages/scipy/stats/_distn_infrastructure.py:1749: RuntimeWarning: invalid value encountered in less_equal\n",
      "  cond2 = cond0 & (x <= self.a)\n"
     ]
    },
    {
     "name": "stdout",
     "output_type": "stream",
     "text": [
      "[CV] .................... cls__alpha=316.227766017, score=nan -   0.0s\n",
      "[CV] cls__alpha=100000.0 .............................................\n"
     ]
    },
    {
     "name": "stderr",
     "output_type": "stream",
     "text": [
      "/Users/davidsykes/anaconda/envs/data-analysis/lib/python3.5/site-packages/numpy/lib/function_base.py:2558: RuntimeWarning: invalid value encountered in true_divide\n",
      "  c /= stddev[:, None]\n",
      "/Users/davidsykes/anaconda/envs/data-analysis/lib/python3.5/site-packages/numpy/lib/function_base.py:2559: RuntimeWarning: invalid value encountered in true_divide\n",
      "  c /= stddev[None, :]\n",
      "/Users/davidsykes/anaconda/envs/data-analysis/lib/python3.5/site-packages/scipy/stats/_distn_infrastructure.py:1748: RuntimeWarning: invalid value encountered in greater\n",
      "  cond1 = (scale > 0) & (x > self.a) & (x < self.b)\n",
      "/Users/davidsykes/anaconda/envs/data-analysis/lib/python3.5/site-packages/scipy/stats/_distn_infrastructure.py:1748: RuntimeWarning: invalid value encountered in less\n",
      "  cond1 = (scale > 0) & (x > self.a) & (x < self.b)\n",
      "/Users/davidsykes/anaconda/envs/data-analysis/lib/python3.5/site-packages/scipy/stats/_distn_infrastructure.py:1749: RuntimeWarning: invalid value encountered in less_equal\n",
      "  cond2 = cond0 & (x <= self.a)\n"
     ]
    },
    {
     "name": "stdout",
     "output_type": "stream",
     "text": [
      "[CV] ......................... cls__alpha=100000.0, score=nan -   0.0s\n",
      "[CV] cls__alpha=100000.0 .............................................\n"
     ]
    },
    {
     "name": "stderr",
     "output_type": "stream",
     "text": [
      "/Users/davidsykes/anaconda/envs/data-analysis/lib/python3.5/site-packages/numpy/lib/function_base.py:2558: RuntimeWarning: invalid value encountered in true_divide\n",
      "  c /= stddev[:, None]\n",
      "/Users/davidsykes/anaconda/envs/data-analysis/lib/python3.5/site-packages/numpy/lib/function_base.py:2559: RuntimeWarning: invalid value encountered in true_divide\n",
      "  c /= stddev[None, :]\n",
      "/Users/davidsykes/anaconda/envs/data-analysis/lib/python3.5/site-packages/scipy/stats/_distn_infrastructure.py:1748: RuntimeWarning: invalid value encountered in greater\n",
      "  cond1 = (scale > 0) & (x > self.a) & (x < self.b)\n",
      "/Users/davidsykes/anaconda/envs/data-analysis/lib/python3.5/site-packages/scipy/stats/_distn_infrastructure.py:1748: RuntimeWarning: invalid value encountered in less\n",
      "  cond1 = (scale > 0) & (x > self.a) & (x < self.b)\n",
      "/Users/davidsykes/anaconda/envs/data-analysis/lib/python3.5/site-packages/scipy/stats/_distn_infrastructure.py:1749: RuntimeWarning: invalid value encountered in less_equal\n",
      "  cond2 = cond0 & (x <= self.a)\n"
     ]
    },
    {
     "name": "stdout",
     "output_type": "stream",
     "text": [
      "[CV] ......................... cls__alpha=100000.0, score=nan -   0.0s\n",
      "[CV] cls__alpha=100000.0 .............................................\n"
     ]
    },
    {
     "name": "stderr",
     "output_type": "stream",
     "text": [
      "/Users/davidsykes/anaconda/envs/data-analysis/lib/python3.5/site-packages/numpy/lib/function_base.py:2558: RuntimeWarning: invalid value encountered in true_divide\n",
      "  c /= stddev[:, None]\n",
      "/Users/davidsykes/anaconda/envs/data-analysis/lib/python3.5/site-packages/numpy/lib/function_base.py:2559: RuntimeWarning: invalid value encountered in true_divide\n",
      "  c /= stddev[None, :]\n",
      "/Users/davidsykes/anaconda/envs/data-analysis/lib/python3.5/site-packages/scipy/stats/_distn_infrastructure.py:1748: RuntimeWarning: invalid value encountered in greater\n",
      "  cond1 = (scale > 0) & (x > self.a) & (x < self.b)\n",
      "/Users/davidsykes/anaconda/envs/data-analysis/lib/python3.5/site-packages/scipy/stats/_distn_infrastructure.py:1748: RuntimeWarning: invalid value encountered in less\n",
      "  cond1 = (scale > 0) & (x > self.a) & (x < self.b)\n",
      "/Users/davidsykes/anaconda/envs/data-analysis/lib/python3.5/site-packages/scipy/stats/_distn_infrastructure.py:1749: RuntimeWarning: invalid value encountered in less_equal\n",
      "  cond2 = cond0 & (x <= self.a)\n"
     ]
    },
    {
     "name": "stdout",
     "output_type": "stream",
     "text": [
      "[CV] ......................... cls__alpha=100000.0, score=nan -   0.0s\n",
      "[CV] cls__alpha=100000.0 .............................................\n"
     ]
    },
    {
     "name": "stderr",
     "output_type": "stream",
     "text": [
      "/Users/davidsykes/anaconda/envs/data-analysis/lib/python3.5/site-packages/numpy/lib/function_base.py:2558: RuntimeWarning: invalid value encountered in true_divide\n",
      "  c /= stddev[:, None]\n",
      "/Users/davidsykes/anaconda/envs/data-analysis/lib/python3.5/site-packages/numpy/lib/function_base.py:2559: RuntimeWarning: invalid value encountered in true_divide\n",
      "  c /= stddev[None, :]\n",
      "/Users/davidsykes/anaconda/envs/data-analysis/lib/python3.5/site-packages/scipy/stats/_distn_infrastructure.py:1748: RuntimeWarning: invalid value encountered in greater\n",
      "  cond1 = (scale > 0) & (x > self.a) & (x < self.b)\n",
      "/Users/davidsykes/anaconda/envs/data-analysis/lib/python3.5/site-packages/scipy/stats/_distn_infrastructure.py:1748: RuntimeWarning: invalid value encountered in less\n",
      "  cond1 = (scale > 0) & (x > self.a) & (x < self.b)\n",
      "/Users/davidsykes/anaconda/envs/data-analysis/lib/python3.5/site-packages/scipy/stats/_distn_infrastructure.py:1749: RuntimeWarning: invalid value encountered in less_equal\n",
      "  cond2 = cond0 & (x <= self.a)\n"
     ]
    },
    {
     "name": "stdout",
     "output_type": "stream",
     "text": [
      "[CV] ......................... cls__alpha=100000.0, score=nan -   0.0s\n",
      "[CV] cls__alpha=100000.0 .............................................\n"
     ]
    },
    {
     "name": "stderr",
     "output_type": "stream",
     "text": [
      "/Users/davidsykes/anaconda/envs/data-analysis/lib/python3.5/site-packages/numpy/lib/function_base.py:2558: RuntimeWarning: invalid value encountered in true_divide\n",
      "  c /= stddev[:, None]\n",
      "/Users/davidsykes/anaconda/envs/data-analysis/lib/python3.5/site-packages/numpy/lib/function_base.py:2559: RuntimeWarning: invalid value encountered in true_divide\n",
      "  c /= stddev[None, :]\n",
      "/Users/davidsykes/anaconda/envs/data-analysis/lib/python3.5/site-packages/scipy/stats/_distn_infrastructure.py:1748: RuntimeWarning: invalid value encountered in greater\n",
      "  cond1 = (scale > 0) & (x > self.a) & (x < self.b)\n",
      "/Users/davidsykes/anaconda/envs/data-analysis/lib/python3.5/site-packages/scipy/stats/_distn_infrastructure.py:1748: RuntimeWarning: invalid value encountered in less\n",
      "  cond1 = (scale > 0) & (x > self.a) & (x < self.b)\n",
      "/Users/davidsykes/anaconda/envs/data-analysis/lib/python3.5/site-packages/scipy/stats/_distn_infrastructure.py:1749: RuntimeWarning: invalid value encountered in less_equal\n",
      "  cond2 = cond0 & (x <= self.a)\n"
     ]
    },
    {
     "name": "stdout",
     "output_type": "stream",
     "text": [
      "[CV] ......................... cls__alpha=100000.0, score=nan -   0.0s\n",
      "[CV] cls__alpha=100000.0 .............................................\n"
     ]
    },
    {
     "name": "stderr",
     "output_type": "stream",
     "text": [
      "/Users/davidsykes/anaconda/envs/data-analysis/lib/python3.5/site-packages/numpy/lib/function_base.py:2558: RuntimeWarning: invalid value encountered in true_divide\n",
      "  c /= stddev[:, None]\n",
      "/Users/davidsykes/anaconda/envs/data-analysis/lib/python3.5/site-packages/numpy/lib/function_base.py:2559: RuntimeWarning: invalid value encountered in true_divide\n",
      "  c /= stddev[None, :]\n",
      "/Users/davidsykes/anaconda/envs/data-analysis/lib/python3.5/site-packages/scipy/stats/_distn_infrastructure.py:1748: RuntimeWarning: invalid value encountered in greater\n",
      "  cond1 = (scale > 0) & (x > self.a) & (x < self.b)\n",
      "/Users/davidsykes/anaconda/envs/data-analysis/lib/python3.5/site-packages/scipy/stats/_distn_infrastructure.py:1748: RuntimeWarning: invalid value encountered in less\n",
      "  cond1 = (scale > 0) & (x > self.a) & (x < self.b)\n",
      "/Users/davidsykes/anaconda/envs/data-analysis/lib/python3.5/site-packages/scipy/stats/_distn_infrastructure.py:1749: RuntimeWarning: invalid value encountered in less_equal\n",
      "  cond2 = cond0 & (x <= self.a)\n"
     ]
    },
    {
     "name": "stdout",
     "output_type": "stream",
     "text": [
      "[CV] ......................... cls__alpha=100000.0, score=nan -   0.0s\n",
      "[CV] cls__alpha=100000.0 .............................................\n"
     ]
    },
    {
     "name": "stderr",
     "output_type": "stream",
     "text": [
      "/Users/davidsykes/anaconda/envs/data-analysis/lib/python3.5/site-packages/numpy/lib/function_base.py:2558: RuntimeWarning: invalid value encountered in true_divide\n",
      "  c /= stddev[:, None]\n",
      "/Users/davidsykes/anaconda/envs/data-analysis/lib/python3.5/site-packages/numpy/lib/function_base.py:2559: RuntimeWarning: invalid value encountered in true_divide\n",
      "  c /= stddev[None, :]\n",
      "/Users/davidsykes/anaconda/envs/data-analysis/lib/python3.5/site-packages/scipy/stats/_distn_infrastructure.py:1748: RuntimeWarning: invalid value encountered in greater\n",
      "  cond1 = (scale > 0) & (x > self.a) & (x < self.b)\n",
      "/Users/davidsykes/anaconda/envs/data-analysis/lib/python3.5/site-packages/scipy/stats/_distn_infrastructure.py:1748: RuntimeWarning: invalid value encountered in less\n",
      "  cond1 = (scale > 0) & (x > self.a) & (x < self.b)\n",
      "/Users/davidsykes/anaconda/envs/data-analysis/lib/python3.5/site-packages/scipy/stats/_distn_infrastructure.py:1749: RuntimeWarning: invalid value encountered in less_equal\n",
      "  cond2 = cond0 & (x <= self.a)\n"
     ]
    },
    {
     "name": "stdout",
     "output_type": "stream",
     "text": [
      "[CV] ......................... cls__alpha=100000.0, score=nan -   0.0s\n",
      "[CV] cls__alpha=100000.0 .............................................\n"
     ]
    },
    {
     "name": "stderr",
     "output_type": "stream",
     "text": [
      "/Users/davidsykes/anaconda/envs/data-analysis/lib/python3.5/site-packages/numpy/lib/function_base.py:2558: RuntimeWarning: invalid value encountered in true_divide\n",
      "  c /= stddev[:, None]\n",
      "/Users/davidsykes/anaconda/envs/data-analysis/lib/python3.5/site-packages/numpy/lib/function_base.py:2559: RuntimeWarning: invalid value encountered in true_divide\n",
      "  c /= stddev[None, :]\n",
      "/Users/davidsykes/anaconda/envs/data-analysis/lib/python3.5/site-packages/scipy/stats/_distn_infrastructure.py:1748: RuntimeWarning: invalid value encountered in greater\n",
      "  cond1 = (scale > 0) & (x > self.a) & (x < self.b)\n",
      "/Users/davidsykes/anaconda/envs/data-analysis/lib/python3.5/site-packages/scipy/stats/_distn_infrastructure.py:1748: RuntimeWarning: invalid value encountered in less\n",
      "  cond1 = (scale > 0) & (x > self.a) & (x < self.b)\n",
      "/Users/davidsykes/anaconda/envs/data-analysis/lib/python3.5/site-packages/scipy/stats/_distn_infrastructure.py:1749: RuntimeWarning: invalid value encountered in less_equal\n",
      "  cond2 = cond0 & (x <= self.a)\n"
     ]
    },
    {
     "name": "stdout",
     "output_type": "stream",
     "text": [
      "[CV] ......................... cls__alpha=100000.0, score=nan -   0.0s\n",
      "[CV] cls__alpha=100000.0 .............................................\n"
     ]
    },
    {
     "name": "stderr",
     "output_type": "stream",
     "text": [
      "/Users/davidsykes/anaconda/envs/data-analysis/lib/python3.5/site-packages/numpy/lib/function_base.py:2558: RuntimeWarning: invalid value encountered in true_divide\n",
      "  c /= stddev[:, None]\n",
      "/Users/davidsykes/anaconda/envs/data-analysis/lib/python3.5/site-packages/numpy/lib/function_base.py:2559: RuntimeWarning: invalid value encountered in true_divide\n",
      "  c /= stddev[None, :]\n",
      "/Users/davidsykes/anaconda/envs/data-analysis/lib/python3.5/site-packages/scipy/stats/_distn_infrastructure.py:1748: RuntimeWarning: invalid value encountered in greater\n",
      "  cond1 = (scale > 0) & (x > self.a) & (x < self.b)\n",
      "/Users/davidsykes/anaconda/envs/data-analysis/lib/python3.5/site-packages/scipy/stats/_distn_infrastructure.py:1748: RuntimeWarning: invalid value encountered in less\n",
      "  cond1 = (scale > 0) & (x > self.a) & (x < self.b)\n",
      "/Users/davidsykes/anaconda/envs/data-analysis/lib/python3.5/site-packages/scipy/stats/_distn_infrastructure.py:1749: RuntimeWarning: invalid value encountered in less_equal\n",
      "  cond2 = cond0 & (x <= self.a)\n"
     ]
    },
    {
     "name": "stdout",
     "output_type": "stream",
     "text": [
      "[CV] ......................... cls__alpha=100000.0, score=nan -   0.0s\n",
      "[CV] cls__alpha=100000.0 .............................................\n"
     ]
    },
    {
     "name": "stderr",
     "output_type": "stream",
     "text": [
      "/Users/davidsykes/anaconda/envs/data-analysis/lib/python3.5/site-packages/numpy/lib/function_base.py:2558: RuntimeWarning: invalid value encountered in true_divide\n",
      "  c /= stddev[:, None]\n",
      "/Users/davidsykes/anaconda/envs/data-analysis/lib/python3.5/site-packages/numpy/lib/function_base.py:2559: RuntimeWarning: invalid value encountered in true_divide\n",
      "  c /= stddev[None, :]\n",
      "/Users/davidsykes/anaconda/envs/data-analysis/lib/python3.5/site-packages/scipy/stats/_distn_infrastructure.py:1748: RuntimeWarning: invalid value encountered in greater\n",
      "  cond1 = (scale > 0) & (x > self.a) & (x < self.b)\n",
      "/Users/davidsykes/anaconda/envs/data-analysis/lib/python3.5/site-packages/scipy/stats/_distn_infrastructure.py:1748: RuntimeWarning: invalid value encountered in less\n",
      "  cond1 = (scale > 0) & (x > self.a) & (x < self.b)\n",
      "/Users/davidsykes/anaconda/envs/data-analysis/lib/python3.5/site-packages/scipy/stats/_distn_infrastructure.py:1749: RuntimeWarning: invalid value encountered in less_equal\n",
      "  cond2 = cond0 & (x <= self.a)\n",
      "[Parallel(n_jobs=1)]: Done  50 out of  50 | elapsed:   39.4s finished\n"
     ]
    },
    {
     "name": "stdout",
     "output_type": "stream",
     "text": [
      "[CV] ......................... cls__alpha=100000.0, score=nan -   0.0s\n"
     ]
    },
    {
     "data": {
      "text/plain": [
       "GridSearchCV(cv=10, error_score='raise',\n",
       "       estimator=Pipeline(steps=[('imp', Imputer(axis=0, copy=True, missing_values='NaN', strategy='mean', verbose=0)), ('scale', StandardScaler(copy=True, with_mean=True, with_std=True)), ('cls', SGDRegressor(alpha=0.0001, average=False, epsilon=0.1, eta0=0.01,\n",
       "       fit_intercept=True, l1_ratio=0.15, learning_rate='invscaling',\n",
       "       loss='squared_loss', n_iter=20, penalty='l1', power_t=0.25,\n",
       "       random_state=None, shuffle=True, verbose=0, warm_start=False))]),\n",
       "       fit_params={}, iid=True, n_jobs=1,\n",
       "       param_grid={'cls__alpha': array([  1.00000e-05,   3.16228e-03,   1.00000e+00,   3.16228e+02,\n",
       "         1.00000e+05])},\n",
       "       pre_dispatch='2*n_jobs', refit=True, return_train_score=True,\n",
       "       scoring=make_scorer(<lambda>), verbose=3)"
      ]
     },
     "execution_count": 8,
     "metadata": {},
     "output_type": "execute_result"
    }
   ],
   "source": [
    "# Fit Logistic Regression\n",
    "param_grid = {\n",
    "    'cls__alpha': np.logspace(-5,5,5)\n",
    "}\n",
    "gs = GridSearchCV(pipe, param_grid, cv=10, scoring=scoring_function, verbose=3)\n",
    "gs.fit(X, y)"
   ]
  },
  {
   "cell_type": "code",
   "execution_count": 9,
   "metadata": {},
   "outputs": [
    {
     "data": {
      "text/plain": [
       "({'cls__alpha': 0.0031622776601683794}, 0.037960803772615584)"
      ]
     },
     "execution_count": 9,
     "metadata": {},
     "output_type": "execute_result"
    }
   ],
   "source": [
    "gs.best_params_, gs.best_score_"
   ]
  },
  {
   "cell_type": "code",
   "execution_count": null,
   "metadata": {
    "collapsed": true
   },
   "outputs": [],
   "source": []
  }
 ],
 "metadata": {
  "kernelspec": {
   "display_name": "Python 3",
   "language": "python",
   "name": "python3"
  },
  "language_info": {
   "codemirror_mode": {
    "name": "ipython",
    "version": 3
   },
   "file_extension": ".py",
   "mimetype": "text/x-python",
   "name": "python",
   "nbconvert_exporter": "python",
   "pygments_lexer": "ipython3",
   "version": "3.5.3"
  }
 },
 "nbformat": 4,
 "nbformat_minor": 2
}
