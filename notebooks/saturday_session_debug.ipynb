{
 "cells": [
  {
   "cell_type": "markdown",
   "metadata": {},
   "source": [
    "### To Do\n",
    "- Rerun case 2-5\n",
    "- Fix postcodes\n",
    "- Sort out end date window\n",
    "- Check sensistive columns\n",
    "- Get our approved model on the site"
   ]
  },
  {
   "cell_type": "code",
   "execution_count": 1,
   "metadata": {},
   "outputs": [],
   "source": [
    "import sys\n",
    "import pandas as pd\n",
    "import pickle\n",
    "sys.path.append('../twc_api/')\n",
    "import boto3\n",
    "import json\n",
    "from tqdm import tqdm_notebook\n",
    "\n",
    "from api.resources.retrain import construct_full_tables, train_model_from_json, split_train_test\n",
    "%load_ext autoreload\n",
    "%autoreload 2\n",
    "%matplotlib inline"
   ]
  },
  {
   "cell_type": "code",
   "execution_count": 2,
   "metadata": {},
   "outputs": [],
   "source": [
    "session = boto3.Session(profile_name='twc')\n",
    "s3 = session.resource('s3')"
   ]
  },
  {
   "cell_type": "code",
   "execution_count": 3,
   "metadata": {},
   "outputs": [],
   "source": [
    "from api.utils.transformers import *\n",
    "from api.utils.aws import *"
   ]
  },
  {
   "cell_type": "code",
   "execution_count": 4,
   "metadata": {},
   "outputs": [],
   "source": [
    "from scipy.stats import spearmanr\n",
    "from sklearn.ensemble import ExtraTreesRegressor"
   ]
  },
  {
   "cell_type": "markdown",
   "metadata": {},
   "source": [
    "### Case 1:\n",
    "#### DB Data ---> Notebook transforms ---> Notebook train ---> Notebook evaluate"
   ]
  },
  {
   "cell_type": "markdown",
   "metadata": {},
   "source": [
    "##### Generate Data from Database"
   ]
  },
  {
   "cell_type": "code",
   "execution_count": 7,
   "metadata": {},
   "outputs": [],
   "source": [
    "generator = TrainingDataGenerator('../../Welcome-Centre-DataCorps-Data/ClientDatabaseStructure.mdb.sqlite')\n",
    "tables_from_db = generator.get_training_data(limit=100000)"
   ]
  },
  {
   "cell_type": "markdown",
   "metadata": {},
   "source": [
    "##### Build X, y , referral table"
   ]
  },
  {
   "cell_type": "code",
   "execution_count": 8,
   "metadata": {},
   "outputs": [],
   "source": [
    "features_to_split = []\n",
    "\n",
    "transformer = TransformerPipeline([\n",
    "                        ConsolidateTablesTransformer(count_encode=False),\n",
    "                        AddFutureReferralTargetFeatures(),\n",
    "                        TimeFeatureTransformer(break_length=28),\n",
    "                        SplitCurrentAndEverTransformer(['referralissue_', \n",
    "                                                       'referraldomesticcircumstances_',\n",
    "                                                        'referralreason_', 'referralbenefit_'])\n",
    "                                    ], aligner=AlignFeaturesToColumnSchemaTransformer())\n",
    "\n",
    "X1, y1, referral_table_1 = transformer.fit_transform(tables_from_db)"
   ]
  },
  {
   "cell_type": "markdown",
   "metadata": {},
   "source": [
    "##### Check Dimensions of X, y"
   ]
  },
  {
   "cell_type": "code",
   "execution_count": 12,
   "metadata": {},
   "outputs": [
    {
     "name": "stdout",
     "output_type": "stream",
     "text": [
      "Shape X:(17980, 574), Shape y: (17980,)\n"
     ]
    }
   ],
   "source": [
    "print('Shape X:{}, Shape y: {}'.format(X1.shape, y1.shape))"
   ]
  },
  {
   "cell_type": "markdown",
   "metadata": {},
   "source": [
    "##### Split out Train and Test"
   ]
  },
  {
   "cell_type": "code",
   "execution_count": 13,
   "metadata": {},
   "outputs": [],
   "source": [
    "train_test_split = 0.75\n",
    "train_index = int(train_test_split*len(X1))\n",
    "X1_train = X1.iloc[:13485]\n",
    "X1_test = X1.iloc[13485:]\n",
    "y1_train = y1.loc[X1_train.index]\n",
    "y1_test = y1.loc[X1_test.index]"
   ]
  },
  {
   "cell_type": "markdown",
   "metadata": {},
   "source": [
    "##### Build a model"
   ]
  },
  {
   "cell_type": "code",
   "execution_count": 14,
   "metadata": {},
   "outputs": [
    {
     "data": {
      "text/plain": [
       "ExtraTreesRegressor(bootstrap=False, criterion='mse', max_depth=None,\n",
       "          max_features='auto', max_leaf_nodes=None,\n",
       "          min_impurity_decrease=0.0, min_impurity_split=None,\n",
       "          min_samples_leaf=1, min_samples_split=2,\n",
       "          min_weight_fraction_leaf=0.0, n_estimators=500, n_jobs=-1,\n",
       "          oob_score=False, random_state=None, verbose=0, warm_start=False)"
      ]
     },
     "execution_count": 14,
     "metadata": {},
     "output_type": "execute_result"
    }
   ],
   "source": [
    "et = ExtraTreesRegressor(n_jobs=-1, n_estimators=500)\n",
    "et.fit(X1_train, y1_train)"
   ]
  },
  {
   "cell_type": "markdown",
   "metadata": {},
   "source": [
    "##### Evaluate Model"
   ]
  },
  {
   "cell_type": "code",
   "execution_count": 15,
   "metadata": {},
   "outputs": [],
   "source": [
    "def get_scores_per_window(x, y, group, threshold=0.2):\n",
    "    corr = spearmanr(x, y)[0]\n",
    "    mu_a = x.groupby(group).mean()\n",
    "    mu_p = y.groupby(group).mean()\n",
    "    mu_a_top = mu_a[mu_a.rank(ascending=False) / len(mu_a) < threshold]\n",
    "    mu_p_top = mu_p[mu_p.rank(ascending=False) / len(mu_p) < threshold]\n",
    "    overlap = mu_p_top.index.isin(mu_a_top.index).mean()\n",
    "    return pd.Series([corr, overlap], index=['spearman', 'overlap'])\n",
    "\n",
    "def evaluate_average_weekly_rank_correlation(test_referral_table, y_test, y_pred):\n",
    "    grouped_y = test_referral_table.assign(y=y_test, pred=y_pred).set_index('referral_referraltakendate')\\\n",
    "        .groupby([pd.TimeGrouper('1W'), 'client_clientid'])['y'].mean()\n",
    "    grouped_pred_y = test_referral_table.assign(y=y_test, pred=y_pred).set_index('referral_referraltakendate')\\\n",
    "        .groupby([pd.TimeGrouper('1W'), 'client_clientid'])['pred'].mean()\n",
    "    time_grouped = pd.concat([grouped_y, grouped_pred_y], axis=1)\n",
    "    return time_grouped.reset_index().groupby(['referral_referraltakendate']).\\\n",
    "        apply(lambda k: get_scores_per_window(k['y'], k['pred'], k['client_clientid'])).dropna().mean()"
   ]
  },
  {
   "cell_type": "code",
   "execution_count": 16,
   "metadata": {},
   "outputs": [
    {
     "name": "stderr",
     "output_type": "stream",
     "text": [
      "/Users/davidsykes/.virtualenvs/twc/lib/python3.5/site-packages/ipykernel_launcher.py:11: FutureWarning: pd.TimeGrouper is deprecated and will be removed; Please use pd.Grouper(freq=...)\n",
      "  # This is added back by InteractiveShellApp.init_path()\n",
      "/Users/davidsykes/.virtualenvs/twc/lib/python3.5/site-packages/ipykernel_launcher.py:12: FutureWarning: pd.TimeGrouper is deprecated and will be removed; Please use pd.Grouper(freq=...)\n",
      "  if sys.path[0] == '':\n",
      "/Users/davidsykes/.virtualenvs/twc/lib/python3.5/site-packages/numpy/lib/function_base.py:3183: RuntimeWarning: invalid value encountered in true_divide\n",
      "  c /= stddev[:, None]\n",
      "/Users/davidsykes/.virtualenvs/twc/lib/python3.5/site-packages/numpy/lib/function_base.py:3184: RuntimeWarning: invalid value encountered in true_divide\n",
      "  c /= stddev[None, :]\n",
      "/Users/davidsykes/.virtualenvs/twc/lib/python3.5/site-packages/scipy/stats/_distn_infrastructure.py:879: RuntimeWarning: invalid value encountered in greater\n",
      "  return (self.a < x) & (x < self.b)\n",
      "/Users/davidsykes/.virtualenvs/twc/lib/python3.5/site-packages/scipy/stats/_distn_infrastructure.py:879: RuntimeWarning: invalid value encountered in less\n",
      "  return (self.a < x) & (x < self.b)\n",
      "/Users/davidsykes/.virtualenvs/twc/lib/python3.5/site-packages/scipy/stats/_distn_infrastructure.py:1821: RuntimeWarning: invalid value encountered in less_equal\n",
      "  cond2 = cond0 & (x <= self.a)\n"
     ]
    },
    {
     "data": {
      "text/plain": [
       "spearman    0.496957\n",
       "overlap     0.531628\n",
       "dtype: float64"
      ]
     },
     "execution_count": 16,
     "metadata": {},
     "output_type": "execute_result"
    }
   ],
   "source": [
    "y1_pred = pd.Series(et.predict(X1_test), X1_test.index)\n",
    "test_referral_table = referral_table_1.loc[X1_test.index]\n",
    "evaluate_average_weekly_rank_correlation(test_referral_table, y1_test, y1_pred)"
   ]
  },
  {
   "cell_type": "markdown",
   "metadata": {},
   "source": [
    "### Case 2\n",
    "##### DB Data --> JSON ---> Notebook transforms ---> Notebook train ---> Notebook evaluate"
   ]
  },
  {
   "cell_type": "code",
   "execution_count": 200,
   "metadata": {},
   "outputs": [],
   "source": [
    "def make_tables_new_format(things):\n",
    "    return_list = []\n",
    "    for client_id in tqdm_notebook(unique_ids):\n",
    "        client_dict = {}\n",
    "        for k in things:\n",
    "            if 'clientid' in things[k]:\n",
    "                segment = things[k][things[k]['clientid'] == client_id]\n",
    "            else:\n",
    "                referral_instance_ids = referrals_per_client[referrals_per_client['clientid']==client_id]['referralinstanceid']\n",
    "                segment = things[k][things[k]['referralinstanceid'].isin(referral_instance_ids)]\n",
    "            if len(segment) > 0:\n",
    "                client_dict[k] = segment.to_dict(orient='records')\n",
    "            else:\n",
    "                client_dict[k] = []\n",
    "        return_list.append(client_dict)\n",
    "    return return_list"
   ]
  },
  {
   "cell_type": "code",
   "execution_count": 201,
   "metadata": {},
   "outputs": [
    {
     "data": {
      "application/vnd.jupyter.widget-view+json": {
       "model_id": "2185a2c9381e4f27b3f83149f098a563",
       "version_major": 2,
       "version_minor": 0
      },
      "text/html": [
       "<p>Failed to display Jupyter Widget of type <code>HBox</code>.</p>\n",
       "<p>\n",
       "  If you're reading this message in the Jupyter Notebook or JupyterLab Notebook, it may mean\n",
       "  that the widgets JavaScript is still loading. If this message persists, it\n",
       "  likely means that the widgets JavaScript library is either not installed or\n",
       "  not enabled. See the <a href=\"https://ipywidgets.readthedocs.io/en/stable/user_install.html\">Jupyter\n",
       "  Widgets Documentation</a> for setup instructions.\n",
       "</p>\n",
       "<p>\n",
       "  If you're reading this message in another frontend (for example, a static\n",
       "  rendering on GitHub or <a href=\"https://nbviewer.jupyter.org/\">NBViewer</a>),\n",
       "  it may mean that your frontend doesn't currently support widgets.\n",
       "</p>\n"
      ],
      "text/plain": [
       "HBox(children=(IntProgress(value=0, max=5691), HTML(value='')))"
      ]
     },
     "metadata": {},
     "output_type": "display_data"
    },
    {
     "name": "stdout",
     "output_type": "stream",
     "text": [
      "\n"
     ]
    }
   ],
   "source": [
    "unique_ids = tables_from_db['client']['clientid'].unique()\n",
    "referrals_per_client = tables_from_db['referral']\n",
    "db_tables_as_json = make_tables_new_format(tables_from_db)"
   ]
  },
  {
   "cell_type": "code",
   "execution_count": 202,
   "metadata": {},
   "outputs": [],
   "source": [
    "tables_from_json_from_db = construct_full_tables(db_tables_as_json)"
   ]
  },
  {
   "cell_type": "code",
   "execution_count": 203,
   "metadata": {},
   "outputs": [],
   "source": [
    "X2, y2, referral_table_2 = transformer.fit_transform(tables_from_json_from_db)\n",
    "\n",
    "X2 = X2.fillna(0)"
   ]
  },
  {
   "cell_type": "code",
   "execution_count": 204,
   "metadata": {},
   "outputs": [
    {
     "name": "stdout",
     "output_type": "stream",
     "text": [
      "Shape X:(17980, 593), Shape y: (17980,)\n"
     ]
    }
   ],
   "source": [
    "print('Shape X:{}, Shape y: {}'.format(X2.shape, y2.shape))"
   ]
  },
  {
   "cell_type": "markdown",
   "metadata": {},
   "source": [
    "##### Build Model and Evaluate"
   ]
  },
  {
   "cell_type": "code",
   "execution_count": 205,
   "metadata": {},
   "outputs": [],
   "source": [
    "X2_train = X2[X2.index < 13500]\n",
    "X2_test = X2[X2.index >= 13500]\n",
    "y2_train = y2.loc[X2_train.index]\n",
    "y2_test = y2.loc[X2_test.index]"
   ]
  },
  {
   "cell_type": "code",
   "execution_count": 206,
   "metadata": {},
   "outputs": [
    {
     "data": {
      "text/plain": [
       "ExtraTreesRegressor(bootstrap=False, criterion='mse', max_depth=None,\n",
       "          max_features='auto', max_leaf_nodes=None,\n",
       "          min_impurity_decrease=0.0, min_impurity_split=None,\n",
       "          min_samples_leaf=1, min_samples_split=2,\n",
       "          min_weight_fraction_leaf=0.0, n_estimators=500, n_jobs=-1,\n",
       "          oob_score=False, random_state=None, verbose=0, warm_start=False)"
      ]
     },
     "execution_count": 206,
     "metadata": {},
     "output_type": "execute_result"
    }
   ],
   "source": [
    "et2 = ExtraTreesRegressor(n_jobs=-1, n_estimators=500)\n",
    "et2.fit(X2_train, y2_train)"
   ]
  },
  {
   "cell_type": "code",
   "execution_count": 207,
   "metadata": {},
   "outputs": [
    {
     "name": "stderr",
     "output_type": "stream",
     "text": [
      "/Users/davidsykes/.virtualenvs/twc/lib/python3.5/site-packages/ipykernel_launcher.py:11: FutureWarning: pd.TimeGrouper is deprecated and will be removed; Please use pd.Grouper(freq=...)\n",
      "  # This is added back by InteractiveShellApp.init_path()\n",
      "/Users/davidsykes/.virtualenvs/twc/lib/python3.5/site-packages/ipykernel_launcher.py:12: FutureWarning: pd.TimeGrouper is deprecated and will be removed; Please use pd.Grouper(freq=...)\n",
      "  if sys.path[0] == '':\n",
      "/Users/davidsykes/.virtualenvs/twc/lib/python3.5/site-packages/numpy/lib/function_base.py:3183: RuntimeWarning: invalid value encountered in true_divide\n",
      "  c /= stddev[:, None]\n",
      "/Users/davidsykes/.virtualenvs/twc/lib/python3.5/site-packages/numpy/lib/function_base.py:3184: RuntimeWarning: invalid value encountered in true_divide\n",
      "  c /= stddev[None, :]\n",
      "/Users/davidsykes/.virtualenvs/twc/lib/python3.5/site-packages/scipy/stats/_distn_infrastructure.py:879: RuntimeWarning: invalid value encountered in greater\n",
      "  return (self.a < x) & (x < self.b)\n",
      "/Users/davidsykes/.virtualenvs/twc/lib/python3.5/site-packages/scipy/stats/_distn_infrastructure.py:879: RuntimeWarning: invalid value encountered in less\n",
      "  return (self.a < x) & (x < self.b)\n",
      "/Users/davidsykes/.virtualenvs/twc/lib/python3.5/site-packages/scipy/stats/_distn_infrastructure.py:1821: RuntimeWarning: invalid value encountered in less_equal\n",
      "  cond2 = cond0 & (x <= self.a)\n"
     ]
    },
    {
     "data": {
      "text/plain": [
       "spearman    0.499739\n",
       "overlap     0.541078\n",
       "dtype: float64"
      ]
     },
     "execution_count": 207,
     "metadata": {},
     "output_type": "execute_result"
    }
   ],
   "source": [
    "y2_pred = pd.Series(et2.predict(X2_test), X2_test.index)\n",
    "test_referral_table = referral_table_2.loc[X2_test.index]\n",
    "evaluate_average_weekly_rank_correlation(test_referral_table, y2_test, y2_pred)"
   ]
  },
  {
   "cell_type": "markdown",
   "metadata": {},
   "source": [
    "### Case 3\n",
    "##### DB Data --> JSON ---> Library transforms ---> Library train ---> Notebook Evaluate"
   ]
  },
  {
   "cell_type": "code",
   "execution_count": 231,
   "metadata": {},
   "outputs": [
    {
     "name": "stderr",
     "output_type": "stream",
     "text": [
      "../twc_api/api/utils/evaluate.py:16: FutureWarning: pd.TimeGrouper is deprecated and will be removed; Please use pd.Grouper(freq=...)\n",
      "  .groupby([pd.TimeGrouper('1W'), 'client_clientid'])['y']\\\n",
      "../twc_api/api/utils/evaluate.py:20: FutureWarning: pd.TimeGrouper is deprecated and will be removed; Please use pd.Grouper(freq=...)\n",
      "  .groupby([pd.TimeGrouper('1W'), 'client_clientid'])['pred']\\\n",
      "/Users/davidsykes/.virtualenvs/twc/lib/python3.5/site-packages/numpy/lib/function_base.py:3183: RuntimeWarning: invalid value encountered in true_divide\n",
      "  c /= stddev[:, None]\n",
      "/Users/davidsykes/.virtualenvs/twc/lib/python3.5/site-packages/numpy/lib/function_base.py:3184: RuntimeWarning: invalid value encountered in true_divide\n",
      "  c /= stddev[None, :]\n",
      "/Users/davidsykes/.virtualenvs/twc/lib/python3.5/site-packages/scipy/stats/_distn_infrastructure.py:879: RuntimeWarning: invalid value encountered in greater\n",
      "  return (self.a < x) & (x < self.b)\n",
      "/Users/davidsykes/.virtualenvs/twc/lib/python3.5/site-packages/scipy/stats/_distn_infrastructure.py:879: RuntimeWarning: invalid value encountered in less\n",
      "  return (self.a < x) & (x < self.b)\n",
      "/Users/davidsykes/.virtualenvs/twc/lib/python3.5/site-packages/scipy/stats/_distn_infrastructure.py:1821: RuntimeWarning: invalid value encountered in less_equal\n",
      "  cond2 = cond0 & (x <= self.a)\n"
     ]
    }
   ],
   "source": [
    "X3, y3, referral_table_3, et3, message = train_model_from_json(db_tables_as_json)"
   ]
  },
  {
   "cell_type": "code",
   "execution_count": 232,
   "metadata": {},
   "outputs": [
    {
     "name": "stdout",
     "output_type": "stream",
     "text": [
      "Features Matrix generated consisting of 17980 referrals and 593 features\n",
      "Train/Test sets split.\n",
      "Train set: 13484 referrals.\n",
      "Test set: 4496 referrals\n",
      "Trained Model on: 13484 observations\n",
      "Model Test Evaluation Metrics:\n",
      "\tTest Set Correlation of Predicted and Actual Mean Weekly Scores: 0.496771412117872\n",
      "\tTest Set Overlap of top 20.0% worst cases: 0.5275197446421702\n"
     ]
    }
   ],
   "source": [
    "print(message)"
   ]
  },
  {
   "cell_type": "code",
   "execution_count": 211,
   "metadata": {},
   "outputs": [
    {
     "name": "stderr",
     "output_type": "stream",
     "text": [
      "/Users/davidsykes/.virtualenvs/twc/lib/python3.5/site-packages/ipykernel_launcher.py:11: FutureWarning: pd.TimeGrouper is deprecated and will be removed; Please use pd.Grouper(freq=...)\n",
      "  # This is added back by InteractiveShellApp.init_path()\n",
      "/Users/davidsykes/.virtualenvs/twc/lib/python3.5/site-packages/ipykernel_launcher.py:12: FutureWarning: pd.TimeGrouper is deprecated and will be removed; Please use pd.Grouper(freq=...)\n",
      "  if sys.path[0] == '':\n",
      "/Users/davidsykes/.virtualenvs/twc/lib/python3.5/site-packages/numpy/lib/function_base.py:3183: RuntimeWarning: invalid value encountered in true_divide\n",
      "  c /= stddev[:, None]\n",
      "/Users/davidsykes/.virtualenvs/twc/lib/python3.5/site-packages/numpy/lib/function_base.py:3184: RuntimeWarning: invalid value encountered in true_divide\n",
      "  c /= stddev[None, :]\n",
      "/Users/davidsykes/.virtualenvs/twc/lib/python3.5/site-packages/scipy/stats/_distn_infrastructure.py:879: RuntimeWarning: invalid value encountered in greater\n",
      "  return (self.a < x) & (x < self.b)\n",
      "/Users/davidsykes/.virtualenvs/twc/lib/python3.5/site-packages/scipy/stats/_distn_infrastructure.py:879: RuntimeWarning: invalid value encountered in less\n",
      "  return (self.a < x) & (x < self.b)\n",
      "/Users/davidsykes/.virtualenvs/twc/lib/python3.5/site-packages/scipy/stats/_distn_infrastructure.py:1821: RuntimeWarning: invalid value encountered in less_equal\n",
      "  cond2 = cond0 & (x <= self.a)\n"
     ]
    },
    {
     "data": {
      "text/plain": [
       "spearman    0.498597\n",
       "overlap     0.538726\n",
       "dtype: float64"
      ]
     },
     "execution_count": 211,
     "metadata": {},
     "output_type": "execute_result"
    }
   ],
   "source": [
    "y3_pred = pd.Series(et3.predict(X3_test), X3_test.index)\n",
    "test_referral_table = referral_table_2.loc[X3_test.index]\n",
    "evaluate_average_weekly_rank_correlation(test_referral_table, y3_test, y3_pred)"
   ]
  },
  {
   "cell_type": "markdown",
   "metadata": {},
   "source": [
    "### Case 4\n",
    "##### Andrew JSON Data --> Library Transforms --> Library Train --> Library Evaluate"
   ]
  },
  {
   "cell_type": "code",
   "execution_count": 17,
   "metadata": {},
   "outputs": [],
   "source": [
    "with open('../twc_api/api/requestNewData.json', 'r') as f:\n",
    "    andrew_json_data = json.load(f)"
   ]
  },
  {
   "cell_type": "code",
   "execution_count": 18,
   "metadata": {},
   "outputs": [
    {
     "name": "stderr",
     "output_type": "stream",
     "text": [
      "../twc_api/api/utils/evaluate.py:16: FutureWarning: pd.TimeGrouper is deprecated and will be removed; Please use pd.Grouper(freq=...)\n",
      "  .groupby([pd.TimeGrouper('1W'), 'client_clientid'])['y']\\\n",
      "../twc_api/api/utils/evaluate.py:20: FutureWarning: pd.TimeGrouper is deprecated and will be removed; Please use pd.Grouper(freq=...)\n",
      "  .groupby([pd.TimeGrouper('1W'), 'client_clientid'])['pred']\\\n"
     ]
    }
   ],
   "source": [
    "X4, y4, referral_table4, et4, message4 = train_model_from_json(andrew_json_data)"
   ]
  },
  {
   "cell_type": "code",
   "execution_count": 20,
   "metadata": {},
   "outputs": [
    {
     "name": "stdout",
     "output_type": "stream",
     "text": [
      "Features Matrix generated consisting of 21079 referrals and 565 features\n",
      "Train/Test sets split.\n",
      "Train set: 15808 referrals.\n",
      "Test set: 5271 referrals\n",
      "Trained Model on: 15808 observations\n",
      "Model Test Evaluation Metrics:\n",
      "\tTest Set Correlation of Predicted and Actual Mean Weekly Scores: 0.4472522800116791\n",
      "\tTest Set Overlap of top 20.0% worst cases: 0.43475828644035014\n"
     ]
    }
   ],
   "source": [
    "print(message4)"
   ]
  },
  {
   "cell_type": "markdown",
   "metadata": {},
   "source": [
    "### Case 5\n",
    "##### Newest Andrew JSON Data (sent 3rd August 2018) --> Library Transforms --> Library Train --> Library Evaluate"
   ]
  },
  {
   "cell_type": "code",
   "execution_count": 24,
   "metadata": {},
   "outputs": [],
   "source": [
    "with open('../twc_api/api/JSONExport20180803200350.JSON', 'r') as f:\n",
    "    aug_andrew_json_data = json.load(f)"
   ]
  },
  {
   "cell_type": "code",
   "execution_count": 27,
   "metadata": {},
   "outputs": [
    {
     "name": "stderr",
     "output_type": "stream",
     "text": [
      "../twc_api/api/utils/evaluate.py:16: FutureWarning: pd.TimeGrouper is deprecated and will be removed; Please use pd.Grouper(freq=...)\n",
      "  .groupby([pd.TimeGrouper('1W'), 'client_clientid'])['y']\\\n",
      "../twc_api/api/utils/evaluate.py:20: FutureWarning: pd.TimeGrouper is deprecated and will be removed; Please use pd.Grouper(freq=...)\n",
      "  .groupby([pd.TimeGrouper('1W'), 'client_clientid'])['pred']\\\n"
     ]
    }
   ],
   "source": [
    "X5, y5, referral_table5, et5, message5 = train_model_from_json(aug_andrew_json_data)"
   ]
  },
  {
   "cell_type": "code",
   "execution_count": 28,
   "metadata": {},
   "outputs": [
    {
     "name": "stdout",
     "output_type": "stream",
     "text": [
      "Features Matrix generated consisting of 26592 referrals and 2588 features\n",
      "Train/Test sets split.\n",
      "Train set: 19943 referrals.\n",
      "Test set: 6649 referrals\n",
      "Trained Model on: 19943 observations\n",
      "Model Test Evaluation Metrics:\n",
      "\tTest Set Correlation of Predicted and Actual Mean Weekly Scores: 0.45962503773357094\n",
      "\tTest Set Overlap of top 20.0% worst cases: 0.4622611842907768\n"
     ]
    }
   ],
   "source": [
    "print(message5)"
   ]
  },
  {
   "cell_type": "code",
   "execution_count": 31,
   "metadata": {},
   "outputs": [
    {
     "name": "stdout",
     "output_type": "stream",
     "text": [
      "['referral_dependantnumber', 'referral_livingwithpartner', 'referral_referralpreparedworkerid', 'referraldietaryrequirements_1', 'referraldietaryrequirements_2', 'referraldietaryrequirements_3', 'referraldietaryrequirements_4', 'referraldietaryrequirements_5', 'referraldietaryrequirements_6', 'referraldietaryrequirements_7', 'referraldietaryrequirements_8', 'referraldietaryrequirements_9', 'referraldietaryrequirements_10', 'referraldietaryrequirements_11', 'referraldietaryrequirements_12', 'referraldocument_1', 'referraldocument_2', 'referraldocument_3', 'referraldocument_4', 'referraldocument_5', 'client_age', 'client_addresslength', 'client_clientismale', 'client_knownpartner', 'client_clientcountryid_1', 'client_clientcountryid_10', 'client_clientcountryid_11', 'client_clientcountryid_12', 'client_clientcountryid_13', 'client_clientcountryid_14', 'client_clientcountryid_15', 'client_clientcountryid_16', 'client_clientcountryid_17', 'client_clientcountryid_18', 'client_clientcountryid_19', 'client_clientcountryid_2', 'client_clientcountryid_20', 'client_clientcountryid_21', 'client_clientcountryid_22', 'client_clientcountryid_23', 'client_clientcountryid_24', 'client_clientcountryid_25', 'client_clientcountryid_26', 'client_clientcountryid_27', 'client_clientcountryid_28', 'client_clientcountryid_29', 'client_clientcountryid_3', 'client_clientcountryid_30', 'client_clientcountryid_4', 'client_clientcountryid_5', 'client_clientcountryid_6', 'client_clientcountryid_7', 'client_clientcountryid_8', 'client_clientcountryid_9', 'client_clientcountryid_None', 'client_clientaddresstypeid_1', 'client_clientaddresstypeid_2', 'client_clientaddresstypeid_3', 'client_clientaddresstypeid_4', 'client_clientaddresstypeid_5', 'client_clientaddresstypeid_6', 'client_clientaddresstypeid_7', 'client_clientaddresstypeid_8', 'client_clientaddresstypeid_None', 'client_addresspostcode_  HD4 6LN', 'client_addresspostcode_4QW', 'client_addresspostcode_BD19 3AA', 'client_addresspostcode_BD19 3AD', 'client_addresspostcode_BD19 3JT', 'client_addresspostcode_BD19 3LG', 'client_addresspostcode_BD19 3LW', 'client_addresspostcode_BD19 3LW ', 'client_addresspostcode_BD19 3UP', 'client_addresspostcode_BD19 3UR', 'client_addresspostcode_BD19 3UX', 'client_addresspostcode_BD19 4LY', 'client_addresspostcode_BD19 4NU', 'client_addresspostcode_BD19 4TJ', 'client_addresspostcode_BD19 4TL', 'client_addresspostcode_BD19 5BX', 'client_addresspostcode_BD19 5DZ', 'client_addresspostcode_BD19 6AJ', 'client_addresspostcode_BD19 6AX', 'client_addresspostcode_BD19 6DE', 'client_addresspostcode_BD19 6DL', 'client_addresspostcode_BD19 6DQ', 'client_addresspostcode_BD19 6DZ', 'client_addresspostcode_BD19 6HP', 'client_addresspostcode_BD4 6PN', 'client_addresspostcode_BD6 3JU', 'client_addresspostcode_DF16 0ED', 'client_addresspostcode_FY1', 'client_addresspostcode_H', 'client_addresspostcode_HD', 'client_addresspostcode_HD 5 8HF', 'client_addresspostcode_HD! 0DF', 'client_addresspostcode_HD! 3TZ', 'client_addresspostcode_HD! 3UQ', 'client_addresspostcode_HD! 5DX', 'client_addresspostcode_HD! 5HJ', 'client_addresspostcode_HD$ 6AJ', 'client_addresspostcode_HD& 4DL', 'client_addresspostcode_HD& 4QX', 'client_addresspostcode_HD1', 'client_addresspostcode_HD1 ', 'client_addresspostcode_HD1  5ET', 'client_addresspostcode_HD1  6LQ', 'client_addresspostcode_HD1 0HP', 'client_addresspostcode_HD1 1AP', 'client_addresspostcode_HD1 1DD', 'client_addresspostcode_HD1 1JF', 'client_addresspostcode_HD1 1JT', 'client_addresspostcode_HD1 1JZ', 'client_addresspostcode_HD1 1NP', 'client_addresspostcode_HD1 1NS', 'client_addresspostcode_HD1 1NU', 'client_addresspostcode_HD1 1NU ', 'client_addresspostcode_HD1 1QB', 'client_addresspostcode_HD1 1QJ', 'client_addresspostcode_HD1 1QN', 'client_addresspostcode_HD1 1QT', 'client_addresspostcode_HD1 1QX', 'client_addresspostcode_HD1 1QY', 'client_addresspostcode_HD1 1RA', 'client_addresspostcode_HD1 1RP', 'client_addresspostcode_HD1 1SY', 'client_addresspostcode_HD1 1UN', 'client_addresspostcode_HD1 2 PJ', 'client_addresspostcode_HD1 2BS', 'client_addresspostcode_HD1 2FE', 'client_addresspostcode_HD1 2JB', 'client_addresspostcode_HD1 2JF', 'client_addresspostcode_HD1 2JJ', 'client_addresspostcode_HD1 2NS', 'client_addresspostcode_HD1 2NX', 'client_addresspostcode_HD1 2PG', 'client_addresspostcode_HD1 2PJ', 'client_addresspostcode_HD1 2PJ ', 'client_addresspostcode_HD1 2QD', 'client_addresspostcode_HD1 2RD', 'client_addresspostcode_HD1 2RJ', 'client_addresspostcode_HD1 2SB', 'client_addresspostcode_HD1 2TD', 'client_addresspostcode_HD1 2TL', 'client_addresspostcode_HD1 2TW', 'client_addresspostcode_HD1 3', 'client_addresspostcode_HD1 3 SS', 'client_addresspostcode_HD1 3 UQ', 'client_addresspostcode_HD1 3AN', 'client_addresspostcode_HD1 3AP', 'client_addresspostcode_HD1 3AW ', 'client_addresspostcode_HD1 3AY', 'client_addresspostcode_HD1 3BG', 'client_addresspostcode_HD1 3BP', 'client_addresspostcode_HD1 3BR', 'client_addresspostcode_HD1 3BS', 'client_addresspostcode_HD1 3BS ', 'client_addresspostcode_HD1 3BT', 'client_addresspostcode_HD1 3BT ', 'client_addresspostcode_HD1 3BX', 'client_addresspostcode_HD1 3CA', 'client_addresspostcode_HD1 3DG', 'client_addresspostcode_HD1 3DQ', 'client_addresspostcode_HD1 3DY', 'client_addresspostcode_HD1 3EB', 'client_addresspostcode_HD1 3EP', 'client_addresspostcode_HD1 3EW', 'client_addresspostcode_HD1 3FJ', 'client_addresspostcode_HD1 3FL', 'client_addresspostcode_HD1 3GL', 'client_addresspostcode_HD1 3HB', 'client_addresspostcode_HD1 3HJ', 'client_addresspostcode_HD1 3HR', 'client_addresspostcode_HD1 3HR ', 'client_addresspostcode_HD1 3HT', 'client_addresspostcode_HD1 3HU', 'client_addresspostcode_HD1 3HU ', 'client_addresspostcode_HD1 3HW', 'client_addresspostcode_HD1 3HY', 'client_addresspostcode_HD1 3HZ', 'client_addresspostcode_HD1 3JA', 'client_addresspostcode_HD1 3JE', 'client_addresspostcode_HD1 3JF', 'client_addresspostcode_HD1 3JG', 'client_addresspostcode_HD1 3JJ', 'client_addresspostcode_HD1 3JL', 'client_addresspostcode_HD1 3JN', 'client_addresspostcode_HD1 3JQ', 'client_addresspostcode_HD1 3JR', 'client_addresspostcode_HD1 3JS', 'client_addresspostcode_HD1 3JT', 'client_addresspostcode_HD1 3JX', 'client_addresspostcode_HD1 3LE', 'client_addresspostcode_HD1 3LL', 'client_addresspostcode_HD1 3LZ', 'client_addresspostcode_HD1 3NA', 'client_addresspostcode_HD1 3NE', 'client_addresspostcode_HD1 3NF', 'client_addresspostcode_HD1 3NF ', 'client_addresspostcode_HD1 3NG', 'client_addresspostcode_HD1 3NH', 'client_addresspostcode_HD1 3NL', 'client_addresspostcode_HD1 3NP', 'client_addresspostcode_HD1 3NQ', 'client_addresspostcode_HD1 3NS', 'client_addresspostcode_HD1 3OH', 'client_addresspostcode_HD1 3PL', 'client_addresspostcode_HD1 3PP', 'client_addresspostcode_HD1 3QA', 'client_addresspostcode_HD1 3QE', 'client_addresspostcode_HD1 3QP', 'client_addresspostcode_HD1 3QP ', 'client_addresspostcode_HD1 3QR', 'client_addresspostcode_HD1 3QS', 'client_addresspostcode_HD1 3QX', 'client_addresspostcode_HD1 3QY', 'client_addresspostcode_HD1 3RA', 'client_addresspostcode_HD1 3RG', 'client_addresspostcode_HD1 3RT', 'client_addresspostcode_HD1 3RX', 'client_addresspostcode_HD1 3RY', 'client_addresspostcode_HD1 3RZ', 'client_addresspostcode_HD1 3SA', 'client_addresspostcode_HD1 3SB', 'client_addresspostcode_HD1 3SE', 'client_addresspostcode_HD1 3SF', 'client_addresspostcode_HD1 3SG', 'client_addresspostcode_HD1 3SJ', 'client_addresspostcode_HD1 3SL', 'client_addresspostcode_HD1 3SN', 'client_addresspostcode_HD1 3SP', 'client_addresspostcode_HD1 3SP ', 'client_addresspostcode_HD1 3SR', 'client_addresspostcode_HD1 3SS', 'client_addresspostcode_HD1 3SW', 'client_addresspostcode_HD1 3TF', 'client_addresspostcode_HD1 3TG', 'client_addresspostcode_HD1 3TJ', 'client_addresspostcode_HD1 3TL', 'client_addresspostcode_HD1 3TN', 'client_addresspostcode_HD1 3TN ', 'client_addresspostcode_HD1 3TP', 'client_addresspostcode_HD1 3TR', 'client_addresspostcode_HD1 3TW', 'client_addresspostcode_HD1 3TW ', 'client_addresspostcode_HD1 3TX', 'client_addresspostcode_HD1 3TZ', 'client_addresspostcode_HD1 3UA', 'client_addresspostcode_HD1 3UA ', 'client_addresspostcode_HD1 3UB', 'client_addresspostcode_HD1 3UD', 'client_addresspostcode_HD1 3UE', 'client_addresspostcode_HD1 3UG', 'client_addresspostcode_HD1 3UH', 'client_addresspostcode_HD1 3UH ', 'client_addresspostcode_HD1 3UJ', 'client_addresspostcode_HD1 3UL', 'client_addresspostcode_HD1 3UN', 'client_addresspostcode_HD1 3UP', 'client_addresspostcode_HD1 3UQ', 'client_addresspostcode_HD1 3US', 'client_addresspostcode_HD1 3UW', 'client_addresspostcode_HD1 3UX', 'client_addresspostcode_HD1 3UX ', 'client_addresspostcode_HD1 3YN', 'client_addresspostcode_HD1 4 AW', 'client_addresspostcode_HD1 4 HE', 'client_addresspostcode_HD1 4 RN', 'client_addresspostcode_HD1 4 RT', 'client_addresspostcode_HD1 42W', 'client_addresspostcode_HD1 4AA', 'client_addresspostcode_HD1 4AQ', 'client_addresspostcode_HD1 4AW', 'client_addresspostcode_HD1 4AZ', 'client_addresspostcode_HD1 4AZ ', 'client_addresspostcode_HD1 4BB', 'client_addresspostcode_HD1 4BG', 'client_addresspostcode_HD1 4BH', 'client_addresspostcode_HD1 4BJ', 'client_addresspostcode_HD1 4BL', 'client_addresspostcode_HD1 4BN', 'client_addresspostcode_HD1 4BP', 'client_addresspostcode_HD1 4BS', 'client_addresspostcode_HD1 4BT', 'client_addresspostcode_HD1 4BZ', 'client_addresspostcode_HD1 4DN', 'client_addresspostcode_HD1 4DN ', 'client_addresspostcode_HD1 4DS', 'client_addresspostcode_HD1 4DT', 'client_addresspostcode_HD1 4DT ', 'client_addresspostcode_HD1 4DU', 'client_addresspostcode_HD1 4DX', 'client_addresspostcode_HD1 4DZ', 'client_addresspostcode_HD1 4EB', 'client_addresspostcode_HD1 4EG', 'client_addresspostcode_HD1 4EJ', 'client_addresspostcode_HD1 4EX', 'client_addresspostcode_HD1 4GU', 'client_addresspostcode_HD1 4HA', 'client_addresspostcode_HD1 4HD', 'client_addresspostcode_HD1 4HE', 'client_addresspostcode_HD1 4HH', 'client_addresspostcode_HD1 4HR ', 'client_addresspostcode_HD1 4HS', 'client_addresspostcode_HD1 4HW', 'client_addresspostcode_HD1 4JA', 'client_addresspostcode_HD1 4JE', 'client_addresspostcode_HD1 4JG', 'client_addresspostcode_HD1 4JH', 'client_addresspostcode_HD1 4JJ', 'client_addresspostcode_HD1 4JL', 'client_addresspostcode_HD1 4JP', 'client_addresspostcode_HD1 4JR', 'client_addresspostcode_HD1 4JR ', 'client_addresspostcode_HD1 4JS', 'client_addresspostcode_HD1 4JW', 'client_addresspostcode_HD1 4LG', 'client_addresspostcode_HD1 4LH', 'client_addresspostcode_HD1 4LL', 'client_addresspostcode_HD1 4LN', 'client_addresspostcode_HD1 4LP', 'client_addresspostcode_HD1 4LQ', 'client_addresspostcode_HD1 4LT', 'client_addresspostcode_HD1 4LU', 'client_addresspostcode_HD1 4LW', 'client_addresspostcode_HD1 4LZ', 'client_addresspostcode_HD1 4ND', 'client_addresspostcode_HD1 4NE', 'client_addresspostcode_HD1 4NG', 'client_addresspostcode_HD1 4NR', 'client_addresspostcode_HD1 4NS', 'client_addresspostcode_HD1 4NT', 'client_addresspostcode_HD1 4NU', 'client_addresspostcode_HD1 4NU ', 'client_addresspostcode_HD1 4NW', 'client_addresspostcode_HD1 4NW ', 'client_addresspostcode_HD1 4PE', 'client_addresspostcode_HD1 4PJ', 'client_addresspostcode_HD1 4PW', 'client_addresspostcode_HD1 4PW ', 'client_addresspostcode_HD1 4QA', 'client_addresspostcode_HD1 4QE', 'client_addresspostcode_HD1 4QL', 'client_addresspostcode_HD1 4QP', 'client_addresspostcode_HD1 4QS', 'client_addresspostcode_HD1 4QT', 'client_addresspostcode_HD1 4QW', 'client_addresspostcode_HD1 4QX', 'client_addresspostcode_HD1 4QY', 'client_addresspostcode_HD1 4RB', 'client_addresspostcode_HD1 4RC', 'client_addresspostcode_HD1 4RN', 'client_addresspostcode_HD1 4RP', 'client_addresspostcode_HD1 4RT', 'client_addresspostcode_HD1 4RT ', 'client_addresspostcode_HD1 4RX', 'client_addresspostcode_HD1 4SG', 'client_addresspostcode_HD1 4SG ', 'client_addresspostcode_HD1 4SJ', 'client_addresspostcode_HD1 4SQ', 'client_addresspostcode_HD1 4SQ ', 'client_addresspostcode_HD1 4SR', 'client_addresspostcode_HD1 4SR ', 'client_addresspostcode_HD1 4ST', 'client_addresspostcode_HD1 4TP', 'client_addresspostcode_HD1 4TR', 'client_addresspostcode_HD1 4TR ', 'client_addresspostcode_HD1 4TS', 'client_addresspostcode_HD1 4TS ', 'client_addresspostcode_HD1 4TT', 'client_addresspostcode_HD1 4TX', 'client_addresspostcode_HD1 4TZ', 'client_addresspostcode_HD1 4UB', 'client_addresspostcode_HD1 4UD', 'client_addresspostcode_HD1 4UE', 'client_addresspostcode_HD1 4UG', 'client_addresspostcode_HD1 4UH', 'client_addresspostcode_HD1 4UJ', 'client_addresspostcode_HD1 4UL', 'client_addresspostcode_HD1 4UP', 'client_addresspostcode_HD1 4US', 'client_addresspostcode_HD1 5 BS', 'client_addresspostcode_HD1 5 DX', 'client_addresspostcode_HD1 5 HJ', 'client_addresspostcode_HD1 5BA', 'client_addresspostcode_HD1 5BB', 'client_addresspostcode_HD1 5BF', 'client_addresspostcode_HD1 5BN', 'client_addresspostcode_HD1 5BP', 'client_addresspostcode_HD1 5BP ', 'client_addresspostcode_HD1 5BQ', 'client_addresspostcode_HD1 5BS', 'client_addresspostcode_HD1 5BS ', 'client_addresspostcode_HD1 5BT', 'client_addresspostcode_HD1 5BW', 'client_addresspostcode_HD1 5BZ', 'client_addresspostcode_HD1 5DA', 'client_addresspostcode_HD1 5DA ', 'client_addresspostcode_HD1 5DB', 'client_addresspostcode_HD1 5DC', 'client_addresspostcode_HD1 5DF', 'client_addresspostcode_HD1 5DP', 'client_addresspostcode_HD1 5DR', 'client_addresspostcode_HD1 5DS', 'client_addresspostcode_HD1 5DX', 'client_addresspostcode_HD1 5DZ', 'client_addresspostcode_HD1 5EA', 'client_addresspostcode_HD1 5EP', 'client_addresspostcode_HD1 5ET', 'client_addresspostcode_HD1 5EY', 'client_addresspostcode_HD1 5EZ', 'client_addresspostcode_HD1 5GA', 'client_addresspostcode_HD1 5HB', 'client_addresspostcode_HD1 5HD', 'client_addresspostcode_HD1 5HE', 'client_addresspostcode_HD1 5HF', 'client_addresspostcode_HD1 5HG', 'client_addresspostcode_HD1 5HH', 'client_addresspostcode_HD1 5HJ', 'client_addresspostcode_HD1 5HN', 'client_addresspostcode_HD1 5HP', 'client_addresspostcode_HD1 5HQ', 'client_addresspostcode_HD1 5HR', 'client_addresspostcode_HD1 5HS', 'client_addresspostcode_HD1 5HT', 'client_addresspostcode_HD1 5HU', 'client_addresspostcode_HD1 5JR', 'client_addresspostcode_HD1 5JY', 'client_addresspostcode_HD1 5LR', 'client_addresspostcode_HD1 5LS', 'client_addresspostcode_HD1 5NE', 'client_addresspostcode_HD1 5NQ', 'client_addresspostcode_HD1 5PE', 'client_addresspostcode_HD1 5PJ', 'client_addresspostcode_HD1 5PL', 'client_addresspostcode_HD1 5PP', 'client_addresspostcode_HD1 5PS', 'client_addresspostcode_HD1 5PU', 'client_addresspostcode_HD1 5PX', 'client_addresspostcode_HD1 5PZ', 'client_addresspostcode_HD1 5QD', 'client_addresspostcode_HD1 5QP', 'client_addresspostcode_HD1 5QT', 'client_addresspostcode_HD1 5QU ', 'client_addresspostcode_HD1 5VS', 'client_addresspostcode_HD1 6', 'client_addresspostcode_HD1 6AB', 'client_addresspostcode_HD1 6AQ', 'client_addresspostcode_HD1 6AY', 'client_addresspostcode_HD1 6BA', 'client_addresspostcode_HD1 6BE', 'client_addresspostcode_HD1 6BG', 'client_addresspostcode_HD1 6BS', 'client_addresspostcode_HD1 6CL', 'client_addresspostcode_HD1 6DD', 'client_addresspostcode_HD1 6DE', 'client_addresspostcode_HD1 6DL', 'client_addresspostcode_HD1 6DZ', 'client_addresspostcode_HD1 6EA', 'client_addresspostcode_HD1 6EB', 'client_addresspostcode_HD1 6EE', 'client_addresspostcode_HD1 6EF', 'client_addresspostcode_HD1 6EH', 'client_addresspostcode_HD1 6EJ', 'client_addresspostcode_HD1 6EN', 'client_addresspostcode_HD1 6EQ', 'client_addresspostcode_HD1 6EQ ', 'client_addresspostcode_HD1 6ER', 'client_addresspostcode_HD1 6ET', 'client_addresspostcode_HD1 6EU', 'client_addresspostcode_HD1 6EY', 'client_addresspostcode_HD1 6FD', 'client_addresspostcode_HD1 6GB', 'client_addresspostcode_HD1 6GP', 'client_addresspostcode_HD1 6HB', 'client_addresspostcode_HD1 6HD', 'client_addresspostcode_HD1 6HG', 'client_addresspostcode_HD1 6HJ', 'client_addresspostcode_HD1 6HL', 'client_addresspostcode_HD1 6HP', 'client_addresspostcode_HD1 6HP ', 'client_addresspostcode_HD1 6HQ', 'client_addresspostcode_HD1 6HR', 'client_addresspostcode_HD1 6HR ', 'client_addresspostcode_HD1 6HW', 'client_addresspostcode_HD1 6HY', 'client_addresspostcode_HD1 6HZ', 'client_addresspostcode_HD1 6JA', 'client_addresspostcode_HD1 6JB', 'client_addresspostcode_HD1 6JB ', 'client_addresspostcode_HD1 6JE', 'client_addresspostcode_HD1 6JJ', 'client_addresspostcode_HD1 6JN', 'client_addresspostcode_HD1 6JP', 'client_addresspostcode_HD1 6JR', 'client_addresspostcode_HD1 6JS', 'client_addresspostcode_HD1 6JT', 'client_addresspostcode_HD1 6JV', 'client_addresspostcode_HD1 6JX', 'client_addresspostcode_HD1 6JX ', 'client_addresspostcode_HD1 6JY', 'client_addresspostcode_HD1 6JY ', 'client_addresspostcode_HD1 6JZ', 'client_addresspostcode_HD1 6JZ ', 'client_addresspostcode_HD1 6LJ', 'client_addresspostcode_HD1 6LN', 'client_addresspostcode_HD1 6LQ', 'client_addresspostcode_HD1 6NF', 'client_addresspostcode_HD1 6NS', 'client_addresspostcode_HD1 6NX', 'client_addresspostcode_HD1 6NZ', 'client_addresspostcode_HD1 6PA', 'client_addresspostcode_HD1 6PB', 'client_addresspostcode_HD1 6PH', 'client_addresspostcode_HD1 6PJ', 'client_addresspostcode_HD1 6PL', 'client_addresspostcode_HD1 6PN', 'client_addresspostcode_HD1 6PP', 'client_addresspostcode_HD1 6PR', 'client_addresspostcode_HD1 6PU', 'client_addresspostcode_HD1 6PW', 'client_addresspostcode_HD1 6SD', 'client_addresspostcode_HD1 6SG', 'client_addresspostcode_HD1 6TW', 'client_addresspostcode_HD1 8DU', 'client_addresspostcode_HD1 9BF', 'client_addresspostcode_HD1 9DF', 'client_addresspostcode_HD1 9DF ', 'client_addresspostcode_HD1 9DS', 'client_addresspostcode_HD1 D4X', 'client_addresspostcode_HD11NX', 'client_addresspostcode_HD13BS', 'client_addresspostcode_HD13EB', 'client_addresspostcode_HD13FW', 'client_addresspostcode_HD13HU', 'client_addresspostcode_HD13JA', 'client_addresspostcode_HD13JJ', 'client_addresspostcode_HD13JL', 'client_addresspostcode_HD13NL', 'client_addresspostcode_HD13PW', 'client_addresspostcode_HD13RD', 'client_addresspostcode_HD13RT', 'client_addresspostcode_HD13TF', 'client_addresspostcode_HD13TR', 'client_addresspostcode_HD13TW', 'client_addresspostcode_HD13TZ', 'client_addresspostcode_HD13UB', 'client_addresspostcode_HD13UH', 'client_addresspostcode_HD13UQ', 'client_addresspostcode_HD13UT', 'client_addresspostcode_HD14AZ', 'client_addresspostcode_HD14BD', 'client_addresspostcode_HD14BP', 'client_addresspostcode_HD14BZ', 'client_addresspostcode_HD14DN', 'client_addresspostcode_HD14JG', 'client_addresspostcode_HD14LP', 'client_addresspostcode_HD14QA', 'client_addresspostcode_HD14QD', 'client_addresspostcode_HD14QW', 'client_addresspostcode_HD14QY', 'client_addresspostcode_HD14RB', 'client_addresspostcode_HD14RT', 'client_addresspostcode_HD14SQ', 'client_addresspostcode_HD14SR', 'client_addresspostcode_HD14TS', 'client_addresspostcode_HD14UD', 'client_addresspostcode_HD15AZ', 'client_addresspostcode_HD15BS', 'client_addresspostcode_HD15DA', 'client_addresspostcode_HD15DR', 'client_addresspostcode_HD15EP', 'client_addresspostcode_HD15NE', 'client_addresspostcode_HD15QD', 'client_addresspostcode_HD16AY', 'client_addresspostcode_HD16BE', 'client_addresspostcode_HD16DE', 'client_addresspostcode_HD16EF', 'client_addresspostcode_HD16JR', 'client_addresspostcode_HD16JT', 'client_addresspostcode_HD16JZ', 'client_addresspostcode_HD16NF', 'client_addresspostcode_HD16PA', 'client_addresspostcode_HD16PL', 'client_addresspostcode_HD16PN', 'client_addresspostcode_HD1BS', 'client_addresspostcode_HD2', 'client_addresspostcode_HD2 ', 'client_addresspostcode_HD2  1UZ', 'client_addresspostcode_HD2  1YZ', 'client_addresspostcode_HD2 1 AN', 'client_addresspostcode_HD2 1 DZ', 'client_addresspostcode_HD2 1 JJ', 'client_addresspostcode_HD2 1 JN ', 'client_addresspostcode_HD2 1 LB', 'client_addresspostcode_HD2 1 UQ', 'client_addresspostcode_HD2 1AA', 'client_addresspostcode_HD2 1AA ', 'client_addresspostcode_HD2 1AB', 'client_addresspostcode_HD2 1AD', 'client_addresspostcode_HD2 1AE', 'client_addresspostcode_HD2 1AE ', 'client_addresspostcode_HD2 1AF', 'client_addresspostcode_HD2 1AH', 'client_addresspostcode_HD2 1AJ', 'client_addresspostcode_HD2 1AL', 'client_addresspostcode_HD2 1AN', 'client_addresspostcode_HD2 1AN ', 'client_addresspostcode_HD2 1AP', 'client_addresspostcode_HD2 1AQ', 'client_addresspostcode_HD2 1AR', 'client_addresspostcode_HD2 1AR ', 'client_addresspostcode_HD2 1AS', 'client_addresspostcode_HD2 1AT', 'client_addresspostcode_HD2 1AU', 'client_addresspostcode_HD2 1AW', 'client_addresspostcode_HD2 1AX', 'client_addresspostcode_HD2 1AY', 'client_addresspostcode_HD2 1AZ', 'client_addresspostcode_HD2 1BA', 'client_addresspostcode_HD2 1BB', 'client_addresspostcode_HD2 1BD', 'client_addresspostcode_HD2 1BE', 'client_addresspostcode_HD2 1BG', 'client_addresspostcode_HD2 1BP', 'client_addresspostcode_HD2 1BP ', 'client_addresspostcode_HD2 1BU', 'client_addresspostcode_HD2 1BW', 'client_addresspostcode_HD2 1DB', 'client_addresspostcode_HD2 1DF', 'client_addresspostcode_HD2 1DH ', 'client_addresspostcode_HD2 1DL', 'client_addresspostcode_HD2 1DQ', 'client_addresspostcode_HD2 1DT', 'client_addresspostcode_HD2 1DT ', 'client_addresspostcode_HD2 1DW', 'client_addresspostcode_HD2 1DW ', 'client_addresspostcode_HD2 1DX', 'client_addresspostcode_HD2 1DY', 'client_addresspostcode_HD2 1DZ', 'client_addresspostcode_HD2 1EA', 'client_addresspostcode_HD2 1EB', 'client_addresspostcode_HD2 1ED', 'client_addresspostcode_HD2 1EF', 'client_addresspostcode_HD2 1EH', 'client_addresspostcode_HD2 1EL', 'client_addresspostcode_HD2 1EN', 'client_addresspostcode_HD2 1EP', 'client_addresspostcode_HD2 1ER', 'client_addresspostcode_HD2 1ES', 'client_addresspostcode_HD2 1ET', 'client_addresspostcode_HD2 1EU', 'client_addresspostcode_HD2 1EW', 'client_addresspostcode_HD2 1EX', 'client_addresspostcode_HD2 1EY', 'client_addresspostcode_HD2 1FB', 'client_addresspostcode_HD2 1FP', 'client_addresspostcode_HD2 1FS', 'client_addresspostcode_HD2 1FT', 'client_addresspostcode_HD2 1FU', 'client_addresspostcode_HD2 1GD', 'client_addresspostcode_HD2 1GR', 'client_addresspostcode_HD2 1GS', 'client_addresspostcode_HD2 1GU', 'client_addresspostcode_HD2 1GY', 'client_addresspostcode_HD2 1GY ', 'client_addresspostcode_HD2 1HA', 'client_addresspostcode_HD2 1HB', 'client_addresspostcode_HD2 1HD', 'client_addresspostcode_HD2 1HD ', 'client_addresspostcode_HD2 1HE', 'client_addresspostcode_HD2 1HG', 'client_addresspostcode_HD2 1HH', 'client_addresspostcode_HD2 1HJ', 'client_addresspostcode_HD2 1HL', 'client_addresspostcode_HD2 1HN', 'client_addresspostcode_HD2 1HP', 'client_addresspostcode_HD2 1HQ', 'client_addresspostcode_HD2 1HR', 'client_addresspostcode_HD2 1HR ', 'client_addresspostcode_HD2 1HS', 'client_addresspostcode_HD2 1HT', 'client_addresspostcode_HD2 1HU', 'client_addresspostcode_HD2 1HW', 'client_addresspostcode_HD2 1HX', 'client_addresspostcode_HD2 1HY', 'client_addresspostcode_HD2 1HZ', 'client_addresspostcode_HD2 1JA', 'client_addresspostcode_HD2 1JE', 'client_addresspostcode_HD2 1JJ', 'client_addresspostcode_HD2 1JL', 'client_addresspostcode_HD2 1JN', 'client_addresspostcode_HD2 1JN ', 'client_addresspostcode_HD2 1JP', 'client_addresspostcode_HD2 1JS', 'client_addresspostcode_HD2 1JT', 'client_addresspostcode_HD2 1JU', 'client_addresspostcode_HD2 1JX', 'client_addresspostcode_HD2 1JY', 'client_addresspostcode_HD2 1JZ', 'client_addresspostcode_HD2 1LA', 'client_addresspostcode_HD2 1LB', 'client_addresspostcode_HD2 1LD', 'client_addresspostcode_HD2 1LE', 'client_addresspostcode_HD2 1LH', 'client_addresspostcode_HD2 1LM', 'client_addresspostcode_HD2 1LN', 'client_addresspostcode_HD2 1LR', 'client_addresspostcode_HD2 1LR ', 'client_addresspostcode_HD2 1LS', 'client_addresspostcode_HD2 1LT', 'client_addresspostcode_HD2 1LU', 'client_addresspostcode_HD2 1LU ', 'client_addresspostcode_HD2 1LV', 'client_addresspostcode_HD2 1LY', 'client_addresspostcode_HD2 1MA', 'client_addresspostcode_HD2 1NF', 'client_addresspostcode_HD2 1NG', 'client_addresspostcode_HD2 1NZ', 'client_addresspostcode_HD2 1PA', 'client_addresspostcode_HD2 1PB', 'client_addresspostcode_HD2 1PD', 'client_addresspostcode_HD2 1PH', 'client_addresspostcode_HD2 1PW', 'client_addresspostcode_HD2 1QP', 'client_addresspostcode_HD2 1QR', 'client_addresspostcode_HD2 1QS', 'client_addresspostcode_HD2 1QT', 'client_addresspostcode_HD2 1QU', 'client_addresspostcode_HD2 1QW', 'client_addresspostcode_HD2 1QY', 'client_addresspostcode_HD2 1R2', 'client_addresspostcode_HD2 1RB', 'client_addresspostcode_HD2 1RE', 'client_addresspostcode_HD2 1RL', 'client_addresspostcode_HD2 1RP', 'client_addresspostcode_HD2 1RU ', 'client_addresspostcode_HD2 1RW', 'client_addresspostcode_HD2 1RX', 'client_addresspostcode_HD2 1RY', 'client_addresspostcode_HD2 1SA', 'client_addresspostcode_HD2 1SB', 'client_addresspostcode_HD2 1SD', 'client_addresspostcode_HD2 1SE', 'client_addresspostcode_HD2 1SF', 'client_addresspostcode_HD2 1SN', 'client_addresspostcode_HD2 1SP', 'client_addresspostcode_HD2 1SQ', 'client_addresspostcode_HD2 1SR', 'client_addresspostcode_HD2 1SS', 'client_addresspostcode_HD2 1ST', 'client_addresspostcode_HD2 1SW', 'client_addresspostcode_HD2 1SY', 'client_addresspostcode_HD2 1SZ', 'client_addresspostcode_HD2 1TB', 'client_addresspostcode_HD2 1TE', 'client_addresspostcode_HD2 1TJ', 'client_addresspostcode_HD2 1TP', 'client_addresspostcode_HD2 1TS', 'client_addresspostcode_HD2 1TU', 'client_addresspostcode_HD2 1TV', 'client_addresspostcode_HD2 1TW', 'client_addresspostcode_HD2 1TW ', 'client_addresspostcode_HD2 1UB', 'client_addresspostcode_HD2 1UF', 'client_addresspostcode_HD2 1UG', 'client_addresspostcode_HD2 1UL', 'client_addresspostcode_HD2 1UP', 'client_addresspostcode_HD2 1UQ', 'client_addresspostcode_HD2 1US', 'client_addresspostcode_HD2 1UZ', 'client_addresspostcode_HD2 1XB', 'client_addresspostcode_HD2 1XD', 'client_addresspostcode_HD2 1XX', 'client_addresspostcode_HD2 1XY', 'client_addresspostcode_HD2 1XZ', 'client_addresspostcode_HD2 1YB', 'client_addresspostcode_HD2 1YS', 'client_addresspostcode_HD2 1YW', 'client_addresspostcode_HD2 1YY', 'client_addresspostcode_HD2 1YY ', 'client_addresspostcode_HD2 1ZA', 'client_addresspostcode_HD2 2 AR', 'client_addresspostcode_HD2 2 RZ', 'client_addresspostcode_HD2 25B', 'client_addresspostcode_HD2 2AR', 'client_addresspostcode_HD2 2AY', 'client_addresspostcode_HD2 2AY ', 'client_addresspostcode_HD2 2AZ', 'client_addresspostcode_HD2 2BA', 'client_addresspostcode_HD2 2BJ', 'client_addresspostcode_HD2 2BT', 'client_addresspostcode_HD2 2DT', 'client_addresspostcode_HD2 2FB', 'client_addresspostcode_HD2 2FL', 'client_addresspostcode_HD2 2FP', 'client_addresspostcode_HD2 2FR', 'client_addresspostcode_HD2 2FW', 'client_addresspostcode_HD2 2HS', 'client_addresspostcode_HD2 2JN ', 'client_addresspostcode_HD2 2JR', 'client_addresspostcode_HD2 2LL', 'client_addresspostcode_HD2 2LR', 'client_addresspostcode_HD2 2LX', 'client_addresspostcode_HD2 2NQ', 'client_addresspostcode_HD2 2NY', 'client_addresspostcode_HD2 2NZ', 'client_addresspostcode_HD2 2NZ ', 'client_addresspostcode_HD2 2PA', 'client_addresspostcode_HD2 2PB', 'client_addresspostcode_HD2 2PD', 'client_addresspostcode_HD2 2PD ', 'client_addresspostcode_HD2 2PE', 'client_addresspostcode_HD2 2PH', 'client_addresspostcode_HD2 2PL', 'client_addresspostcode_HD2 2PP', 'client_addresspostcode_HD2 2PR', 'client_addresspostcode_HD2 2PS', 'client_addresspostcode_HD2 2PW', 'client_addresspostcode_HD2 2QA', 'client_addresspostcode_HD2 2QB', 'client_addresspostcode_HD2 2QD', 'client_addresspostcode_HD2 2QE', 'client_addresspostcode_HD2 2QF', 'client_addresspostcode_HD2 2QG', 'client_addresspostcode_HD2 2QP', 'client_addresspostcode_HD2 2QQ', 'client_addresspostcode_HD2 2QY', 'client_addresspostcode_HD2 2RA', 'client_addresspostcode_HD2 2RE', 'client_addresspostcode_HD2 2RF', 'client_addresspostcode_HD2 2RL', 'client_addresspostcode_HD2 2RR', 'client_addresspostcode_HD2 2RS', 'client_addresspostcode_HD2 2RT', 'client_addresspostcode_HD2 2RU', 'client_addresspostcode_HD2 2RU ', 'client_addresspostcode_HD2 2RW', 'client_addresspostcode_HD2 2RX', 'client_addresspostcode_HD2 2RZ', 'client_addresspostcode_HD2 2SB', 'client_addresspostcode_HD2 2SB ', 'client_addresspostcode_HD2 2SE', 'client_addresspostcode_HD2 2SG', 'client_addresspostcode_HD2 2SH', 'client_addresspostcode_HD2 2SL', 'client_addresspostcode_HD2 2SP', 'client_addresspostcode_HD2 2SX', 'client_addresspostcode_HD2 2TB', 'client_addresspostcode_HD2 2TD', 'client_addresspostcode_HD2 2TF', 'client_addresspostcode_HD2 2TL', 'client_addresspostcode_HD2 2TL ', 'client_addresspostcode_HD2 2TS', 'client_addresspostcode_HD2 2TT', 'client_addresspostcode_HD2 2TX', 'client_addresspostcode_HD2 2TZ', 'client_addresspostcode_HD2 2UB', 'client_addresspostcode_HD2 2UD', 'client_addresspostcode_HD2 2UE', 'client_addresspostcode_HD2 2UG', 'client_addresspostcode_HD2 2UJ', 'client_addresspostcode_HD2 2UJ ', 'client_addresspostcode_HD2 2US', 'client_addresspostcode_HD2 2UU', 'client_addresspostcode_HD2 2UW', 'client_addresspostcode_HD2 2UZ', 'client_addresspostcode_HD2 2XD', 'client_addresspostcode_HD2 2XN', 'client_addresspostcode_HD2 2XP', 'client_addresspostcode_HD2 2XP ', 'client_addresspostcode_HD2 2XR', 'client_addresspostcode_HD2 2XU', 'client_addresspostcode_HD2 2XY', 'client_addresspostcode_HD2 2YD', 'client_addresspostcode_HD2 2YE', 'client_addresspostcode_HD2 2YG', 'client_addresspostcode_HD2 3JL', 'client_addresspostcode_HD2 4UT', 'client_addresspostcode_HD2 5BS', 'client_addresspostcode_HD2 7AR', 'client_addresspostcode_HD2 ZN2', 'client_addresspostcode_HD21 1HT ', 'client_addresspostcode_HD21AE', 'client_addresspostcode_HD21AJ', 'client_addresspostcode_HD21AP', 'client_addresspostcode_HD21AR', 'client_addresspostcode_HD21BA', 'client_addresspostcode_HD21BW', 'client_addresspostcode_HD21DZ', 'client_addresspostcode_HD21ES', 'client_addresspostcode_HD21EU', 'client_addresspostcode_HD21GU', 'client_addresspostcode_HD21HR', 'client_addresspostcode_HD21HT', 'client_addresspostcode_HD21HU', 'client_addresspostcode_HD21HY', 'client_addresspostcode_HD21HZ', 'client_addresspostcode_HD21JJ', 'client_addresspostcode_HD21JN', 'client_addresspostcode_HD21JX', 'client_addresspostcode_HD21JZ', 'client_addresspostcode_HD21LT', 'client_addresspostcode_HD21PD', 'client_addresspostcode_HD21RW', 'client_addresspostcode_HD21SP', 'client_addresspostcode_HD21UG', 'client_addresspostcode_HD21YB', 'client_addresspostcode_HD22AF', 'client_addresspostcode_HD22PB', 'client_addresspostcode_HD22QD', 'client_addresspostcode_HD22QN', 'client_addresspostcode_HD22SB', 'client_addresspostcode_HD22UE', 'client_addresspostcode_HD22YG', 'client_addresspostcode_HD3', 'client_addresspostcode_HD3 1DW', 'client_addresspostcode_HD3 3 LF', 'client_addresspostcode_HD3 3AF', 'client_addresspostcode_HD3 3AP', 'client_addresspostcode_HD3 3BB', 'client_addresspostcode_HD3 3BE', 'client_addresspostcode_HD3 3BR', 'client_addresspostcode_HD3 3BZ', 'client_addresspostcode_HD3 3DH', 'client_addresspostcode_HD3 3DU', 'client_addresspostcode_HD3 3EH', 'client_addresspostcode_HD3 3EN', 'client_addresspostcode_HD3 3EP', 'client_addresspostcode_HD3 3ER', 'client_addresspostcode_HD3 3EW', 'client_addresspostcode_HD3 3EY', 'client_addresspostcode_HD3 3EZ', 'client_addresspostcode_HD3 3GU', 'client_addresspostcode_HD3 3GY', 'client_addresspostcode_HD3 3HA', 'client_addresspostcode_HD3 3HB', 'client_addresspostcode_HD3 3HL', 'client_addresspostcode_HD3 3HR', 'client_addresspostcode_HD3 3HT', 'client_addresspostcode_HD3 3HU', 'client_addresspostcode_HD3 3JJ', 'client_addresspostcode_HD3 3JJ ', 'client_addresspostcode_HD3 3JL', 'client_addresspostcode_HD3 3JN', 'client_addresspostcode_HD3 3JP', 'client_addresspostcode_HD3 3JQ', 'client_addresspostcode_HD3 3JR', 'client_addresspostcode_HD3 3JT', 'client_addresspostcode_HD3 3JU', 'client_addresspostcode_HD3 3JW', 'client_addresspostcode_HD3 3JX', 'client_addresspostcode_HD3 3LF', 'client_addresspostcode_HD3 3LS', 'client_addresspostcode_HD3 3LU', 'client_addresspostcode_HD3 3LX', 'client_addresspostcode_HD3 3PJ', 'client_addresspostcode_HD3 3PU', 'client_addresspostcode_HD3 3QA', 'client_addresspostcode_HD3 3QL', 'client_addresspostcode_HD3 3QN', 'client_addresspostcode_HD3 3QT', 'client_addresspostcode_HD3 3QU', 'client_addresspostcode_HD3 3QW', 'client_addresspostcode_HD3 3QZ', 'client_addresspostcode_HD3 3RL', 'client_addresspostcode_HD3 3SN', 'client_addresspostcode_HD3 3SZ ', 'client_addresspostcode_HD3 3TP', 'client_addresspostcode_HD3 3TR', 'client_addresspostcode_HD3 3TS', 'client_addresspostcode_HD3 3TT', 'client_addresspostcode_HD3 3TU', 'client_addresspostcode_HD3 3TX', 'client_addresspostcode_HD3 3WF', 'client_addresspostcode_HD3 3XB', 'client_addresspostcode_HD3 3XD', 'client_addresspostcode_HD3 3XE', 'client_addresspostcode_HD3 3XL', 'client_addresspostcode_HD3 3XP', 'client_addresspostcode_HD3 3XY', 'client_addresspostcode_HD3 3YG', 'client_addresspostcode_HD3 3YL', 'client_addresspostcode_HD3 3YN', 'client_addresspostcode_HD3 3ZQ', 'client_addresspostcode_HD3 4 EU', 'client_addresspostcode_HD3 4 HF', 'client_addresspostcode_HD3 4 YB', 'client_addresspostcode_HD3 4AA', 'client_addresspostcode_HD3 4AE', 'client_addresspostcode_HD3 4AH', 'client_addresspostcode_HD3 4AN', 'client_addresspostcode_HD3 4AR', 'client_addresspostcode_HD3 4AT', 'client_addresspostcode_HD3 4AU', 'client_addresspostcode_HD3 4AZ', 'client_addresspostcode_HD3 4BA ', 'client_addresspostcode_HD3 4BB', 'client_addresspostcode_HD3 4BD', 'client_addresspostcode_HD3 4BS', 'client_addresspostcode_HD3 4BU', 'client_addresspostcode_HD3 4DB', 'client_addresspostcode_HD3 4DN', 'client_addresspostcode_HD3 4DR', 'client_addresspostcode_HD3 4DT ', 'client_addresspostcode_HD3 4DU', 'client_addresspostcode_HD3 4DY', 'client_addresspostcode_HD3 4EA', 'client_addresspostcode_HD3 4EB', 'client_addresspostcode_HD3 4EB ', 'client_addresspostcode_HD3 4ED', 'client_addresspostcode_HD3 4ED ', 'client_addresspostcode_HD3 4EE', 'client_addresspostcode_HD3 4EH', 'client_addresspostcode_HD3 4EH ', 'client_addresspostcode_HD3 4EJ', 'client_addresspostcode_HD3 4EL', 'client_addresspostcode_HD3 4EN', 'client_addresspostcode_HD3 4EP', 'client_addresspostcode_HD3 4EP ', 'client_addresspostcode_HD3 4ER', 'client_addresspostcode_HD3 4EU', 'client_addresspostcode_HD3 4EY', 'client_addresspostcode_HD3 4EZ', 'client_addresspostcode_HD3 4FP', 'client_addresspostcode_HD3 4FT', 'client_addresspostcode_HD3 4FU', 'client_addresspostcode_HD3 4GD', 'client_addresspostcode_HD3 4GZ', 'client_addresspostcode_HD3 4HA', 'client_addresspostcode_HD3 4HB', 'client_addresspostcode_HD3 4HD', 'client_addresspostcode_HD3 4HJ', 'client_addresspostcode_HD3 4HQ', 'client_addresspostcode_HD3 4HT', 'client_addresspostcode_HD3 4HZ', 'client_addresspostcode_HD3 4JA', 'client_addresspostcode_HD3 4JD', 'client_addresspostcode_HD3 4JN', 'client_addresspostcode_HD3 4JP', 'client_addresspostcode_HD3 4JS', 'client_addresspostcode_HD3 4JT', 'client_addresspostcode_HD3 4LE', 'client_addresspostcode_HD3 4LG', 'client_addresspostcode_HD3 4LN', 'client_addresspostcode_HD3 4LQ', 'client_addresspostcode_HD3 4LR', 'client_addresspostcode_HD3 4LS', 'client_addresspostcode_HD3 4LS ', 'client_addresspostcode_HD3 4LT', 'client_addresspostcode_HD3 4LT ', 'client_addresspostcode_HD3 4LW', 'client_addresspostcode_HD3 4LZ', 'client_addresspostcode_HD3 4MF', 'client_addresspostcode_HD3 4NF', 'client_addresspostcode_HD3 4NH', 'client_addresspostcode_HD3 4NH ', 'client_addresspostcode_HD3 4NJ', 'client_addresspostcode_HD3 4NJ ', 'client_addresspostcode_HD3 4NQ', 'client_addresspostcode_HD3 4NZ', 'client_addresspostcode_HD3 4PH', 'client_addresspostcode_HD3 4PL', 'client_addresspostcode_HD3 4PP', 'client_addresspostcode_HD3 4PS', 'client_addresspostcode_HD3 4PX', 'client_addresspostcode_HD3 4QJ', 'client_addresspostcode_HD3 4QP', 'client_addresspostcode_HD3 4QQ', 'client_addresspostcode_HD3 4QT', 'client_addresspostcode_HD3 4QX', 'client_addresspostcode_HD3 4QY', 'client_addresspostcode_HD3 4RB', 'client_addresspostcode_HD3 4RD ', 'client_addresspostcode_HD3 4RG', 'client_addresspostcode_HD3 4RJ', 'client_addresspostcode_HD3 4RL', 'client_addresspostcode_HD3 4RN', 'client_addresspostcode_HD3 4RP', 'client_addresspostcode_HD3 4RR', 'client_addresspostcode_HD3 4RS', 'client_addresspostcode_HD3 4RS ', 'client_addresspostcode_HD3 4RU', 'client_addresspostcode_HD3 4RW', 'client_addresspostcode_HD3 4RW ', 'client_addresspostcode_HD3 4RY', 'client_addresspostcode_HD3 4RZ', 'client_addresspostcode_HD3 4SA', 'client_addresspostcode_HD3 4SB', 'client_addresspostcode_HD3 4SB ', 'client_addresspostcode_HD3 4SD', 'client_addresspostcode_HD3 4SF', 'client_addresspostcode_HD3 4SG', 'client_addresspostcode_HD3 4SH', 'client_addresspostcode_HD3 4SN ', 'client_addresspostcode_HD3 4SP', 'client_addresspostcode_HD3 4SQ', 'client_addresspostcode_HD3 4SQ ', 'client_addresspostcode_HD3 4SS', 'client_addresspostcode_HD3 4ST', 'client_addresspostcode_HD3 4SW', 'client_addresspostcode_HD3 4SY', 'client_addresspostcode_HD3 4TB', 'client_addresspostcode_HD3 4TG', 'client_addresspostcode_HD3 4TQ', 'client_addresspostcode_HD3 4UB', 'client_addresspostcode_HD3 4UL', 'client_addresspostcode_HD3 4UP', 'client_addresspostcode_HD3 4US', 'client_addresspostcode_HD3 4UU', 'client_addresspostcode_HD3 4UZ', 'client_addresspostcode_HD3 4XA', 'client_addresspostcode_HD3 4XA ', 'client_addresspostcode_HD3 4XB', 'client_addresspostcode_HD3 4XD', 'client_addresspostcode_HD3 4XE ', 'client_addresspostcode_HD3 4XG', 'client_addresspostcode_HD3 4XW', 'client_addresspostcode_HD3 4YB', 'client_addresspostcode_HD3 4YG', 'client_addresspostcode_HD3 4YJ', 'client_addresspostcode_HD3 4YL', 'client_addresspostcode_HD3 4YU', 'client_addresspostcode_HD3 4ZW', 'client_addresspostcode_HD3 5HZ', 'client_addresspostcode_HD3 5QN', 'client_addresspostcode_HD3 5TY', 'client_addresspostcode_HD3 NR', 'client_addresspostcode_HD3 RBZ', 'client_addresspostcode_HD33BX', 'client_addresspostcode_HD33EH', 'client_addresspostcode_HD33EN', 'client_addresspostcode_HD33EQ', 'client_addresspostcode_HD34AF', 'client_addresspostcode_HD34AT', 'client_addresspostcode_HD34DZ', 'client_addresspostcode_HD34ED', 'client_addresspostcode_HD34FL', 'client_addresspostcode_HD34LS', 'client_addresspostcode_HD34PZ', 'client_addresspostcode_HD34QQ', 'client_addresspostcode_HD34RP', 'client_addresspostcode_HD34RZ', 'client_addresspostcode_HD34SQ', 'client_addresspostcode_HD34XX', 'client_addresspostcode_HD4', 'client_addresspostcode_HD4 ', 'client_addresspostcode_HD4  5HD', 'client_addresspostcode_HD4  5HF', 'client_addresspostcode_HD4  5RL', 'client_addresspostcode_HD4 &LX', 'client_addresspostcode_HD4 3BL', 'client_addresspostcode_HD4 3PP', 'client_addresspostcode_HD4 3ST', 'client_addresspostcode_HD4 4AJ', 'client_addresspostcode_HD4 4DW', 'client_addresspostcode_HD4 4EW', 'client_addresspostcode_HD4 4SN', 'client_addresspostcode_HD4 4UL', 'client_addresspostcode_HD4 5 HF', 'client_addresspostcode_HD4 5 HG', 'client_addresspostcode_HD4 5 SU', 'client_addresspostcode_HD4 5AA', 'client_addresspostcode_HD4 5AD', 'client_addresspostcode_HD4 5AG', 'client_addresspostcode_HD4 5AP', 'client_addresspostcode_HD4 5AQ', 'client_addresspostcode_HD4 5AR', 'client_addresspostcode_HD4 5AS', 'client_addresspostcode_HD4 5AT', 'client_addresspostcode_HD4 5AU', 'client_addresspostcode_HD4 5AU ', 'client_addresspostcode_HD4 5AX', 'client_addresspostcode_HD4 5AY', 'client_addresspostcode_HD4 5BB', 'client_addresspostcode_HD4 5BD', 'client_addresspostcode_HD4 5BH', 'client_addresspostcode_HD4 5BQ', 'client_addresspostcode_HD4 5BR', 'client_addresspostcode_HD4 5BU', 'client_addresspostcode_HD4 5DF', 'client_addresspostcode_HD4 5DG', 'client_addresspostcode_HD4 5DH', 'client_addresspostcode_HD4 5DJ', 'client_addresspostcode_HD4 5DN', 'client_addresspostcode_HD4 5DQ', 'client_addresspostcode_HD4 5DR', 'client_addresspostcode_HD4 5DS', 'client_addresspostcode_HD4 5DT', 'client_addresspostcode_HD4 5DW', 'client_addresspostcode_HD4 5DX', 'client_addresspostcode_HD4 5DZ', 'client_addresspostcode_HD4 5EA', 'client_addresspostcode_HD4 5EB', 'client_addresspostcode_HD4 5ED', 'client_addresspostcode_HD4 5EN', 'client_addresspostcode_HD4 5ES', 'client_addresspostcode_HD4 5ET', 'client_addresspostcode_HD4 5ET ', 'client_addresspostcode_HD4 5EU', 'client_addresspostcode_HD4 5EW', 'client_addresspostcode_HD4 5EX', 'client_addresspostcode_HD4 5EY', 'client_addresspostcode_HD4 5EZ', 'client_addresspostcode_HD4 5EZ ', 'client_addresspostcode_HD4 5FJ', 'client_addresspostcode_HD4 5GQ', 'client_addresspostcode_HD4 5HA', 'client_addresspostcode_HD4 5HB', 'client_addresspostcode_HD4 5HD', 'client_addresspostcode_HD4 5HE', 'client_addresspostcode_HD4 5HF', 'client_addresspostcode_HD4 5HG', 'client_addresspostcode_HD4 5HH', 'client_addresspostcode_HD4 5HN', 'client_addresspostcode_HD4 5HQ', 'client_addresspostcode_HD4 5HS', 'client_addresspostcode_HD4 5HT', 'client_addresspostcode_HD4 5HY', 'client_addresspostcode_HD4 5HZ', 'client_addresspostcode_HD4 5JD', 'client_addresspostcode_HD4 5JJ', 'client_addresspostcode_HD4 5JL', 'client_addresspostcode_HD4 5JR', 'client_addresspostcode_HD4 5LD', 'client_addresspostcode_HD4 5LG', 'client_addresspostcode_HD4 5LG ', 'client_addresspostcode_HD4 5LH', 'client_addresspostcode_HD4 5LJ', 'client_addresspostcode_HD4 5LL', 'client_addresspostcode_HD4 5LQ', 'client_addresspostcode_HD4 5LR', 'client_addresspostcode_HD4 5LS', 'client_addresspostcode_HD4 5LT', 'client_addresspostcode_HD4 5LU', 'client_addresspostcode_HD4 5LX', 'client_addresspostcode_HD4 5NA', 'client_addresspostcode_HD4 5NH', 'client_addresspostcode_HD4 5NN', 'client_addresspostcode_HD4 5NP', 'client_addresspostcode_HD4 5NX', 'client_addresspostcode_HD4 5NZ', 'client_addresspostcode_HD4 5OZ', 'client_addresspostcode_HD4 5PH', 'client_addresspostcode_HD4 5PR', 'client_addresspostcode_HD4 5PY', 'client_addresspostcode_HD4 5PZ', 'client_addresspostcode_HD4 5QA', 'client_addresspostcode_HD4 5QP', 'client_addresspostcode_HD4 5QU', 'client_addresspostcode_HD4 5QZ', 'client_addresspostcode_HD4 5RA', 'client_addresspostcode_HD4 5RB', 'client_addresspostcode_HD4 5RD', 'client_addresspostcode_HD4 5RE', 'client_addresspostcode_HD4 5RL', 'client_addresspostcode_HD4 5RL ', 'client_addresspostcode_HD4 5RP', 'client_addresspostcode_HD4 5RP ', 'client_addresspostcode_HD4 5RR', 'client_addresspostcode_HD4 5RS', 'client_addresspostcode_HD4 5RT', 'client_addresspostcode_HD4 5RW', 'client_addresspostcode_HD4 5RW ', 'client_addresspostcode_HD4 5SE', 'client_addresspostcode_HD4 5SF', 'client_addresspostcode_HD4 5SG', 'client_addresspostcode_HD4 5SH', 'client_addresspostcode_HD4 5SN', 'client_addresspostcode_HD4 5SP', 'client_addresspostcode_HD4 5SR', 'client_addresspostcode_HD4 5SU', 'client_addresspostcode_HD4 5SW', 'client_addresspostcode_HD4 5SX', 'client_addresspostcode_HD4 5TA', 'client_addresspostcode_HD4 5TB', 'client_addresspostcode_HD4 5TE', 'client_addresspostcode_HD4 5TG', 'client_addresspostcode_HD4 5TY', 'client_addresspostcode_HD4 5UE', 'client_addresspostcode_HD4 5UH', 'client_addresspostcode_HD4 5UL', 'client_addresspostcode_HD4 5UN', 'client_addresspostcode_HD4 5UN ', 'client_addresspostcode_HD4 5UP', 'client_addresspostcode_HD4 5UR', 'client_addresspostcode_HD4 5US', 'client_addresspostcode_HD4 5UW', 'client_addresspostcode_HD4 5XD', 'client_addresspostcode_HD4 5XE', 'client_addresspostcode_HD4 6 PL ', 'client_addresspostcode_HD4 6AB', 'client_addresspostcode_HD4 6AD', 'client_addresspostcode_HD4 6AE', 'client_addresspostcode_HD4 6AF', 'client_addresspostcode_HD4 6AG', 'client_addresspostcode_HD4 6AJ', 'client_addresspostcode_HD4 6AL', 'client_addresspostcode_HD4 6AN', 'client_addresspostcode_HD4 6AP', 'client_addresspostcode_HD4 6AS', 'client_addresspostcode_HD4 6AU', 'client_addresspostcode_HD4 6AW', 'client_addresspostcode_HD4 6BD', 'client_addresspostcode_HD4 6BL', 'client_addresspostcode_HD4 6BN', 'client_addresspostcode_HD4 6BZ', 'client_addresspostcode_HD4 6CJ', 'client_addresspostcode_HD4 6DB', 'client_addresspostcode_HD4 6DD', 'client_addresspostcode_HD4 6DG', 'client_addresspostcode_HD4 6DH', 'client_addresspostcode_HD4 6DJ', 'client_addresspostcode_HD4 6DL', 'client_addresspostcode_HD4 6DN', 'client_addresspostcode_HD4 6DP', 'client_addresspostcode_HD4 6DR', 'client_addresspostcode_HD4 6DS', 'client_addresspostcode_HD4 6DT', 'client_addresspostcode_HD4 6DU', 'client_addresspostcode_HD4 6DW', 'client_addresspostcode_HD4 6DY', 'client_addresspostcode_HD4 6DZ', 'client_addresspostcode_HD4 6EA', 'client_addresspostcode_HD4 6EB', 'client_addresspostcode_HD4 6ED', 'client_addresspostcode_HD4 6EL', 'client_addresspostcode_HD4 6EP', 'client_addresspostcode_HD4 6EW', 'client_addresspostcode_HD4 6FF', 'client_addresspostcode_HD4 6HA', 'client_addresspostcode_HD4 6HJ', 'client_addresspostcode_HD4 6HN', 'client_addresspostcode_HD4 6HP', 'client_addresspostcode_HD4 6HS', 'client_addresspostcode_HD4 6JD', 'client_addresspostcode_HD4 6JF', 'client_addresspostcode_HD4 6JJ', 'client_addresspostcode_HD4 6JJ ', 'client_addresspostcode_HD4 6JN', 'client_addresspostcode_HD4 6JP', 'client_addresspostcode_HD4 6JQ', 'client_addresspostcode_HD4 6JR', 'client_addresspostcode_HD4 6JS', 'client_addresspostcode_HD4 6JS ', 'client_addresspostcode_HD4 6JW', 'client_addresspostcode_HD4 6JW ', 'client_addresspostcode_HD4 6JZ', 'client_addresspostcode_HD4 6LA', 'client_addresspostcode_HD4 6LB', 'client_addresspostcode_HD4 6LD', 'client_addresspostcode_HD4 6LE ', 'client_addresspostcode_HD4 6LH', 'client_addresspostcode_HD4 6LJ', 'client_addresspostcode_HD4 6LL', 'client_addresspostcode_HD4 6LN', 'client_addresspostcode_HD4 6LP', 'client_addresspostcode_HD4 6LT', 'client_addresspostcode_HD4 6LW', 'client_addresspostcode_HD4 6LW ', 'client_addresspostcode_HD4 6NA', 'client_addresspostcode_HD4 6NB', 'client_addresspostcode_HD4 6NE', 'client_addresspostcode_HD4 6NF', 'client_addresspostcode_HD4 6NH', 'client_addresspostcode_HD4 6NJ', 'client_addresspostcode_HD4 6NL', 'client_addresspostcode_HD4 6NN', 'client_addresspostcode_HD4 6NP', 'client_addresspostcode_HD4 6NP ', 'client_addresspostcode_HD4 6NQ', 'client_addresspostcode_HD4 6NQ ', 'client_addresspostcode_HD4 6NR', 'client_addresspostcode_HD4 6NT', 'client_addresspostcode_HD4 6NW', 'client_addresspostcode_HD4 6PA', 'client_addresspostcode_HD4 6PD', 'client_addresspostcode_HD4 6PH', 'client_addresspostcode_HD4 6PJ', 'client_addresspostcode_HD4 6PL', 'client_addresspostcode_HD4 6PN', 'client_addresspostcode_HD4 6PP', 'client_addresspostcode_HD4 6PW', 'client_addresspostcode_HD4 6PX', 'client_addresspostcode_HD4 6PY', 'client_addresspostcode_HD4 6PZ', 'client_addresspostcode_HD4 6QA', 'client_addresspostcode_HD4 6QB', 'client_addresspostcode_HD4 6QD', 'client_addresspostcode_HD4 6QE', 'client_addresspostcode_HD4 6QJ', 'client_addresspostcode_HD4 6QN', 'client_addresspostcode_HD4 6QZ', 'client_addresspostcode_HD4 6TD', 'client_addresspostcode_HD4 6TL', 'client_addresspostcode_HD4 6TZ', 'client_addresspostcode_HD4 6XH', 'client_addresspostcode_HD4 6XJ', 'client_addresspostcode_HD4 6YJ', 'client_addresspostcode_HD4 7 NH', 'client_addresspostcode_HD4 72J', 'client_addresspostcode_HD4 7BQ', 'client_addresspostcode_HD4 7BZ', 'client_addresspostcode_HD4 7EE', 'client_addresspostcode_HD4 7EH', 'client_addresspostcode_HD4 7ET', 'client_addresspostcode_HD4 7ET ', 'client_addresspostcode_HD4 7EU', 'client_addresspostcode_HD4 7EX', 'client_addresspostcode_HD4 7EZ', 'client_addresspostcode_HD4 7HB', 'client_addresspostcode_HD4 7HD', 'client_addresspostcode_HD4 7HF', 'client_addresspostcode_HD4 7HJ', 'client_addresspostcode_HD4 7HN', 'client_addresspostcode_HD4 7HP', 'client_addresspostcode_HD4 7HS', 'client_addresspostcode_HD4 7JA', 'client_addresspostcode_HD4 7LF', 'client_addresspostcode_HD4 7LR', 'client_addresspostcode_HD4 7LU', 'client_addresspostcode_HD4 7LX', 'client_addresspostcode_HD4 7LX ', 'client_addresspostcode_HD4 7LY', 'client_addresspostcode_HD4 7LZ', 'client_addresspostcode_HD4 7MH', 'client_addresspostcode_HD4 7MJ', 'client_addresspostcode_HD4 7NH', 'client_addresspostcode_HD4 7NH ', 'client_addresspostcode_HD4 7NJ', 'client_addresspostcode_HD4 7NJ ', 'client_addresspostcode_HD4 7NQ', 'client_addresspostcode_HD4 7NS', 'client_addresspostcode_HD4 7NT', 'client_addresspostcode_HD4 7NU', 'client_addresspostcode_HD4 7PH', 'client_addresspostcode_HD4 7PH ', 'client_addresspostcode_HD4 7PS', 'client_addresspostcode_HD4 7PU', 'client_addresspostcode_HD4 7PW', 'client_addresspostcode_HD4 7PX', 'client_addresspostcode_HD4 7PY', 'client_addresspostcode_HD4 7PZ', 'client_addresspostcode_HD4 7P{Z', 'client_addresspostcode_HD4 7QJ', 'client_addresspostcode_HD4 7QS', 'client_addresspostcode_HD4 7QT', 'client_addresspostcode_HD4 7TH', 'client_addresspostcode_HD4 7WA', 'client_addresspostcode_HD4 7WB', 'client_addresspostcode_HD4 7WD', 'client_addresspostcode_HD4 7WE', 'client_addresspostcode_HD4 7WF', 'client_addresspostcode_HD4 7WG', 'client_addresspostcode_HD4 7WH', 'client_addresspostcode_HD4 7WJ', 'client_addresspostcode_HD4 7WL', 'client_addresspostcode_HD4 7WN', 'client_addresspostcode_HD4 7WP', 'client_addresspostcode_HD4 7WQ', 'client_addresspostcode_HD4 7WW', 'client_addresspostcode_HD4 8LD', 'client_addresspostcode_HD4 9PZ', 'client_addresspostcode_HD4 9TY', 'client_addresspostcode_HD45AQ', 'client_addresspostcode_HD45BD', 'client_addresspostcode_HD45BR', 'client_addresspostcode_HD45DR', 'client_addresspostcode_HD45DX', 'client_addresspostcode_HD45EB', 'client_addresspostcode_HD45ET', 'client_addresspostcode_HD45EU', 'client_addresspostcode_HD45HD', 'client_addresspostcode_HD45HE', 'client_addresspostcode_HD45HN', 'client_addresspostcode_HD45NF', 'client_addresspostcode_HD45RA', 'client_addresspostcode_HD45SG', 'client_addresspostcode_HD45UR', 'client_addresspostcode_HD46EB', 'client_addresspostcode_HD46HJ', 'client_addresspostcode_HD46HN', 'client_addresspostcode_HD46JS', 'client_addresspostcode_HD46LB', 'client_addresspostcode_HD46LD', 'client_addresspostcode_HD46LL', 'client_addresspostcode_HD46NS', 'client_addresspostcode_HD46QB', 'client_addresspostcode_HD47NH', 'client_addresspostcode_HD47NJ', 'client_addresspostcode_HD47PH', 'client_addresspostcode_HD47PY', 'client_addresspostcode_HD47PZ', 'client_addresspostcode_HD47QJ', 'client_addresspostcode_HD47WE', 'client_addresspostcode_HD47WF', 'client_addresspostcode_HD47WP', 'client_addresspostcode_HD5', 'client_addresspostcode_HD5 ', 'client_addresspostcode_HD5  9QU', 'client_addresspostcode_HD5 (DB', 'client_addresspostcode_HD5 0AN', 'client_addresspostcode_HD5 0DB', 'client_addresspostcode_HD5 0DT', 'client_addresspostcode_HD5 0EQ', 'client_addresspostcode_HD5 0HW', 'client_addresspostcode_HD5 0JU', 'client_addresspostcode_HD5 0LH', 'client_addresspostcode_HD5 0LL', 'client_addresspostcode_HD5 0LR', 'client_addresspostcode_HD5 0LU', 'client_addresspostcode_HD5 0ND', 'client_addresspostcode_HD5 0NL', 'client_addresspostcode_HD5 0PF', 'client_addresspostcode_HD5 0PL', 'client_addresspostcode_HD5 0PS', 'client_addresspostcode_HD5 0PW', 'client_addresspostcode_HD5 0QX', 'client_addresspostcode_HD5 0RE', 'client_addresspostcode_HD5 0RH', 'client_addresspostcode_HD5 0RJ', 'client_addresspostcode_HD5 0RR', 'client_addresspostcode_HD5 1PP', 'client_addresspostcode_HD5 2HT', 'client_addresspostcode_HD5 4AA', 'client_addresspostcode_HD5 5BP', 'client_addresspostcode_HD5 5DW', 'client_addresspostcode_HD5 5EB', 'client_addresspostcode_HD5 5ES', 'client_addresspostcode_HD5 5HD', 'client_addresspostcode_HD5 5NL', 'client_addresspostcode_HD5 5NR', 'client_addresspostcode_HD5 5PP', 'client_addresspostcode_HD5 5QA', 'client_addresspostcode_HD5 5XT', 'client_addresspostcode_HD5 6HY', 'client_addresspostcode_HD5 8 AD', 'client_addresspostcode_HD5 8 PN', 'client_addresspostcode_HD5 8AE', 'client_addresspostcode_HD5 8AF', 'client_addresspostcode_HD5 8AG', 'client_addresspostcode_HD5 8AT', 'client_addresspostcode_HD5 8AU', 'client_addresspostcode_HD5 8AX', 'client_addresspostcode_HD5 8AY', 'client_addresspostcode_HD5 8BA', 'client_addresspostcode_HD5 8BD', 'client_addresspostcode_HD5 8BE', 'client_addresspostcode_HD5 8BL', 'client_addresspostcode_HD5 8BN', 'client_addresspostcode_HD5 8DF', 'client_addresspostcode_HD5 8DH', 'client_addresspostcode_HD5 8DJ', 'client_addresspostcode_HD5 8DP', 'client_addresspostcode_HD5 8DR', 'client_addresspostcode_HD5 8DS', 'client_addresspostcode_HD5 8EJ', 'client_addresspostcode_HD5 8EX', 'client_addresspostcode_HD5 8FF', 'client_addresspostcode_HD5 8GH', 'client_addresspostcode_HD5 8GQ', 'client_addresspostcode_HD5 8HA', 'client_addresspostcode_HD5 8HB', 'client_addresspostcode_HD5 8HD', 'client_addresspostcode_HD5 8HF', 'client_addresspostcode_HD5 8HG', 'client_addresspostcode_HD5 8HP', 'client_addresspostcode_HD5 8HX', 'client_addresspostcode_HD5 8HY', 'client_addresspostcode_HD5 8HZ', 'client_addresspostcode_HD5 8JJ', 'client_addresspostcode_HD5 8JN', 'client_addresspostcode_HD5 8JT', 'client_addresspostcode_HD5 8JX', 'client_addresspostcode_HD5 8JZ', 'client_addresspostcode_HD5 8LB', 'client_addresspostcode_HD5 8LD', 'client_addresspostcode_HD5 8LE', 'client_addresspostcode_HD5 8LF', 'client_addresspostcode_HD5 8LP', 'client_addresspostcode_HD5 8LQ', 'client_addresspostcode_HD5 8NA', 'client_addresspostcode_HD5 8NB', 'client_addresspostcode_HD5 8ND', 'client_addresspostcode_HD5 8NF', 'client_addresspostcode_HD5 8NP', 'client_addresspostcode_HD5 8NR', 'client_addresspostcode_HD5 8NU', 'client_addresspostcode_HD5 8NW', 'client_addresspostcode_HD5 8NX', 'client_addresspostcode_HD5 8PB', 'client_addresspostcode_HD5 8PD', 'client_addresspostcode_HD5 8PE', 'client_addresspostcode_HD5 8PF', 'client_addresspostcode_HD5 8PH', 'client_addresspostcode_HD5 8PJ', 'client_addresspostcode_HD5 8PJ ', 'client_addresspostcode_HD5 8PL', 'client_addresspostcode_HD5 8PN', 'client_addresspostcode_HD5 8PN ', 'client_addresspostcode_HD5 8PP', 'client_addresspostcode_HD5 8PS', 'client_addresspostcode_HD5 8PU', 'client_addresspostcode_HD5 8PW', 'client_addresspostcode_HD5 8PZ', 'client_addresspostcode_HD5 8QA', 'client_addresspostcode_HD5 8QB', 'client_addresspostcode_HD5 8QD', 'client_addresspostcode_HD5 8QE', 'client_addresspostcode_HD5 8QF', 'client_addresspostcode_HD5 8QL', 'client_addresspostcode_HD5 8QS', 'client_addresspostcode_HD5 8QT', 'client_addresspostcode_HD5 8QX', 'client_addresspostcode_HD5 8QZ', 'client_addresspostcode_HD5 8RJ', 'client_addresspostcode_HD5 8RT', 'client_addresspostcode_HD5 8RX', 'client_addresspostcode_HD5 8RY', 'client_addresspostcode_HD5 8RZ', 'client_addresspostcode_HD5 8SA', 'client_addresspostcode_HD5 8SB', 'client_addresspostcode_HD5 8SE', 'client_addresspostcode_HD5 8SF', 'client_addresspostcode_HD5 8SG', 'client_addresspostcode_HD5 8SH', 'client_addresspostcode_HD5 8SJ', 'client_addresspostcode_HD5 8SL', 'client_addresspostcode_HD5 8SN', 'client_addresspostcode_HD5 8SP', 'client_addresspostcode_HD5 8SR ', 'client_addresspostcode_HD5 8SS', 'client_addresspostcode_HD5 8SW', 'client_addresspostcode_HD5 8SX', 'client_addresspostcode_HD5 8TD', 'client_addresspostcode_HD5 8TD ', 'client_addresspostcode_HD5 8TE', 'client_addresspostcode_HD5 8TF', 'client_addresspostcode_HD5 8TG', 'client_addresspostcode_HD5 8TH', 'client_addresspostcode_HD5 8TL', 'client_addresspostcode_HD5 8TR', 'client_addresspostcode_HD5 8TS', 'client_addresspostcode_HD5 8UE', 'client_addresspostcode_HD5 8US', 'client_addresspostcode_HD5 8UT', 'client_addresspostcode_HD5 8XD', 'client_addresspostcode_HD5 8XF', 'client_addresspostcode_HD5 8XZ', 'client_addresspostcode_HD5 9 HZ', 'client_addresspostcode_HD5 9 NZ', 'client_addresspostcode_HD5 92X', 'client_addresspostcode_HD5 9AE', 'client_addresspostcode_HD5 9AP', 'client_addresspostcode_HD5 9AQ', 'client_addresspostcode_HD5 9AW', 'client_addresspostcode_HD5 9BA', 'client_addresspostcode_HD5 9BE', 'client_addresspostcode_HD5 9BG', 'client_addresspostcode_HD5 9BR', 'client_addresspostcode_HD5 9BX', 'client_addresspostcode_HD5 9BY', 'client_addresspostcode_HD5 9DD', 'client_addresspostcode_HD5 9DF', 'client_addresspostcode_HD5 9DG', 'client_addresspostcode_HD5 9DH', 'client_addresspostcode_HD5 9DP', 'client_addresspostcode_HD5 9DR', 'client_addresspostcode_HD5 9DT', 'client_addresspostcode_HD5 9DW', 'client_addresspostcode_HD5 9E', 'client_addresspostcode_HD5 9EB', 'client_addresspostcode_HD5 9EE', 'client_addresspostcode_HD5 9EX', 'client_addresspostcode_HD5 9FW', 'client_addresspostcode_HD5 9HE', 'client_addresspostcode_HD5 9HF', 'client_addresspostcode_HD5 9HG', 'client_addresspostcode_HD5 9HJ', 'client_addresspostcode_HD5 9HQ', 'client_addresspostcode_HD5 9HS', 'client_addresspostcode_HD5 9HT', 'client_addresspostcode_HD5 9HX', 'client_addresspostcode_HD5 9HY', 'client_addresspostcode_HD5 9HZ', 'client_addresspostcode_HD5 9JA', 'client_addresspostcode_HD5 9JR', 'client_addresspostcode_HD5 9KG', 'client_addresspostcode_HD5 9LA', 'client_addresspostcode_HD5 9LB', 'client_addresspostcode_HD5 9LD', 'client_addresspostcode_HD5 9LE', 'client_addresspostcode_HD5 9LF', 'client_addresspostcode_HD5 9LG', 'client_addresspostcode_HD5 9LG ', 'client_addresspostcode_HD5 9LL', 'client_addresspostcode_HD5 9LP', 'client_addresspostcode_HD5 9LQ', 'client_addresspostcode_HD5 9LS', 'client_addresspostcode_HD5 9LT', 'client_addresspostcode_HD5 9LU', 'client_addresspostcode_HD5 9LU ', 'client_addresspostcode_HD5 9LW', 'client_addresspostcode_HD5 9MP', 'client_addresspostcode_HD5 9NF', 'client_addresspostcode_HD5 9NH', 'client_addresspostcode_HD5 9NJ', 'client_addresspostcode_HD5 9NL', 'client_addresspostcode_HD5 9NN', 'client_addresspostcode_HD5 9NP', 'client_addresspostcode_HD5 9NQ', 'client_addresspostcode_HD5 9NR', 'client_addresspostcode_HD5 9NS', 'client_addresspostcode_HD5 9NT', 'client_addresspostcode_HD5 9NU', 'client_addresspostcode_HD5 9NX', 'client_addresspostcode_HD5 9NY', 'client_addresspostcode_HD5 9NZ', 'client_addresspostcode_HD5 9P2', 'client_addresspostcode_HD5 9PA', 'client_addresspostcode_HD5 9PB', 'client_addresspostcode_HD5 9PC', 'client_addresspostcode_HD5 9PG', 'client_addresspostcode_HD5 9PH', 'client_addresspostcode_HD5 9PJ', 'client_addresspostcode_HD5 9PN', 'client_addresspostcode_HD5 9PP', 'client_addresspostcode_HD5 9PQ', 'client_addresspostcode_HD5 9PW', 'client_addresspostcode_HD5 9QA', 'client_addresspostcode_HD5 9QA ', 'client_addresspostcode_HD5 9QB', 'client_addresspostcode_HD5 9QD', 'client_addresspostcode_HD5 9QE', 'client_addresspostcode_HD5 9QF ', 'client_addresspostcode_HD5 9QJ', 'client_addresspostcode_HD5 9QL', 'client_addresspostcode_HD5 9QN', 'client_addresspostcode_HD5 9QS', 'client_addresspostcode_HD5 9QT', 'client_addresspostcode_HD5 9QU', 'client_addresspostcode_HD5 9QX', 'client_addresspostcode_HD5 9QY', 'client_addresspostcode_HD5 9RA', 'client_addresspostcode_HD5 9RB', 'client_addresspostcode_HD5 9RD', 'client_addresspostcode_HD5 9RE', 'client_addresspostcode_HD5 9RG', 'client_addresspostcode_HD5 9RH', 'client_addresspostcode_HD5 9RN', 'client_addresspostcode_HD5 9RP', 'client_addresspostcode_HD5 9SB', 'client_addresspostcode_HD5 9SG', 'client_addresspostcode_HD5 9SJ', 'client_addresspostcode_HD5 9SN', 'client_addresspostcode_HD5 9SQ', 'client_addresspostcode_HD5 9ST', 'client_addresspostcode_HD5 9SW', 'client_addresspostcode_HD5 9TN', 'client_addresspostcode_HD5 9TP', 'client_addresspostcode_HD5 9TR', 'client_addresspostcode_HD5 9TU', 'client_addresspostcode_HD5 9TX', 'client_addresspostcode_HD5 9TY', 'client_addresspostcode_HD5 9TY ', 'client_addresspostcode_HD5 9UA', 'client_addresspostcode_HD5 9UD', 'client_addresspostcode_HD5 9UG', 'client_addresspostcode_HD5 9UQ', 'client_addresspostcode_HD5 9US', 'client_addresspostcode_HD5 9UX', 'client_addresspostcode_HD5 9XF', 'client_addresspostcode_HD5 9XQ', 'client_addresspostcode_HD5 9XT', 'client_addresspostcode_HD5 9XX', 'client_addresspostcode_HD5 9XY', 'client_addresspostcode_HD5 9YA', 'client_addresspostcode_HD5 9YG', 'client_addresspostcode_HD5 9YQ', 'client_addresspostcode_HD5 9YQ ', 'client_addresspostcode_HD5 9YT', 'client_addresspostcode_HD5 9ZJ', 'client_addresspostcode_HD5 9ZQ', 'client_addresspostcode_HD5 HND', 'client_addresspostcode_HD5 ONF', 'client_addresspostcode_HD50ND', 'client_addresspostcode_HD50RE', 'client_addresspostcode_HD54 5BH', 'client_addresspostcode_HD54FG', 'client_addresspostcode_HD58AF', 'client_addresspostcode_HD58JZ', 'client_addresspostcode_HD58LQ', 'client_addresspostcode_HD58NQ', 'client_addresspostcode_HD58QB', 'client_addresspostcode_HD58SF', 'client_addresspostcode_HD59BX', 'client_addresspostcode_HD59HY', 'client_addresspostcode_HD59JA', 'client_addresspostcode_HD59NP', 'client_addresspostcode_HD59NX', 'client_addresspostcode_HD59PP', 'client_addresspostcode_HD59QA', 'client_addresspostcode_HD59XP', 'client_addresspostcode_HD6 1HZ', 'client_addresspostcode_HD6 1QN', 'client_addresspostcode_HD6 2DE', 'client_addresspostcode_HD6 2EN', 'client_addresspostcode_HD6 3LB', 'client_addresspostcode_HD6 3LJ', 'client_addresspostcode_HD6 3LU', 'client_addresspostcode_HD6 3PL', 'client_addresspostcode_HD6 3QQ', 'client_addresspostcode_HD6 3RQ', 'client_addresspostcode_HD67 6BY', 'client_addresspostcode_HD7', 'client_addresspostcode_HD7 ', 'client_addresspostcode_HD7 4AA', 'client_addresspostcode_HD7 4AL', 'client_addresspostcode_HD7 4AN', 'client_addresspostcode_HD7 4AZ', 'client_addresspostcode_HD7 4BA', 'client_addresspostcode_HD7 4BB', 'client_addresspostcode_HD7 4BD', 'client_addresspostcode_HD7 4BE', 'client_addresspostcode_HD7 4BG', 'client_addresspostcode_HD7 4BN', 'client_addresspostcode_HD7 4BP', 'client_addresspostcode_HD7 4BX', 'client_addresspostcode_HD7 4DE', 'client_addresspostcode_HD7 4DL', 'client_addresspostcode_HD7 4EW', 'client_addresspostcode_HD7 4HT', 'client_addresspostcode_HD7 4HU', 'client_addresspostcode_HD7 4JE', 'client_addresspostcode_HD7 4JY', 'client_addresspostcode_HD7 4LX', 'client_addresspostcode_HD7 4QH', 'client_addresspostcode_HD7 4QN', 'client_addresspostcode_HD7 4QP', 'client_addresspostcode_HD7 4RR', 'client_addresspostcode_HD7 5AF', 'client_addresspostcode_HD7 5AG', 'client_addresspostcode_HD7 5AN', 'client_addresspostcode_HD7 5BN', 'client_addresspostcode_HD7 5BP', 'client_addresspostcode_HD7 5BW', 'client_addresspostcode_HD7 5BY', 'client_addresspostcode_HD7 5DN', 'client_addresspostcode_HD7 5DP', 'client_addresspostcode_HD7 5DW', 'client_addresspostcode_HD7 5DX', 'client_addresspostcode_HD7 5ED', 'client_addresspostcode_HD7 5EG', 'client_addresspostcode_HD7 5EX', 'client_addresspostcode_HD7 5HP', 'client_addresspostcode_HD7 5HQ', 'client_addresspostcode_HD7 5HZ', 'client_addresspostcode_HD7 5JN ', 'client_addresspostcode_HD7 5JX', 'client_addresspostcode_HD7 5LB', 'client_addresspostcode_HD7 5LD', 'client_addresspostcode_HD7 5LD ', 'client_addresspostcode_HD7 5LF', 'client_addresspostcode_HD7 5LG', 'client_addresspostcode_HD7 5LJ', 'client_addresspostcode_HD7 5LL', 'client_addresspostcode_HD7 5LP', 'client_addresspostcode_HD7 5LQ', 'client_addresspostcode_HD7 5LS', 'client_addresspostcode_HD7 5NB', 'client_addresspostcode_HD7 5NG', 'client_addresspostcode_HD7 5NG ', 'client_addresspostcode_HD7 5NL', 'client_addresspostcode_HD7 5NN', 'client_addresspostcode_HD7 5NP', 'client_addresspostcode_HD7 5NT ', 'client_addresspostcode_HD7 5PH', 'client_addresspostcode_HD7 5PS', 'client_addresspostcode_HD7 5PX', 'client_addresspostcode_HD7 5QN', 'client_addresspostcode_HD7 5QQ', 'client_addresspostcode_HD7 5QT', 'client_addresspostcode_HD7 5QT ', 'client_addresspostcode_HD7 5QU', 'client_addresspostcode_HD7 5QY', 'client_addresspostcode_HD7 5RB', 'client_addresspostcode_HD7 5RD', 'client_addresspostcode_HD7 5SR', 'client_addresspostcode_HD7 5TN', 'client_addresspostcode_HD7 5TQ', 'client_addresspostcode_HD7 5UJ', 'client_addresspostcode_HD7 5UW', 'client_addresspostcode_HD7 5XA', 'client_addresspostcode_HD7 6AE', 'client_addresspostcode_HD7 6AJ', 'client_addresspostcode_HD7 6AL', 'client_addresspostcode_HD7 6AP', 'client_addresspostcode_HD7 6AR', 'client_addresspostcode_HD7 6AW', 'client_addresspostcode_HD7 6AY', 'client_addresspostcode_HD7 6BN', 'client_addresspostcode_HD7 6BN ', 'client_addresspostcode_HD7 6BW', 'client_addresspostcode_HD7 6BZ', 'client_addresspostcode_HD7 6DG', 'client_addresspostcode_HD7 6DR', 'client_addresspostcode_HD7 6EL', 'client_addresspostcode_HD7 6ER', 'client_addresspostcode_HD7 6HA', 'client_addresspostcode_HD7 6HB', 'client_addresspostcode_HD7 6HD', 'client_addresspostcode_HD7 6HF', 'client_addresspostcode_HD7 6HL', 'client_addresspostcode_HD7 6HP', 'client_addresspostcode_HD7 6HW', 'client_addresspostcode_HD7 6JJ', 'client_addresspostcode_HD7 6JN', 'client_addresspostcode_HD7 6JX', 'client_addresspostcode_HD7 6JY', 'client_addresspostcode_HD7 6LA', 'client_addresspostcode_HD7 6LB', 'client_addresspostcode_HD7 6UN', 'client_addresspostcode_HD7 7NH', 'client_addresspostcode_HD74LU', 'client_addresspostcode_HD75AQ', 'client_addresspostcode_HD75BF', 'client_addresspostcode_HD75LF', 'client_addresspostcode_HD75NL', 'client_addresspostcode_HD75RD', 'client_addresspostcode_HD8 0AY', 'client_addresspostcode_HD8 0BG', 'client_addresspostcode_HD8 0BJ', 'client_addresspostcode_HD8 0DN', 'client_addresspostcode_HD8 0DT', 'client_addresspostcode_HD8 0DU', 'client_addresspostcode_HD8 0DW', 'client_addresspostcode_HD8 0DY', 'client_addresspostcode_HD8 0EB', 'client_addresspostcode_HD8 0EB ', 'client_addresspostcode_HD8 0EN', 'client_addresspostcode_HD8 0ES', 'client_addresspostcode_HD8 0FX', 'client_addresspostcode_HD8 0HJ', 'client_addresspostcode_HD8 0LF', 'client_addresspostcode_HD8 0QQ', 'client_addresspostcode_HD8 0QS', 'client_addresspostcode_HD8 0RB', 'client_addresspostcode_HD8 0RH', 'client_addresspostcode_HD8 0RN', 'client_addresspostcode_HD8 0RU', 'client_addresspostcode_HD8 0SP', 'client_addresspostcode_HD8 0SS', 'client_addresspostcode_HD8 0ST', 'client_addresspostcode_HD8 0TJ', 'client_addresspostcode_HD8 0TP', 'client_addresspostcode_HD8 0TW', 'client_addresspostcode_HD8 0YE', 'client_addresspostcode_HD8 5PL', 'client_addresspostcode_HD8 6JS', 'client_addresspostcode_HD8 8DQ', 'client_addresspostcode_HD8 8DR', 'client_addresspostcode_HD8 8HL', 'client_addresspostcode_HD8 8HY', 'client_addresspostcode_HD8 8HZ', 'client_addresspostcode_HD8 8JT', 'client_addresspostcode_HD8 8NG', 'client_addresspostcode_HD8 8PP', 'client_addresspostcode_HD8 8PQ', 'client_addresspostcode_HD8 8QD', 'client_addresspostcode_HD8 8RX', 'client_addresspostcode_HD8 8SJ', 'client_addresspostcode_HD8 8SQ', 'client_addresspostcode_HD8 8SU', 'client_addresspostcode_HD8 8UB', 'client_addresspostcode_HD8 8UU', 'client_addresspostcode_HD8 8XH', 'client_addresspostcode_HD8 8YL', 'client_addresspostcode_HD8 9AE', 'client_addresspostcode_HD8 9AT', 'client_addresspostcode_HD8 9AZ', 'client_addresspostcode_HD8 9BA', 'client_addresspostcode_HD8 9BB', 'client_addresspostcode_HD8 9BL', 'client_addresspostcode_HD8 9BR', 'client_addresspostcode_HD8 9DG', 'client_addresspostcode_HD8 9DH', 'client_addresspostcode_HD8 9DN', 'client_addresspostcode_HD8 9DP', 'client_addresspostcode_HD8 9DS', 'client_addresspostcode_HD8 9DU', 'client_addresspostcode_HD8 9DW', 'client_addresspostcode_HD8 9DX', 'client_addresspostcode_HD8 9DY', 'client_addresspostcode_HD8 9EL', 'client_addresspostcode_HD8 9FG', 'client_addresspostcode_HD8 9HP', 'client_addresspostcode_HD8 9HZ', 'client_addresspostcode_HD8 9JA', 'client_addresspostcode_HD8 9JQ', 'client_addresspostcode_HD8 9LF', 'client_addresspostcode_HD8 9LZ', 'client_addresspostcode_HD8 9NJ', 'client_addresspostcode_HD8 9NW', 'client_addresspostcode_HD8 9PD', 'client_addresspostcode_HD8 9PL', 'client_addresspostcode_HD8 9QB', 'client_addresspostcode_HD8 9RE', 'client_addresspostcode_HD8 9RU', 'client_addresspostcode_HD8 9RZ', 'client_addresspostcode_HD8 9XP', 'client_addresspostcode_HD8 DS', 'client_addresspostcode_HD8 OBJ', 'client_addresspostcode_HD8 ODU', 'client_addresspostcode_HD8 OQH', 'client_addresspostcode_HD83 4RL', 'client_addresspostcode_HD88SQ', 'client_addresspostcode_HD89NQ', 'client_addresspostcode_HD9', 'client_addresspostcode_HD9 ', 'client_addresspostcode_HD9 1AE', 'client_addresspostcode_HD9 1EH', 'client_addresspostcode_HD9 1EJ', 'client_addresspostcode_HD9 1EL', 'client_addresspostcode_HD9 1ER', 'client_addresspostcode_HD9 1ET', 'client_addresspostcode_HD9 1EY', 'client_addresspostcode_HD9 1HG', 'client_addresspostcode_HD9 1JL', 'client_addresspostcode_HD9 1LH', 'client_addresspostcode_HD9 1LJ', 'client_addresspostcode_HD9 1LL', 'client_addresspostcode_HD9 1LM', 'client_addresspostcode_HD9 1LN', 'client_addresspostcode_HD9 1LP', 'client_addresspostcode_HD9 1LQ', 'client_addresspostcode_HD9 1LR', 'client_addresspostcode_HD9 1LW', 'client_addresspostcode_HD9 1QP', 'client_addresspostcode_HD9 1QT', 'client_addresspostcode_HD9 1RJ', 'client_addresspostcode_HD9 1RR', 'client_addresspostcode_HD9 1RS', 'client_addresspostcode_HD9 1SW', 'client_addresspostcode_HD9 1SW ', 'client_addresspostcode_HD9 1SZ', 'client_addresspostcode_HD9 1UQ', 'client_addresspostcode_HD9 1XG', 'client_addresspostcode_HD9 2DQ', 'client_addresspostcode_HD9 2JF', 'client_addresspostcode_HD9 2JS', 'client_addresspostcode_HD9 2LY', 'client_addresspostcode_HD9 2NF ', 'client_addresspostcode_HD9 2NJ', 'client_addresspostcode_HD9 2PR', 'client_addresspostcode_HD9 2PW', 'client_addresspostcode_HD9 2PX', 'client_addresspostcode_HD9 2QG', 'client_addresspostcode_HD9 2QX', 'client_addresspostcode_HD9 2TT', 'client_addresspostcode_HD9 3AR', 'client_addresspostcode_HD9 3AS', 'client_addresspostcode_HD9 3BD', 'client_addresspostcode_HD9 3EA', 'client_addresspostcode_HD9 3EB', 'client_addresspostcode_HD9 3EP', 'client_addresspostcode_HD9 3ET', 'client_addresspostcode_HD9 3EW', 'client_addresspostcode_HD9 3HW', 'client_addresspostcode_HD9 3JE', 'client_addresspostcode_HD9 3JH', 'client_addresspostcode_HD9 3TT', 'client_addresspostcode_HD9 3UG', 'client_addresspostcode_HD9 4AS', 'client_addresspostcode_HD9 4AW', 'client_addresspostcode_HD9 4AZ', 'client_addresspostcode_HD9 4EL', 'client_addresspostcode_HD9 4ET', 'client_addresspostcode_HD9 4HE', 'client_addresspostcode_HD9 4JG ', 'client_addresspostcode_HD9 4ND', 'client_addresspostcode_HD9 5AA', 'client_addresspostcode_HD9 5AJ', 'client_addresspostcode_HD9 5JG', 'client_addresspostcode_HD9 5JH', 'client_addresspostcode_HD9 5JS', 'client_addresspostcode_HD9 5JT', 'client_addresspostcode_HD9 5LD', 'client_addresspostcode_HD9 5LH', 'client_addresspostcode_HD9 5LS', 'client_addresspostcode_HD9 5LS ', 'client_addresspostcode_HD9 5LT', 'client_addresspostcode_HD9 5NL', 'client_addresspostcode_HD9 5NL ', 'client_addresspostcode_HD9 5NZ', 'client_addresspostcode_HD9 5PB', 'client_addresspostcode_HD9 5PD', 'client_addresspostcode_HD9 5PN', 'client_addresspostcode_HD9 5PZ', 'client_addresspostcode_HD9 5QG', 'client_addresspostcode_HD9 5QX', 'client_addresspostcode_HD9 5QY', 'client_addresspostcode_HD9 5QZ', 'client_addresspostcode_HD9 5RA', 'client_addresspostcode_HD9 5RA ', 'client_addresspostcode_HD9 5RB', 'client_addresspostcode_HD9 5RD', 'client_addresspostcode_HD9 5RD ', 'client_addresspostcode_HD9 5RF', 'client_addresspostcode_HD9 5RG', 'client_addresspostcode_HD9 5RJ', 'client_addresspostcode_HD9 5RQ', 'client_addresspostcode_HD9 5RT', 'client_addresspostcode_HD9 5WS', 'client_addresspostcode_HD9 6AA', 'client_addresspostcode_HD9 6AH', 'client_addresspostcode_HD9 6AL', 'client_addresspostcode_HD9 6AT', 'client_addresspostcode_HD9 6BX', 'client_addresspostcode_HD9 6DD', 'client_addresspostcode_HD9 6DE', 'client_addresspostcode_HD9 6DY', 'client_addresspostcode_HD9 6ET', 'client_addresspostcode_HD9 6HE', 'client_addresspostcode_HD9 6JD', 'client_addresspostcode_HD9 6JQ', 'client_addresspostcode_HD9 6NX', 'client_addresspostcode_HD9 7AA', 'client_addresspostcode_HD9 7AL', 'client_addresspostcode_HD9 7AT', 'client_addresspostcode_HD9 7BA', 'client_addresspostcode_HD9 7ED', 'client_addresspostcode_HD9 7EE', 'client_addresspostcode_HD9 7HY', 'client_addresspostcode_HD9 7JR', 'client_addresspostcode_HD9 7LF', 'client_addresspostcode_HD9 7LN', 'client_addresspostcode_HD9 7RXZ', 'client_addresspostcode_HD9 7SA', 'client_addresspostcode_HD9 7SR', 'client_addresspostcode_HD9 7ST', 'client_addresspostcode_HD9 7SX', 'client_addresspostcode_HD9 7SX ', 'client_addresspostcode_HD9 7XS', 'client_addresspostcode_HD9 9LG', 'client_addresspostcode_HD91AH', 'client_addresspostcode_HD91LL', 'client_addresspostcode_HD91SW', 'client_addresspostcode_HD93EW', 'client_addresspostcode_HD95RB', 'client_addresspostcode_HDHD1 5NE', 'client_addresspostcode_HDI 9DF', 'client_addresspostcode_HDP 5LS', 'client_addresspostcode_HG5 9UG', 'client_addresspostcode_HS2 1FB', 'client_addresspostcode_HS4 5BD', 'client_addresspostcode_HX2 8QJ', 'client_addresspostcode_HX3 6DB', 'client_addresspostcode_HX4 9EN', 'client_addresspostcode_HX5 0JH', 'client_addresspostcode_HX5 9XQ', 'client_addresspostcode_None', 'client_addresspostcode_PO BOX B68 ', 'client_addresspostcode_S8 7LJ', 'client_addresspostcode_WF', 'client_addresspostcode_WF 12 7TE', 'client_addresspostcode_WF12  0BB', 'client_addresspostcode_WF12 0AW', 'client_addresspostcode_WF12 0DN', 'client_addresspostcode_WF12 0DZ', 'client_addresspostcode_WF12 0JY', 'client_addresspostcode_WF12 7SG', 'client_addresspostcode_WF12 7SR', 'client_addresspostcode_WF12 7SS', 'client_addresspostcode_WF12 8BN', 'client_addresspostcode_WF12 8PF', 'client_addresspostcode_WF12 9EU', 'client_addresspostcode_WF12 9HF', 'client_addresspostcode_WF12 9HL', 'client_addresspostcode_WF122HL', 'client_addresspostcode_WF13 1AR', 'client_addresspostcode_WF13 1LJ', 'client_addresspostcode_WF13 1PE', 'client_addresspostcode_WF13 2AG', 'client_addresspostcode_WF13 2JX', 'client_addresspostcode_WF13 2QD', 'client_addresspostcode_WF13 2QQ', 'client_addresspostcode_WF13 2SE', 'client_addresspostcode_WF13 2TW', 'client_addresspostcode_WF13 3AE ', 'client_addresspostcode_WF13 3AX', 'client_addresspostcode_WF13 3AZ', 'client_addresspostcode_WF13 3DG', 'client_addresspostcode_WF13 3EA', 'client_addresspostcode_WF13 3EZ', 'client_addresspostcode_WF13 3HS', 'client_addresspostcode_WF13 3JD', 'client_addresspostcode_WF13 3JR', 'client_addresspostcode_WF13 3NS', 'client_addresspostcode_WF13 3QA', 'client_addresspostcode_WF13 3QX', 'client_addresspostcode_WF13 4DZ', 'client_addresspostcode_WF13 4PH', 'client_addresspostcode_WF13 4QN', 'client_addresspostcode_WF13 7QH', 'client_addresspostcode_WF133BS', 'client_addresspostcode_WF133PB', 'client_addresspostcode_WF13EA', 'client_addresspostcode_WF14  8LS', 'client_addresspostcode_WF14  9PX', 'client_addresspostcode_WF14 0BD', 'client_addresspostcode_WF14 0EN', 'client_addresspostcode_WF14 0LN', 'client_addresspostcode_WF14 0NA', 'client_addresspostcode_WF14 0QT', 'client_addresspostcode_WF14 5RS', 'client_addresspostcode_WF14 8DD', 'client_addresspostcode_WF14 8DF', 'client_addresspostcode_WF14 8LD', 'client_addresspostcode_WF14 8MR', 'client_addresspostcode_WF14 8NS', 'client_addresspostcode_WF14 8NU', 'client_addresspostcode_WF14 9BB', 'client_addresspostcode_WF14 9ER', 'client_addresspostcode_WF14 9ES', 'client_addresspostcode_WF14 9QB', 'client_addresspostcode_WF14 9QF', 'client_addresspostcode_WF15 6AB', 'client_addresspostcode_WF15 6NJ', 'client_addresspostcode_WF15 7DG', 'client_addresspostcode_WF15 7EJ', 'client_addresspostcode_WF15 7ET', 'client_addresspostcode_WF15 7EZ', 'client_addresspostcode_WF15 7HB', 'client_addresspostcode_WF15 7HF', 'client_addresspostcode_WF15 7HJ', 'client_addresspostcode_WF15 7JL', 'client_addresspostcode_WF15 7JS', 'client_addresspostcode_WF15 7PN', 'client_addresspostcode_WF15 8DH', 'client_addresspostcode_WF15 8DL', 'client_addresspostcode_WF15 8HP', 'client_addresspostcode_WF15 8JE', 'client_addresspostcode_WF15 8LF', 'client_addresspostcode_WF15 8ND', 'client_addresspostcode_WF16', 'client_addresspostcode_WF16 0AG', 'client_addresspostcode_WF16 5ES', 'client_addresspostcode_WF16 9BD', 'client_addresspostcode_WF16 9DY', 'client_addresspostcode_WF16 9LP', 'client_addresspostcode_WF16 9QR', 'client_addresspostcode_WF17', 'client_addresspostcode_WF17 0EY', 'client_addresspostcode_WF17 0JL', 'client_addresspostcode_WF17 0JW', 'client_addresspostcode_WF17 5DH', 'client_addresspostcode_WF17 5QS', 'client_addresspostcode_WF17 6AE', 'client_addresspostcode_WF17 6AF', 'client_addresspostcode_WF17 6PS', 'client_addresspostcode_WF17 7HJ', 'client_addresspostcode_WF17 7JS', 'client_addresspostcode_WF17 7LH', 'client_addresspostcode_WF17 7LP', 'client_addresspostcode_WF17 7QP', 'client_addresspostcode_WF17 8EE', 'client_addresspostcode_WF17 8HF', 'client_addresspostcode_WF17 8JT', 'client_addresspostcode_WF17 9BH', 'client_addresspostcode_WF17 9DQ', 'client_addresspostcode_WF17 9EU', 'client_addresspostcode_WF17 9JG', 'client_addresspostcode_WF4 4AA', 'client_addresspostcode_WF4 4AD', 'client_addresspostcode_WF4 4AE', 'client_addresspostcode_WF4 4DH', 'client_addresspostcode_WF4 4DJ', 'client_addresspostcode_WF4 4DZ', 'client_addresspostcode_WF4 4EB', 'client_addresspostcode_WF4 4EH', 'client_addresspostcode_WF4 4EL ', 'client_addresspostcode_WF44AT', 'client_addresspostcode_WS13 3AY', 'client_addresslocalityid_1', 'client_addresslocalityid_10', 'client_addresslocalityid_100', 'client_addresslocalityid_101', 'client_addresslocalityid_102', 'client_addresslocalityid_103', 'client_addresslocalityid_105', 'client_addresslocalityid_107', 'client_addresslocalityid_108', 'client_addresslocalityid_109', 'client_addresslocalityid_11', 'client_addresslocalityid_110', 'client_addresslocalityid_111', 'client_addresslocalityid_112', 'client_addresslocalityid_115', 'client_addresslocalityid_116', 'client_addresslocalityid_117', 'client_addresslocalityid_119', 'client_addresslocalityid_12', 'client_addresslocalityid_120', 'client_addresslocalityid_121', 'client_addresslocalityid_124', 'client_addresslocalityid_125', 'client_addresslocalityid_128', 'client_addresslocalityid_130', 'client_addresslocalityid_131', 'client_addresslocalityid_133', 'client_addresslocalityid_134', 'client_addresslocalityid_135', 'client_addresslocalityid_136', 'client_addresslocalityid_137', 'client_addresslocalityid_14', 'client_addresslocalityid_140', 'client_addresslocalityid_142', 'client_addresslocalityid_143', 'client_addresslocalityid_145', 'client_addresslocalityid_147', 'client_addresslocalityid_15', 'client_addresslocalityid_151', 'client_addresslocalityid_153', 'client_addresslocalityid_158', 'client_addresslocalityid_168', 'client_addresslocalityid_169', 'client_addresslocalityid_17', 'client_addresslocalityid_18', 'client_addresslocalityid_2', 'client_addresslocalityid_20', 'client_addresslocalityid_26', 'client_addresslocalityid_27', 'client_addresslocalityid_29', 'client_addresslocalityid_3', 'client_addresslocalityid_30', 'client_addresslocalityid_31', 'client_addresslocalityid_32', 'client_addresslocalityid_33', 'client_addresslocalityid_35', 'client_addresslocalityid_36', 'client_addresslocalityid_37', 'client_addresslocalityid_38', 'client_addresslocalityid_42', 'client_addresslocalityid_43', 'client_addresslocalityid_45', 'client_addresslocalityid_47', 'client_addresslocalityid_5', 'client_addresslocalityid_50', 'client_addresslocalityid_51', 'client_addresslocalityid_52', 'client_addresslocalityid_53', 'client_addresslocalityid_55', 'client_addresslocalityid_56', 'client_addresslocalityid_57', 'client_addresslocalityid_58', 'client_addresslocalityid_59', 'client_addresslocalityid_6', 'client_addresslocalityid_61', 'client_addresslocalityid_63', 'client_addresslocalityid_64', 'client_addresslocalityid_67', 'client_addresslocalityid_72', 'client_addresslocalityid_74', 'client_addresslocalityid_75', 'client_addresslocalityid_76', 'client_addresslocalityid_77', 'client_addresslocalityid_79', 'client_addresslocalityid_8', 'client_addresslocalityid_80', 'client_addresslocalityid_82', 'client_addresslocalityid_83', 'client_addresslocalityid_84', 'client_addresslocalityid_85', 'client_addresslocalityid_87', 'client_addresslocalityid_88', 'client_addresslocalityid_89', 'client_addresslocalityid_91', 'client_addresslocalityid_92', 'client_addresslocalityid_93', 'client_addresslocalityid_95', 'client_addresslocalityid_96', 'client_addresslocalityid_98', 'client_addresslocalityid_None', 'client_clientresidencyid_1', 'client_clientresidencyid_2', 'client_clientresidencyid_3', 'client_clientresidencyid_4', 'client_clientresidencyid_5', 'client_clientresidencyid_6', 'client_clientresidencyid_7', 'client_clientresidencyid_None', 'clientissue_1', 'clientissue_2', 'clientissue_3', 'clientissue_4', 'clientissue_5', 'clientissue_6', 'clientissue_7', 'clientissue_8', 'clientissue_9', 'clientissue_10', 'clientissue_11', 'clientissue_12', 'clientissue_13', 'clientissue_14', 'clientissue_15', 'clientissue_16', 'clientissue_17', 'clientissue_18', 'timefeature_dayssincelastreferral', 'timefeature_startofburst', 'timefeature_indexinburst', 'referralissue_1_current', 'referralissue_2_current', 'referralissue_3_current', 'referralissue_4_current', 'referralissue_6_current', 'referralissue_7_current', 'referralissue_8_current', 'referralissue_9_current', 'referralissue_10_current', 'referralissue_11_current', 'referralissue_12_current', 'referralissue_13_current', 'referralissue_14_current', 'referralissue_15_current', 'referralissue_16_current', 'referralissue_17_current', 'referralissue_18_current', 'referraldomesticcircumstances_1_current', 'referraldomesticcircumstances_2_current', 'referraldomesticcircumstances_3_current', 'referraldomesticcircumstances_4_current', 'referraldomesticcircumstances_5_current', 'referraldomesticcircumstances_6_current', 'referralreason_1_current', 'referralreason_3_current', 'referralreason_5_current', 'referralreason_7_current', 'referralreason_8_current', 'referralreason_9_current', 'referralreason_11_current', 'referralreason_12_current', 'referralreason_13_current', 'referralreason_14_current', 'referralreason_16_current', 'referralreason_18_current', 'referralreason_19_current', 'referralreason_21_current', 'referralreason_24_current', 'referralreason_25_current', 'referralreason_26_current', 'referralreason_27_current', 'referralreason_28_current', 'referralreason_29_current', 'referralreason_30_current', 'referralreason_31_current', 'referralreason_32_current', 'referralreason_33_current', 'referralreason_34_current', 'referralreason_35_current', 'referralreason_36_current', 'referralreason_37_current', 'referralreason_38_current', 'referralreason_39_current', 'referralreason_40_current', 'referralreason_41_current', 'referralreason_42_current', 'referralreason_43_current', 'referralreason_44_current', 'referralreason_45_current', 'referralreason_46_current', 'referralreason_47_current', 'referralreason_48_current', 'referralreason_49_current', 'referralreason_51_current', 'referralreason_52_current', 'referralreason_53_current', 'referralreason_54_current', 'referralreason_55_current', 'referralreason_56_current', 'referralreason_57_current', 'referralreason_58_current', 'referralreason_59_current', 'referralreason_60_current', 'referralbenefit_1_current', 'referralbenefit_2_current', 'referralbenefit_3_current', 'referralbenefit_4_current', 'referralbenefit_5_current', 'referralbenefit_6_current', 'referralbenefit_7_current', 'referralbenefit_8_current', 'referralbenefit_9_current', 'referralbenefit_10_current', 'referralbenefit_11_current', 'referralbenefit_12_current', 'referralbenefit_13_current', 'referralbenefit_14_current', 'referralbenefit_15_current', 'referralissue_1_ever', 'referralissue_2_ever', 'referralissue_3_ever', 'referralissue_4_ever', 'referralissue_6_ever', 'referralissue_7_ever', 'referralissue_8_ever', 'referralissue_9_ever', 'referralissue_10_ever', 'referralissue_11_ever', 'referralissue_12_ever', 'referralissue_13_ever', 'referralissue_14_ever', 'referralissue_15_ever', 'referralissue_16_ever', 'referralissue_17_ever', 'referralissue_18_ever', 'referraldomesticcircumstances_1_ever', 'referraldomesticcircumstances_2_ever', 'referraldomesticcircumstances_3_ever', 'referraldomesticcircumstances_4_ever', 'referraldomesticcircumstances_5_ever', 'referraldomesticcircumstances_6_ever', 'referralreason_1_ever', 'referralreason_3_ever', 'referralreason_5_ever', 'referralreason_7_ever', 'referralreason_8_ever', 'referralreason_9_ever', 'referralreason_11_ever', 'referralreason_12_ever', 'referralreason_13_ever', 'referralreason_14_ever', 'referralreason_16_ever', 'referralreason_18_ever', 'referralreason_19_ever', 'referralreason_21_ever', 'referralreason_24_ever', 'referralreason_25_ever', 'referralreason_26_ever', 'referralreason_27_ever', 'referralreason_28_ever', 'referralreason_29_ever', 'referralreason_30_ever', 'referralreason_31_ever', 'referralreason_32_ever', 'referralreason_33_ever', 'referralreason_34_ever', 'referralreason_35_ever', 'referralreason_36_ever', 'referralreason_37_ever', 'referralreason_38_ever', 'referralreason_39_ever', 'referralreason_40_ever', 'referralreason_41_ever', 'referralreason_42_ever', 'referralreason_43_ever', 'referralreason_44_ever', 'referralreason_45_ever', 'referralreason_46_ever', 'referralreason_47_ever', 'referralreason_48_ever', 'referralreason_49_ever', 'referralreason_51_ever', 'referralreason_52_ever', 'referralreason_53_ever', 'referralreason_54_ever', 'referralreason_55_ever', 'referralreason_56_ever', 'referralreason_57_ever', 'referralreason_58_ever', 'referralreason_59_ever', 'referralreason_60_ever', 'referralbenefit_1_ever', 'referralbenefit_2_ever', 'referralbenefit_3_ever', 'referralbenefit_4_ever', 'referralbenefit_5_ever', 'referralbenefit_6_ever', 'referralbenefit_7_ever', 'referralbenefit_8_ever', 'referralbenefit_9_ever', 'referralbenefit_10_ever', 'referralbenefit_11_ever', 'referralbenefit_12_ever', 'referralbenefit_13_ever', 'referralbenefit_14_ever', 'referralbenefit_15_ever']\n"
     ]
    }
   ],
   "source": [
    "print(list(X5.columns))"
   ]
  },
  {
   "cell_type": "code",
   "execution_count": 32,
   "metadata": {},
   "outputs": [
    {
     "name": "stdout",
     "output_type": "stream",
     "text": [
      "['referral_dependantnumber', 'referral_livingwithpartner', 'referral_referralpreparedworkerid', 'referraldietaryrequirements_1', 'referraldietaryrequirements_2', 'referraldietaryrequirements_3', 'referraldietaryrequirements_4', 'referraldietaryrequirements_5', 'referraldietaryrequirements_6', 'referraldietaryrequirements_7', 'referraldietaryrequirements_8', 'referraldietaryrequirements_9', 'referraldietaryrequirements_10', 'referraldietaryrequirements_11', 'referraldietaryrequirements_12', 'referraldocument_1', 'referraldocument_2', 'referraldocument_3', 'referraldocument_4', 'referraldocument_5', 'client_age', 'client_addresslength', 'client_clientismale', 'client_knownpartner', 'client_clientcountryid_1', 'client_clientcountryid_10', 'client_clientcountryid_11', 'client_clientcountryid_12', 'client_clientcountryid_13', 'client_clientcountryid_14', 'client_clientcountryid_15', 'client_clientcountryid_16', 'client_clientcountryid_17', 'client_clientcountryid_18', 'client_clientcountryid_19', 'client_clientcountryid_2', 'client_clientcountryid_20', 'client_clientcountryid_21', 'client_clientcountryid_22', 'client_clientcountryid_23', 'client_clientcountryid_24', 'client_clientcountryid_25', 'client_clientcountryid_26', 'client_clientcountryid_27', 'client_clientcountryid_28', 'client_clientcountryid_29', 'client_clientcountryid_3', 'client_clientcountryid_30', 'client_clientcountryid_4', 'client_clientcountryid_5', 'client_clientcountryid_6', 'client_clientcountryid_7', 'client_clientcountryid_8', 'client_clientcountryid_9', 'client_clientcountryid_None', 'client_clientaddresstypeid_1', 'client_clientaddresstypeid_2', 'client_clientaddresstypeid_3', 'client_clientaddresstypeid_4', 'client_clientaddresstypeid_5', 'client_clientaddresstypeid_6', 'client_clientaddresstypeid_7', 'client_clientaddresstypeid_8', 'client_clientaddresstypeid_None', 'client_addresspostcode_  HD4', 'client_addresspostcode_4QW', 'client_addresspostcode_BD19 ', 'client_addresspostcode_BD4 6', 'client_addresspostcode_BD6 3', 'client_addresspostcode_DF16 ', 'client_addresspostcode_FY1', 'client_addresspostcode_H', 'client_addresspostcode_HD', 'client_addresspostcode_HD 5 ', 'client_addresspostcode_HD! 3', 'client_addresspostcode_HD! 5', 'client_addresspostcode_HD$ 6', 'client_addresspostcode_HD& 4', 'client_addresspostcode_HD1', 'client_addresspostcode_HD1 ', 'client_addresspostcode_HD1  ', 'client_addresspostcode_HD1 0', 'client_addresspostcode_HD1 1', 'client_addresspostcode_HD1 2', 'client_addresspostcode_HD1 3', 'client_addresspostcode_HD1 4', 'client_addresspostcode_HD1 5', 'client_addresspostcode_HD1 6', 'client_addresspostcode_HD1 9', 'client_addresspostcode_HD13E', 'client_addresspostcode_HD13F', 'client_addresspostcode_HD13H', 'client_addresspostcode_HD13J', 'client_addresspostcode_HD13N', 'client_addresspostcode_HD13P', 'client_addresspostcode_HD13R', 'client_addresspostcode_HD13T', 'client_addresspostcode_HD13U', 'client_addresspostcode_HD14B', 'client_addresspostcode_HD14D', 'client_addresspostcode_HD14L', 'client_addresspostcode_HD14Q', 'client_addresspostcode_HD14R', 'client_addresspostcode_HD14S', 'client_addresspostcode_HD14T', 'client_addresspostcode_HD14U', 'client_addresspostcode_HD15A', 'client_addresspostcode_HD15B', 'client_addresspostcode_HD15D', 'client_addresspostcode_HD15E', 'client_addresspostcode_HD15N', 'client_addresspostcode_HD15Q', 'client_addresspostcode_HD16A', 'client_addresspostcode_HD16B', 'client_addresspostcode_HD16D', 'client_addresspostcode_HD16E', 'client_addresspostcode_HD16J', 'client_addresspostcode_HD16N', 'client_addresspostcode_HD16P', 'client_addresspostcode_HD1BS', 'client_addresspostcode_HD2', 'client_addresspostcode_HD2 ', 'client_addresspostcode_HD2  ', 'client_addresspostcode_HD2 1', 'client_addresspostcode_HD2 2', 'client_addresspostcode_HD2 3', 'client_addresspostcode_HD2 4', 'client_addresspostcode_HD21 ', 'client_addresspostcode_HD21A', 'client_addresspostcode_HD21B', 'client_addresspostcode_HD21D', 'client_addresspostcode_HD21E', 'client_addresspostcode_HD21G', 'client_addresspostcode_HD21H', 'client_addresspostcode_HD21J', 'client_addresspostcode_HD21L', 'client_addresspostcode_HD21R', 'client_addresspostcode_HD21S', 'client_addresspostcode_HD21U', 'client_addresspostcode_HD21Y', 'client_addresspostcode_HD22A', 'client_addresspostcode_HD22P', 'client_addresspostcode_HD22Q', 'client_addresspostcode_HD22U', 'client_addresspostcode_HD22Y', 'client_addresspostcode_HD3', 'client_addresspostcode_HD3 1', 'client_addresspostcode_HD3 3', 'client_addresspostcode_HD3 4', 'client_addresspostcode_HD3 5', 'client_addresspostcode_HD3 R', 'client_addresspostcode_HD33B', 'client_addresspostcode_HD33E', 'client_addresspostcode_HD34A', 'client_addresspostcode_HD34E', 'client_addresspostcode_HD34F', 'client_addresspostcode_HD34L', 'client_addresspostcode_HD34P', 'client_addresspostcode_HD34R', 'client_addresspostcode_HD34S', 'client_addresspostcode_HD4', 'client_addresspostcode_HD4 ', 'client_addresspostcode_HD4  ', 'client_addresspostcode_HD4 &', 'client_addresspostcode_HD4 3', 'client_addresspostcode_HD4 4', 'client_addresspostcode_HD4 5', 'client_addresspostcode_HD4 6', 'client_addresspostcode_HD4 7', 'client_addresspostcode_HD4 8', 'client_addresspostcode_HD4 9', 'client_addresspostcode_HD45B', 'client_addresspostcode_HD45D', 'client_addresspostcode_HD45E', 'client_addresspostcode_HD45H', 'client_addresspostcode_HD45N', 'client_addresspostcode_HD45R', 'client_addresspostcode_HD45S', 'client_addresspostcode_HD46A', 'client_addresspostcode_HD46E', 'client_addresspostcode_HD46H', 'client_addresspostcode_HD46J', 'client_addresspostcode_HD46L', 'client_addresspostcode_HD46N', 'client_addresspostcode_HD46Q', 'client_addresspostcode_HD47N', 'client_addresspostcode_HD47P', 'client_addresspostcode_HD47Q', 'client_addresspostcode_HD47W', 'client_addresspostcode_HD5', 'client_addresspostcode_HD5 ', 'client_addresspostcode_HD5  ', 'client_addresspostcode_HD5 (', 'client_addresspostcode_HD5 0', 'client_addresspostcode_HD5 1', 'client_addresspostcode_HD5 5', 'client_addresspostcode_HD5 6', 'client_addresspostcode_HD5 8', 'client_addresspostcode_HD5 9', 'client_addresspostcode_HD50N', 'client_addresspostcode_HD50P', 'client_addresspostcode_HD50R', 'client_addresspostcode_HD54 ', 'client_addresspostcode_HD54F', 'client_addresspostcode_HD58A', 'client_addresspostcode_HD58J', 'client_addresspostcode_HD58L', 'client_addresspostcode_HD58N', 'client_addresspostcode_HD58S', 'client_addresspostcode_HD59H', 'client_addresspostcode_HD59J', 'client_addresspostcode_HD59N', 'client_addresspostcode_HD59P', 'client_addresspostcode_HD59Q', 'client_addresspostcode_HD6 2', 'client_addresspostcode_HD6 3', 'client_addresspostcode_HD7', 'client_addresspostcode_HD7 ', 'client_addresspostcode_HD7 4', 'client_addresspostcode_HD7 5', 'client_addresspostcode_HD7 6', 'client_addresspostcode_HD7 7', 'client_addresspostcode_HD74L', 'client_addresspostcode_HD75A', 'client_addresspostcode_HD75B', 'client_addresspostcode_HD75L', 'client_addresspostcode_HD75N', 'client_addresspostcode_HD75R', 'client_addresspostcode_HD8 0', 'client_addresspostcode_HD8 6', 'client_addresspostcode_HD8 8', 'client_addresspostcode_HD8 9', 'client_addresspostcode_HD8 D', 'client_addresspostcode_HD8 O', 'client_addresspostcode_HD83 ', 'client_addresspostcode_HD89N', 'client_addresspostcode_HD9', 'client_addresspostcode_HD9 1', 'client_addresspostcode_HD9 2', 'client_addresspostcode_HD9 3', 'client_addresspostcode_HD9 4', 'client_addresspostcode_HD9 5', 'client_addresspostcode_HD9 6', 'client_addresspostcode_HD9 7', 'client_addresspostcode_HD9 9', 'client_addresspostcode_HD91A', 'client_addresspostcode_HD91S', 'client_addresspostcode_HD95R', 'client_addresspostcode_HDHD1', 'client_addresspostcode_HDP 5', 'client_addresspostcode_HS4 5', 'client_addresspostcode_HX2 8', 'client_addresspostcode_HX3 6', 'client_addresspostcode_HX4 9', 'client_addresspostcode_HX5 9', 'client_addresspostcode_None', 'client_addresspostcode_PO BO', 'client_addresspostcode_S8 7L', 'client_addresspostcode_WF', 'client_addresspostcode_WF12 ', 'client_addresspostcode_WF122', 'client_addresspostcode_WF13 ', 'client_addresspostcode_WF133', 'client_addresspostcode_WF13E', 'client_addresspostcode_WF14 ', 'client_addresspostcode_WF15 ', 'client_addresspostcode_WF16', 'client_addresspostcode_WF16 ', 'client_addresspostcode_WF17', 'client_addresspostcode_WF17 ', 'client_addresspostcode_WF4 4', 'client_addresspostcode_WF44A', 'client_addresspostcode_WS13 ', 'client_addresslocalityid_1', 'client_addresslocalityid_10', 'client_addresslocalityid_100', 'client_addresslocalityid_101', 'client_addresslocalityid_102', 'client_addresslocalityid_105', 'client_addresslocalityid_107', 'client_addresslocalityid_108', 'client_addresslocalityid_109', 'client_addresslocalityid_11', 'client_addresslocalityid_110', 'client_addresslocalityid_111', 'client_addresslocalityid_112', 'client_addresslocalityid_116', 'client_addresslocalityid_117', 'client_addresslocalityid_119', 'client_addresslocalityid_120', 'client_addresslocalityid_121', 'client_addresslocalityid_124', 'client_addresslocalityid_125', 'client_addresslocalityid_128', 'client_addresslocalityid_130', 'client_addresslocalityid_133', 'client_addresslocalityid_134', 'client_addresslocalityid_135', 'client_addresslocalityid_136', 'client_addresslocalityid_137', 'client_addresslocalityid_14', 'client_addresslocalityid_140', 'client_addresslocalityid_142', 'client_addresslocalityid_143', 'client_addresslocalityid_147', 'client_addresslocalityid_15', 'client_addresslocalityid_151', 'client_addresslocalityid_158', 'client_addresslocalityid_169', 'client_addresslocalityid_17', 'client_addresslocalityid_18', 'client_addresslocalityid_2', 'client_addresslocalityid_20', 'client_addresslocalityid_26', 'client_addresslocalityid_27', 'client_addresslocalityid_29', 'client_addresslocalityid_3', 'client_addresslocalityid_30', 'client_addresslocalityid_32', 'client_addresslocalityid_33', 'client_addresslocalityid_35', 'client_addresslocalityid_36', 'client_addresslocalityid_37', 'client_addresslocalityid_38', 'client_addresslocalityid_42', 'client_addresslocalityid_43', 'client_addresslocalityid_45', 'client_addresslocalityid_47', 'client_addresslocalityid_5', 'client_addresslocalityid_50', 'client_addresslocalityid_51', 'client_addresslocalityid_52', 'client_addresslocalityid_53', 'client_addresslocalityid_55', 'client_addresslocalityid_56', 'client_addresslocalityid_57', 'client_addresslocalityid_58', 'client_addresslocalityid_59', 'client_addresslocalityid_6', 'client_addresslocalityid_61', 'client_addresslocalityid_63', 'client_addresslocalityid_64', 'client_addresslocalityid_72', 'client_addresslocalityid_74', 'client_addresslocalityid_75', 'client_addresslocalityid_76', 'client_addresslocalityid_77', 'client_addresslocalityid_79', 'client_addresslocalityid_8', 'client_addresslocalityid_80', 'client_addresslocalityid_82', 'client_addresslocalityid_83', 'client_addresslocalityid_84', 'client_addresslocalityid_85', 'client_addresslocalityid_87', 'client_addresslocalityid_88', 'client_addresslocalityid_89', 'client_addresslocalityid_91', 'client_addresslocalityid_92', 'client_addresslocalityid_93', 'client_addresslocalityid_95', 'client_addresslocalityid_96', 'client_addresslocalityid_98', 'client_addresslocalityid_None', 'client_clientresidencyid_1', 'client_clientresidencyid_2', 'client_clientresidencyid_3', 'client_clientresidencyid_4', 'client_clientresidencyid_5', 'client_clientresidencyid_6', 'client_clientresidencyid_7', 'client_clientresidencyid_None', 'clientissue_1', 'clientissue_2', 'clientissue_3', 'clientissue_4', 'clientissue_6', 'clientissue_7', 'clientissue_8', 'clientissue_9', 'clientissue_10', 'clientissue_11', 'clientissue_12', 'clientissue_13', 'clientissue_15', 'clientissue_16', 'clientissue_17', 'clientissue_18', 'timefeature_dayssincelastreferral', 'timefeature_startofburst', 'timefeature_indexinburst', 'referralissue_1_current', 'referralissue_2_current', 'referralissue_3_current', 'referralissue_4_current', 'referralissue_6_current', 'referralissue_7_current', 'referralissue_8_current', 'referralissue_9_current', 'referralissue_10_current', 'referralissue_11_current', 'referralissue_12_current', 'referralissue_13_current', 'referralissue_14_current', 'referralissue_15_current', 'referralissue_16_current', 'referralissue_17_current', 'referralissue_18_current', 'referraldomesticcircumstances_1_current', 'referraldomesticcircumstances_2_current', 'referraldomesticcircumstances_3_current', 'referraldomesticcircumstances_4_current', 'referraldomesticcircumstances_5_current', 'referraldomesticcircumstances_6_current', 'referralreason_1_current', 'referralreason_3_current', 'referralreason_5_current', 'referralreason_7_current', 'referralreason_8_current', 'referralreason_9_current', 'referralreason_11_current', 'referralreason_12_current', 'referralreason_13_current', 'referralreason_14_current', 'referralreason_16_current', 'referralreason_18_current', 'referralreason_19_current', 'referralreason_21_current', 'referralreason_24_current', 'referralreason_25_current', 'referralreason_26_current', 'referralreason_27_current', 'referralreason_28_current', 'referralreason_29_current', 'referralreason_30_current', 'referralreason_31_current', 'referralreason_32_current', 'referralreason_33_current', 'referralreason_34_current', 'referralreason_35_current', 'referralreason_36_current', 'referralreason_37_current', 'referralreason_38_current', 'referralreason_39_current', 'referralreason_40_current', 'referralreason_41_current', 'referralreason_42_current', 'referralreason_43_current', 'referralreason_44_current', 'referralreason_45_current', 'referralreason_46_current', 'referralreason_47_current', 'referralreason_48_current', 'referralreason_49_current', 'referralreason_51_current', 'referralreason_52_current', 'referralreason_53_current', 'referralreason_54_current', 'referralreason_55_current', 'referralreason_56_current', 'referralreason_57_current', 'referralreason_58_current', 'referralreason_59_current', 'referralbenefit_1_current', 'referralbenefit_2_current', 'referralbenefit_3_current', 'referralbenefit_4_current', 'referralbenefit_5_current', 'referralbenefit_6_current', 'referralbenefit_7_current', 'referralbenefit_8_current', 'referralbenefit_9_current', 'referralbenefit_10_current', 'referralbenefit_11_current', 'referralbenefit_12_current', 'referralbenefit_13_current', 'referralbenefit_14_current', 'referralbenefit_15_current', 'referralissue_1_ever', 'referralissue_2_ever', 'referralissue_3_ever', 'referralissue_4_ever', 'referralissue_6_ever', 'referralissue_7_ever', 'referralissue_8_ever', 'referralissue_9_ever', 'referralissue_10_ever', 'referralissue_11_ever', 'referralissue_12_ever', 'referralissue_13_ever', 'referralissue_14_ever', 'referralissue_15_ever', 'referralissue_16_ever', 'referralissue_17_ever', 'referralissue_18_ever', 'referraldomesticcircumstances_1_ever', 'referraldomesticcircumstances_2_ever', 'referraldomesticcircumstances_3_ever', 'referraldomesticcircumstances_4_ever', 'referraldomesticcircumstances_5_ever', 'referraldomesticcircumstances_6_ever', 'referralreason_1_ever', 'referralreason_3_ever', 'referralreason_5_ever', 'referralreason_7_ever', 'referralreason_8_ever', 'referralreason_9_ever', 'referralreason_11_ever', 'referralreason_12_ever', 'referralreason_13_ever', 'referralreason_14_ever', 'referralreason_16_ever', 'referralreason_18_ever', 'referralreason_19_ever', 'referralreason_21_ever', 'referralreason_24_ever', 'referralreason_25_ever', 'referralreason_26_ever', 'referralreason_27_ever', 'referralreason_28_ever', 'referralreason_29_ever', 'referralreason_30_ever', 'referralreason_31_ever', 'referralreason_32_ever', 'referralreason_33_ever', 'referralreason_34_ever', 'referralreason_35_ever', 'referralreason_36_ever', 'referralreason_37_ever', 'referralreason_38_ever', 'referralreason_39_ever', 'referralreason_40_ever', 'referralreason_41_ever', 'referralreason_42_ever', 'referralreason_43_ever', 'referralreason_44_ever', 'referralreason_45_ever', 'referralreason_46_ever', 'referralreason_47_ever', 'referralreason_48_ever', 'referralreason_49_ever', 'referralreason_51_ever', 'referralreason_52_ever', 'referralreason_53_ever', 'referralreason_54_ever', 'referralreason_55_ever', 'referralreason_56_ever', 'referralreason_57_ever', 'referralreason_58_ever', 'referralreason_59_ever', 'referralbenefit_1_ever', 'referralbenefit_2_ever', 'referralbenefit_3_ever', 'referralbenefit_4_ever', 'referralbenefit_5_ever', 'referralbenefit_6_ever', 'referralbenefit_7_ever', 'referralbenefit_8_ever', 'referralbenefit_9_ever', 'referralbenefit_10_ever', 'referralbenefit_11_ever', 'referralbenefit_12_ever', 'referralbenefit_13_ever', 'referralbenefit_14_ever', 'referralbenefit_15_ever']\n"
     ]
    }
   ],
   "source": [
    "print(list(X4.columns))"
   ]
  },
  {
   "cell_type": "code",
   "execution_count": 221,
   "metadata": {},
   "outputs": [
    {
     "name": "stderr",
     "output_type": "stream",
     "text": [
      "/Users/davidsykes/.virtualenvs/twc/lib/python3.5/site-packages/ipykernel_launcher.py:11: FutureWarning: pd.TimeGrouper is deprecated and will be removed; Please use pd.Grouper(freq=...)\n",
      "  # This is added back by InteractiveShellApp.init_path()\n",
      "/Users/davidsykes/.virtualenvs/twc/lib/python3.5/site-packages/ipykernel_launcher.py:12: FutureWarning: pd.TimeGrouper is deprecated and will be removed; Please use pd.Grouper(freq=...)\n",
      "  if sys.path[0] == '':\n"
     ]
    },
    {
     "data": {
      "text/plain": [
       "spearman    0.443379\n",
       "overlap     0.423071\n",
       "dtype: float64"
      ]
     },
     "execution_count": 221,
     "metadata": {},
     "output_type": "execute_result"
    }
   ],
   "source": [
    "y5_pred = pd.Series(et.predict(X5_test), X5_test.index)\n",
    "test_referral_table_5 = referral_table_5.loc[X5_test.index]\n",
    "evaluate_average_weekly_rank_correlation(test_referral_table_5, y5_test, y5_pred)"
   ]
  },
  {
   "cell_type": "code",
   "execution_count": 236,
   "metadata": {},
   "outputs": [
    {
     "data": {
      "text/plain": [
       "count                     16861\n",
       "mean     0 days 02:28:23.970108\n",
       "std      2 days 12:30:23.903882\n",
       "min             0 days 00:00:00\n",
       "25%             0 days 00:05:00\n",
       "50%             0 days 00:12:00\n",
       "75%             0 days 00:27:00\n",
       "max           322 days 00:00:00\n",
       "Name: referral_referraltakendate, dtype: object"
      ]
     },
     "execution_count": 236,
     "metadata": {},
     "output_type": "execute_result"
    }
   ],
   "source": [
    "t = split_train_test(X5, y5, referral_table_5, 0.2)[4]\n",
    "t.referral_referraltakendate.diff().describe()"
   ]
  },
  {
   "cell_type": "code",
   "execution_count": 238,
   "metadata": {},
   "outputs": [
    {
     "data": {
      "text/plain": [
       "(21079, 584)"
      ]
     },
     "execution_count": 238,
     "metadata": {},
     "output_type": "execute_result"
    }
   ],
   "source": [
    "X5.shape"
   ]
  },
  {
   "cell_type": "code",
   "execution_count": 239,
   "metadata": {},
   "outputs": [
    {
     "data": {
      "text/plain": [
       "(17980, 593)"
      ]
     },
     "execution_count": 239,
     "metadata": {},
     "output_type": "execute_result"
    }
   ],
   "source": [
    "X1.shape"
   ]
  },
  {
   "cell_type": "code",
   "execution_count": 243,
   "metadata": {},
   "outputs": [
    {
     "data": {
      "text/plain": [
       "Timestamp('2013-01-06 00:00:00')"
      ]
     },
     "execution_count": 243,
     "metadata": {},
     "output_type": "execute_result"
    }
   ],
   "source": [
    "referral_table_5.referral_referraltakendate.min()"
   ]
  },
  {
   "cell_type": "code",
   "execution_count": 245,
   "metadata": {},
   "outputs": [
    {
     "data": {
      "text/plain": [
       "Timestamp('2013-01-06 00:00:00')"
      ]
     },
     "execution_count": 245,
     "metadata": {},
     "output_type": "execute_result"
    }
   ],
   "source": [
    "referral_table_1.referral_referraltakendate.min()"
   ]
  },
  {
   "cell_type": "code",
   "execution_count": 248,
   "metadata": {},
   "outputs": [],
   "source": [
    "new_data = referral_table_5.groupby(referral_table_5.referral_referraltakendate.dt.year).size()"
   ]
  },
  {
   "cell_type": "code",
   "execution_count": 249,
   "metadata": {},
   "outputs": [],
   "source": [
    "old_data = referral_table_1.groupby(referral_table_1.referral_referraltakendate.dt.year).size()"
   ]
  },
  {
   "cell_type": "code",
   "execution_count": 254,
   "metadata": {},
   "outputs": [
    {
     "data": {
      "text/plain": [
       "<matplotlib.axes._subplots.AxesSubplot at 0x11cce1438>"
      ]
     },
     "execution_count": 254,
     "metadata": {},
     "output_type": "execute_result"
    },
    {
     "data": {
      "image/png": "[encoded data removed]",
      "text/plain": [
       "<Figure size 432x288 with 1 Axes>"
      ]
     },
     "metadata": {},
     "output_type": "display_data"
    }
   ],
   "source": [
    "pd.concat([new_data, old_data], axis=1).plot(kind='bar')"
   ]
  },
  {
   "cell_type": "code",
   "execution_count": 255,
   "metadata": {},
   "outputs": [
    {
     "data": {
      "text/plain": [
       "3099"
      ]
     },
     "execution_count": 255,
     "metadata": {},
     "output_type": "execute_result"
    }
   ],
   "source": [
    "new_data.sum() - old_data.sum()"
   ]
  },
  {
   "cell_type": "code",
   "execution_count": 256,
   "metadata": {},
   "outputs": [
    {
     "data": {
      "text/plain": [
       "0.06126116133325939"
      ]
     },
     "execution_count": 256,
     "metadata": {},
     "output_type": "execute_result"
    }
   ],
   "source": [
    "y5_train.mean()"
   ]
  },
  {
   "cell_type": "code",
   "execution_count": 269,
   "metadata": {},
   "outputs": [
    {
     "data": {
      "text/plain": [
       "<matplotlib.axes._subplots.AxesSubplot at 0x139ed0908>"
      ]
     },
     "execution_count": 269,
     "metadata": {},
     "output_type": "execute_result"
    },
    {
     "data": {
      "image/png": "[encoded data removed]",
      "text/plain": [
       "<Figure size 432x288 with 1 Axes>"
      ]
     },
     "metadata": {},
     "output_type": "display_data"
    }
   ],
   "source": [
    "test_y = y5_test.value_counts(normalize=True)\n",
    "train_y = y5_train.value_counts(normalize=True)\n",
    "compare = pd.concat([test_y, train_y], axis=1).head(10)\n",
    "compare.columns = ['test', 'train']\n",
    "compare.plot(kind='bar')"
   ]
  },
  {
   "cell_type": "code",
   "execution_count": 275,
   "metadata": {},
   "outputs": [
    {
     "data": {
      "text/plain": [
       "<matplotlib.axes._subplots.AxesSubplot at 0x1425f60f0>"
      ]
     },
     "execution_count": 275,
     "metadata": {},
     "output_type": "execute_result"
    },
    {
     "data": {
      "image/png": "[encoded data removed]",
      "text/plain": [
       "<Figure size 432x288 with 1 Axes>"
      ]
     },
     "metadata": {},
     "output_type": "display_data"
    }
   ],
   "source": [
    "referral_table_5.loc[X5_test.index]['referral_referraltakendate'].value_counts().sort_index().plot()"
   ]
  },
  {
   "cell_type": "code",
   "execution_count": 259,
   "metadata": {},
   "outputs": [
    {
     "data": {
      "text/plain": [
       "count    15808.000000\n",
       "mean         0.061261\n",
       "std          0.118984\n",
       "min          0.000000\n",
       "25%          0.000000\n",
       "50%          0.019178\n",
       "75%          0.076712\n",
       "max          1.035616\n",
       "Name: futurereferraltargetfeature_futurereferralscore, dtype: float64"
      ]
     },
     "execution_count": 259,
     "metadata": {},
     "output_type": "execute_result"
    }
   ],
   "source": [
    "y5_train.describe()"
   ]
  },
  {
   "cell_type": "code",
   "execution_count": null,
   "metadata": {},
   "outputs": [],
   "source": []
  }
 ],
 "metadata": {
  "kernelspec": {
   "display_name": "Python 3",
   "language": "python",
   "name": "python3"
  },
  "language_info": {
   "codemirror_mode": {
    "name": "ipython",
    "version": 3
   },
   "file_extension": ".py",
   "mimetype": "text/x-python",
   "name": "python",
   "nbconvert_exporter": "python",
   "pygments_lexer": "ipython3",
   "version": "3.5.2"
  }
 },
 "nbformat": 4,
 "nbformat_minor": 2
}
